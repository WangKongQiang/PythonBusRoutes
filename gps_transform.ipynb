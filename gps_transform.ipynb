{
 "cells": [
  {
   "cell_type": "code",
   "execution_count": 1,
   "id": "ceaee674-f127-4fa9-9bff-18e1be7cc70d",
   "metadata": {},
   "outputs": [],
   "source": [
    "import json\n",
    "import urllib\n",
    "import math\n",
    "import pandas as pd \n",
    "import numpy as np"
   ]
  },
  {
   "cell_type": "code",
   "execution_count": 2,
   "id": "94b06eb2-cd08-4f0f-94bf-b602bc49b4ca",
   "metadata": {},
   "outputs": [],
   "source": [
    "x_pi = 3.14159265358979324 * 3000.0 / 180.0\n",
    "pi = 3.1415926535897932384626  # π\n",
    "a = 6378245.0  # 长半轴\n",
    "ee = 0.00669342162296594323  # 偏心率平方"
   ]
  },
  {
   "cell_type": "code",
   "execution_count": 3,
   "id": "7c023733-ae8d-41be-8d5f-2dca6df6398f",
   "metadata": {},
   "outputs": [],
   "source": [
    "def gcj02_to_wgs84(lng, lat):\n",
    "    \"\"\"\n",
    "    GCJ02(火星坐标系)转GPS84\n",
    "    :param lng:火星坐标系的经度\n",
    "    :param lat:火星坐标系纬度\n",
    "    :return:GPS84坐标\n",
    "    \"\"\"\n",
    "    if out_of_china(lng, lat):\n",
    "        return [lng, lat]\n",
    "    dlat = _transformlat(lng - 105.0, lat - 35.0)\n",
    "    dlng = _transformlng(lng - 105.0, lat - 35.0)\n",
    "    radlat = lat / 180.0 * pi\n",
    "    magic = math.sin(radlat)\n",
    "    magic = 1 - ee * magic * magic\n",
    "    sqrtmagic = math.sqrt(magic)\n",
    "    dlat = (dlat * 180.0) / ((a * (1 - ee)) / (magic * sqrtmagic) * pi)\n",
    "    dlng = (dlng * 180.0) / (a / sqrtmagic * math.cos(radlat) * pi)\n",
    "    mglat = lat + dlat\n",
    "    mglng = lng + dlng\n",
    "    return [lng * 2 - mglng, lat * 2 - mglat]"
   ]
  },
  {
   "cell_type": "code",
   "execution_count": 4,
   "id": "1e1d0f8e-1d37-4898-8bd0-9491f69ce290",
   "metadata": {},
   "outputs": [],
   "source": [
    "def _transformlat(lng, lat):\n",
    "    ret = -100.0 + 2.0 * lng + 3.0 * lat + 0.2 * lat * lat + \\\n",
    "          0.1 * lng * lat + 0.2 * math.sqrt(math.fabs(lng))\n",
    "    ret += (20.0 * math.sin(6.0 * lng * pi) + 20.0 *\n",
    "            math.sin(2.0 * lng * pi)) * 2.0 / 3.0\n",
    "    ret += (20.0 * math.sin(lat * pi) + 40.0 *\n",
    "            math.sin(lat / 3.0 * pi)) * 2.0 / 3.0\n",
    "    ret += (160.0 * math.sin(lat / 12.0 * pi) + 320 *\n",
    "            math.sin(lat * pi / 30.0)) * 2.0 / 3.0\n",
    "    return ret\n",
    "\n",
    "\n",
    "def _transformlng(lng, lat):\n",
    "    ret = 300.0 + lng + 2.0 * lat + 0.1 * lng * lng + \\\n",
    "          0.1 * lng * lat + 0.1 * math.sqrt(math.fabs(lng))\n",
    "    ret += (20.0 * math.sin(6.0 * lng * pi) + 20.0 *\n",
    "            math.sin(2.0 * lng * pi)) * 2.0 / 3.0\n",
    "    ret += (20.0 * math.sin(lng * pi) + 40.0 *\n",
    "            math.sin(lng / 3.0 * pi)) * 2.0 / 3.0\n",
    "    ret += (150.0 * math.sin(lng / 12.0 * pi) + 300.0 *\n",
    "            math.sin(lng / 30.0 * pi)) * 2.0 / 3.0\n",
    "    return ret"
   ]
  },
  {
   "cell_type": "code",
   "execution_count": 5,
   "id": "d3453dd2-795d-4a0a-9b03-f80c36d1fac6",
   "metadata": {},
   "outputs": [],
   "source": [
    "def out_of_china(lng, lat):\n",
    "    \"\"\"\n",
    "    判断是否在国内，不在国内不做偏移\n",
    "    :param lng:经度\n",
    "    :param lat:纬度\n",
    "    :return:bool布尔值\n",
    "    \"\"\"\n",
    "    return not (lng > 73.66 and lng < 135.05 and lat > 3.86 and lat < 53.55)"
   ]
  },
  {
   "cell_type": "code",
   "execution_count": 6,
   "id": "08ef918c-cb74-4654-8060-926305be21c0",
   "metadata": {},
   "outputs": [
    {
     "data": {
      "text/plain": [
       "[118.77892757265252, 32.0438602407582]"
      ]
     },
     "execution_count": 6,
     "metadata": {},
     "output_type": "execute_result"
    }
   ],
   "source": [
    "gcj02_to_wgs84(118.784129,32.041806)"
   ]
  },
  {
   "cell_type": "code",
   "execution_count": 7,
   "id": "4df5ee3a-8b77-4a8c-9240-0a2f7c3df36f",
   "metadata": {},
   "outputs": [],
   "source": [
    "df_sts = pd.read_csv('station.csv')"
   ]
  },
  {
   "cell_type": "code",
   "execution_count": 8,
   "id": "eac0267d-4236-4075-bbfc-96055d8bb5ab",
   "metadata": {},
   "outputs": [
    {
     "data": {
      "text/html": [
       "<div>\n",
       "<style scoped>\n",
       "    .dataframe tbody tr th:only-of-type {\n",
       "        vertical-align: middle;\n",
       "    }\n",
       "\n",
       "    .dataframe tbody tr th {\n",
       "        vertical-align: top;\n",
       "    }\n",
       "\n",
       "    .dataframe thead th {\n",
       "        text-align: right;\n",
       "    }\n",
       "</style>\n",
       "<table border=\"1\" class=\"dataframe\">\n",
       "  <thead>\n",
       "    <tr style=\"text-align: right;\">\n",
       "      <th></th>\n",
       "      <th>Unnamed: 0</th>\n",
       "      <th>station_coords</th>\n",
       "      <th>station_names</th>\n",
       "    </tr>\n",
       "  </thead>\n",
       "  <tbody>\n",
       "    <tr>\n",
       "      <th>0</th>\n",
       "      <td>0</td>\n",
       "      <td>'118.777761,31.981484'</td>\n",
       "      <td>阅城国际南门</td>\n",
       "    </tr>\n",
       "  </tbody>\n",
       "</table>\n",
       "</div>"
      ],
      "text/plain": [
       "   Unnamed: 0          station_coords station_names\n",
       "0           0  '118.777761,31.981484'        阅城国际南门"
      ]
     },
     "execution_count": 8,
     "metadata": {},
     "output_type": "execute_result"
    }
   ],
   "source": [
    "df_sts.head(1)"
   ]
  },
  {
   "cell_type": "code",
   "execution_count": 9,
   "id": "fd5d3828-165a-4ba9-aa4d-909b307d71d8",
   "metadata": {},
   "outputs": [
    {
     "data": {
      "text/plain": [
       "'118.777761,31.981484'"
      ]
     },
     "execution_count": 9,
     "metadata": {},
     "output_type": "execute_result"
    }
   ],
   "source": [
    "df_sts['station_coords'][0].replace('\\'','')"
   ]
  },
  {
   "cell_type": "code",
   "execution_count": 10,
   "id": "2a45763e-922e-4762-aa4f-76c3a48f87c5",
   "metadata": {},
   "outputs": [
    {
     "data": {
      "text/plain": [
       "118.777761"
      ]
     },
     "execution_count": 10,
     "metadata": {},
     "output_type": "execute_result"
    }
   ],
   "source": [
    "float(df_sts['station_coords'][0].replace('\\'','').split(',')[0])"
   ]
  },
  {
   "cell_type": "code",
   "execution_count": 11,
   "id": "de7accf3-a6a2-4bc5-b55a-34a3a33d9e53",
   "metadata": {},
   "outputs": [],
   "source": [
    "def st_wgs84(x):\n",
    "    lng=float(x.replace('\\'','').split(',')[0])\n",
    "    lat=float(x.replace('\\'','').split(',')[1])\n",
    "    return gcj02_to_wgs84(lng,lat)"
   ]
  },
  {
   "cell_type": "code",
   "execution_count": 12,
   "id": "7a06c98c-9b55-4162-b3c0-1c38508f8005",
   "metadata": {},
   "outputs": [],
   "source": [
    "df_sts['station_coords_wgs84']= df_sts['station_coords'].apply(st_wgs84)"
   ]
  },
  {
   "cell_type": "code",
   "execution_count": 13,
   "id": "d0b1d19b-1c95-40b8-90e0-ffe26cc99387",
   "metadata": {},
   "outputs": [
    {
     "data": {
      "text/html": [
       "<div>\n",
       "<style scoped>\n",
       "    .dataframe tbody tr th:only-of-type {\n",
       "        vertical-align: middle;\n",
       "    }\n",
       "\n",
       "    .dataframe tbody tr th {\n",
       "        vertical-align: top;\n",
       "    }\n",
       "\n",
       "    .dataframe thead th {\n",
       "        text-align: right;\n",
       "    }\n",
       "</style>\n",
       "<table border=\"1\" class=\"dataframe\">\n",
       "  <thead>\n",
       "    <tr style=\"text-align: right;\">\n",
       "      <th></th>\n",
       "      <th>Unnamed: 0</th>\n",
       "      <th>station_coords</th>\n",
       "      <th>station_names</th>\n",
       "      <th>station_coords_wgs84</th>\n",
       "    </tr>\n",
       "  </thead>\n",
       "  <tbody>\n",
       "    <tr>\n",
       "      <th>0</th>\n",
       "      <td>0</td>\n",
       "      <td>'118.777761,31.981484'</td>\n",
       "      <td>阅城国际南门</td>\n",
       "      <td>[118.77255737606791, 31.98351748799738]</td>\n",
       "    </tr>\n",
       "  </tbody>\n",
       "</table>\n",
       "</div>"
      ],
      "text/plain": [
       "   Unnamed: 0          station_coords station_names  \\\n",
       "0           0  '118.777761,31.981484'        阅城国际南门   \n",
       "\n",
       "                      station_coords_wgs84  \n",
       "0  [118.77255737606791, 31.98351748799738]  "
      ]
     },
     "execution_count": 13,
     "metadata": {},
     "output_type": "execute_result"
    }
   ],
   "source": [
    "df_sts.head(1)"
   ]
  },
  {
   "cell_type": "code",
   "execution_count": 14,
   "id": "a4924356-9195-4fee-9af9-133f3ffd0847",
   "metadata": {},
   "outputs": [],
   "source": [
    "import shapefile"
   ]
  },
  {
   "cell_type": "code",
   "execution_count": 15,
   "id": "6d0081df-2c8a-4c89-a851-575ea914805a",
   "metadata": {},
   "outputs": [
    {
     "data": {
      "text/plain": [
       "[118.77255737606791, 31.98351748799738]"
      ]
     },
     "execution_count": 15,
     "metadata": {},
     "output_type": "execute_result"
    }
   ],
   "source": [
    "df_sts['station_coords_wgs84'][0]"
   ]
  },
  {
   "cell_type": "code",
   "execution_count": 16,
   "id": "5ef80d1b-0846-4004-8b04-08dfa2a1b4cb",
   "metadata": {},
   "outputs": [
    {
     "data": {
      "text/plain": [
       "3007"
      ]
     },
     "execution_count": 16,
     "metadata": {},
     "output_type": "execute_result"
    }
   ],
   "source": [
    "len(df_sts)"
   ]
  },
  {
   "cell_type": "code",
   "execution_count": 17,
   "id": "597fa7b4-3ca6-499a-bccc-8452575f8620",
   "metadata": {},
   "outputs": [],
   "source": [
    "w=shapefile.Writer(r'D:\\PycharmProjects\\pythonProject9\\TransportData\\nanjing_station.shp')\n",
    "w.field('name','C')\n",
    "for i in range(len(df_sts)):\n",
    "    w.point(df_sts['station_coords_wgs84'][i][0],df_sts['station_coords_wgs84'][i][1])\n",
    "    w.record(df_sts['station_names'][i])\n",
    "w.close()"
   ]
  },
  {
   "cell_type": "code",
   "execution_count": 19,
   "id": "7a3c0d0c-7fdb-49f5-91a6-61639e29e134",
   "metadata": {},
   "outputs": [],
   "source": [
    "df_ls = pd.read_json('lines.json')"
   ]
  },
  {
   "cell_type": "code",
   "execution_count": 20,
   "id": "cab646a2-3345-4ff0-adbc-24fdd929b9a6",
   "metadata": {},
   "outputs": [
    {
     "data": {
      "text/html": [
       "<div>\n",
       "<style scoped>\n",
       "    .dataframe tbody tr th:only-of-type {\n",
       "        vertical-align: middle;\n",
       "    }\n",
       "\n",
       "    .dataframe tbody tr th {\n",
       "        vertical-align: top;\n",
       "    }\n",
       "\n",
       "    .dataframe thead th {\n",
       "        text-align: right;\n",
       "    }\n",
       "</style>\n",
       "<table border=\"1\" class=\"dataframe\">\n",
       "  <thead>\n",
       "    <tr style=\"text-align: right;\">\n",
       "      <th></th>\n",
       "      <th>line_name</th>\n",
       "      <th>lines</th>\n",
       "    </tr>\n",
       "  </thead>\n",
       "  <tbody>\n",
       "    <tr>\n",
       "      <th>0</th>\n",
       "      <td>X1路(阅城国际南门--汇康路)</td>\n",
       "      <td>[118.777761,31.981484, 118.777913,31.981501, 1...</td>\n",
       "    </tr>\n",
       "  </tbody>\n",
       "</table>\n",
       "</div>"
      ],
      "text/plain": [
       "          line_name                                              lines\n",
       "0  X1路(阅城国际南门--汇康路)  [118.777761,31.981484, 118.777913,31.981501, 1..."
      ]
     },
     "execution_count": 20,
     "metadata": {},
     "output_type": "execute_result"
    }
   ],
   "source": [
    "df_ls.head(1)"
   ]
  },
  {
   "cell_type": "code",
   "execution_count": 21,
   "id": "a15e6f4c-0e15-4e6c-ba2c-71cf9f71c0d5",
   "metadata": {},
   "outputs": [
    {
     "data": {
      "text/plain": [
       "['118.777761,31.981484',\n",
       " '118.777913,31.981501',\n",
       " '118.77837,31.98156',\n",
       " '118.778766,31.981619',\n",
       " '118.778965,31.981651',\n",
       " '118.779078,31.981673',\n",
       " '118.779442,31.981737',\n",
       " '118.779952,31.981855',\n",
       " '118.780129,31.981898',\n",
       " '118.780392,31.981957',\n",
       " '118.781213,31.982215',\n",
       " '118.782125,31.98259',\n",
       " '118.782511,31.982751',\n",
       " '118.782784,31.982874',\n",
       " '118.783739,31.983276',\n",
       " '118.784179,31.983464',\n",
       " '118.784844,31.983743',\n",
       " '118.784985,31.983802',\n",
       " '118.785241,31.98391',\n",
       " '118.785826,31.984167',\n",
       " '118.786421,31.984425',\n",
       " '118.786502,31.984457',\n",
       " '118.786845,31.984596',\n",
       " '118.787064,31.984688',\n",
       " '118.78743,31.984848',\n",
       " '118.787703,31.984961',\n",
       " '118.78824,31.985186',\n",
       " '118.788342,31.985235',\n",
       " '118.788707,31.985385',\n",
       " '118.789533,31.985739',\n",
       " '118.789656,31.985798',\n",
       " '118.790375,31.986125',\n",
       " '118.790783,31.986308',\n",
       " '118.791469,31.986597',\n",
       " '118.792113,31.986881',\n",
       " '118.792564,31.987085',\n",
       " '118.792687,31.98714',\n",
       " '118.793261,31.987396',\n",
       " '118.793486,31.987498',\n",
       " '118.794178,31.987799',\n",
       " '118.794613,31.987986',\n",
       " '118.79523,31.988233',\n",
       " '118.795289,31.98826',\n",
       " '118.795551,31.988368',\n",
       " '118.796008,31.988555',\n",
       " '118.79619,31.98863',\n",
       " '118.796539,31.988786',\n",
       " '118.797322,31.98914',\n",
       " '118.797747,31.988494',\n",
       " '118.798008,31.988099',\n",
       " '118.798486,31.987396',\n",
       " '118.798765,31.986967',\n",
       " '118.798835,31.986865',\n",
       " '118.799076,31.986592',\n",
       " '118.7992,31.986479',\n",
       " '118.799532,31.985948',\n",
       " '118.79958,31.985878',\n",
       " '118.799768,31.985573',\n",
       " '118.799318,31.985213',\n",
       " '118.798384,31.984548',\n",
       " '118.798046,31.984323',\n",
       " '118.797592,31.983997',\n",
       " '118.797553,31.983974',\n",
       " '118.796598,31.983293',\n",
       " '118.795476,31.982515',\n",
       " '118.795509,31.982284',\n",
       " '118.796244,31.981201',\n",
       " '118.796775,31.980423',\n",
       " '118.797327,31.97964',\n",
       " '118.797488,31.979661',\n",
       " '118.797719,31.979822',\n",
       " '118.797926,31.979956',\n",
       " '118.79825,31.980165',\n",
       " '118.798545,31.980364',\n",
       " '118.79877,31.980508',\n",
       " '118.798878,31.980578',\n",
       " '118.799795,31.981195',\n",
       " '118.7998,31.981201',\n",
       " '118.800026,31.981356',\n",
       " '118.800235,31.98149',\n",
       " '118.801281,31.982171',\n",
       " '118.801748,31.982456',\n",
       " '118.801844,31.982515',\n",
       " '118.802128,31.982096',\n",
       " '118.802397,31.981651',\n",
       " '118.802468,31.981542',\n",
       " '118.802692,31.981201',\n",
       " '118.802718,31.981158',\n",
       " '118.802804,31.98104',\n",
       " '118.80303,31.980739',\n",
       " '118.803228,31.980482',\n",
       " '118.803684,31.979951',\n",
       " '118.804006,31.980095',\n",
       " '118.804607,31.980589',\n",
       " '118.804998,31.980916',\n",
       " '118.805202,31.981088',\n",
       " '118.805347,31.981201',\n",
       " '118.805985,31.98171',\n",
       " '118.806152,31.981828',\n",
       " '118.806495,31.982075',\n",
       " '118.806978,31.982402',\n",
       " '118.807273,31.981914',\n",
       " '118.807331,31.981832']"
      ]
     },
     "execution_count": 21,
     "metadata": {},
     "output_type": "execute_result"
    }
   ],
   "source": [
    "df_ls['lines'][0]"
   ]
  },
  {
   "cell_type": "code",
   "execution_count": 25,
   "id": "ae9e3ac0-8193-44f5-8aef-866997152768",
   "metadata": {},
   "outputs": [],
   "source": [
    "def lines_wgs84(x):\n",
    "    lst =[]\n",
    "    for i in x:\n",
    "        lng=float(i.replace('\\'','').split(',')[0])\n",
    "        lat=float(i.replace('\\'','').split(',')[1])\n",
    "        lst.append(gcj02_to_wgs84(lng,lat))\n",
    "    return lst"
   ]
  },
  {
   "cell_type": "code",
   "execution_count": 26,
   "id": "d361f1cc-d0bd-476d-b662-b5ea5b2fbb88",
   "metadata": {},
   "outputs": [],
   "source": [
    "df_ls['lines_wgs84']= df_ls['lines'].apply(lines_wgs84)"
   ]
  },
  {
   "cell_type": "code",
   "execution_count": 27,
   "id": "ae1eb35e-f27d-44c1-ac4f-3696cda81ca9",
   "metadata": {},
   "outputs": [
    {
     "data": {
      "text/html": [
       "<div>\n",
       "<style scoped>\n",
       "    .dataframe tbody tr th:only-of-type {\n",
       "        vertical-align: middle;\n",
       "    }\n",
       "\n",
       "    .dataframe tbody tr th {\n",
       "        vertical-align: top;\n",
       "    }\n",
       "\n",
       "    .dataframe thead th {\n",
       "        text-align: right;\n",
       "    }\n",
       "</style>\n",
       "<table border=\"1\" class=\"dataframe\">\n",
       "  <thead>\n",
       "    <tr style=\"text-align: right;\">\n",
       "      <th></th>\n",
       "      <th>line_name</th>\n",
       "      <th>lines</th>\n",
       "      <th>lines_wgs84</th>\n",
       "    </tr>\n",
       "  </thead>\n",
       "  <tbody>\n",
       "    <tr>\n",
       "      <th>0</th>\n",
       "      <td>X1路(阅城国际南门--汇康路)</td>\n",
       "      <td>[118.777761,31.981484, 118.777913,31.981501, 1...</td>\n",
       "      <td>[[118.77255737606791, 31.98351748799738], [118...</td>\n",
       "    </tr>\n",
       "  </tbody>\n",
       "</table>\n",
       "</div>"
      ],
      "text/plain": [
       "          line_name                                              lines  \\\n",
       "0  X1路(阅城国际南门--汇康路)  [118.777761,31.981484, 118.777913,31.981501, 1...   \n",
       "\n",
       "                                         lines_wgs84  \n",
       "0  [[118.77255737606791, 31.98351748799738], [118...  "
      ]
     },
     "execution_count": 27,
     "metadata": {},
     "output_type": "execute_result"
    }
   ],
   "source": [
    "df_ls.head(1)"
   ]
  },
  {
   "cell_type": "code",
   "execution_count": 29,
   "id": "c808e7c5-2dad-4d57-bafd-1046b66bf9df",
   "metadata": {},
   "outputs": [],
   "source": [
    "w= shapefile.Writer(r'D:\\PycharmProjects\\pythonProject9\\TransportData\\nanjing_lines.shp')\n",
    "w.field('name','C')\n",
    "for i in range(len(df_ls)):\n",
    "    w.line([df_ls['lines_wgs84'][i]])\n",
    "    w.record(df_ls['line_name'][i])\n",
    "w.close()"
   ]
  },
  {
   "cell_type": "code",
   "execution_count": null,
   "id": "0e58992f-fb20-4b24-b1ef-68e39163de45",
   "metadata": {},
   "outputs": [],
   "source": []
  }
 ],
 "metadata": {
  "kernelspec": {
   "display_name": "Python 3 (ipykernel)",
   "language": "python",
   "name": "python3"
  },
  "language_info": {
   "codemirror_mode": {
    "name": "ipython",
    "version": 3
   },
   "file_extension": ".py",
   "mimetype": "text/x-python",
   "name": "python",
   "nbconvert_exporter": "python",
   "pygments_lexer": "ipython3",
   "version": "3.8.20"
  }
 },
 "nbformat": 4,
 "nbformat_minor": 5
}
