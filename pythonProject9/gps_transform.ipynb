{
 "cells": [
  {
   "cell_type": "code",
   "execution_count": 1,
   "id": "ceaee674-f127-4fa9-9bff-18e1be7cc70d",
   "metadata": {},
   "outputs": [],
   "source": [
    "import json\n",
    "import urllib\n",
    "import math\n",
    "import pandas as pd \n",
    "import numpy as np"
   ]
  },
  {
   "cell_type": "code",
   "execution_count": 2,
   "id": "94b06eb2-cd08-4f0f-94bf-b602bc49b4ca",
   "metadata": {},
   "outputs": [],
   "source": [
    "x_pi = 3.14159265358979324 * 3000.0 / 180.0\n",
    "pi = 3.1415926535897932384626  # π\n",
    "a = 6378245.0  # 长半轴\n",
    "ee = 0.00669342162296594323  # 偏心率平方"
   ]
  },
  {
   "cell_type": "code",
   "execution_count": 3,
   "id": "7c023733-ae8d-41be-8d5f-2dca6df6398f",
   "metadata": {},
   "outputs": [],
   "source": [
    "def gcj02_to_wgs84(lng, lat):\n",
    "    \"\"\"\n",
    "    GCJ02(火星坐标系)转GPS84\n",
    "    :param lng:火星坐标系的经度\n",
    "    :param lat:火星坐标系纬度\n",
    "    :return:GPS84坐标\n",
    "    \"\"\"\n",
    "    if out_of_china(lng, lat):\n",
    "        return [lng, lat]\n",
    "    dlat = _transformlat(lng - 105.0, lat - 35.0)\n",
    "    dlng = _transformlng(lng - 105.0, lat - 35.0)\n",
    "    radlat = lat / 180.0 * pi\n",
    "    magic = math.sin(radlat)\n",
    "    magic = 1 - ee * magic * magic\n",
    "    sqrtmagic = math.sqrt(magic)\n",
    "    dlat = (dlat * 180.0) / ((a * (1 - ee)) / (magic * sqrtmagic) * pi)\n",
    "    dlng = (dlng * 180.0) / (a / sqrtmagic * math.cos(radlat) * pi)\n",
    "    mglat = lat + dlat\n",
    "    mglng = lng + dlng\n",
    "    return [lng * 2 - mglng, lat * 2 - mglat]"
   ]
  },
  {
   "cell_type": "code",
   "execution_count": 4,
   "id": "1e1d0f8e-1d37-4898-8bd0-9491f69ce290",
   "metadata": {},
   "outputs": [],
   "source": [
    "def _transformlat(lng, lat):\n",
    "    ret = -100.0 + 2.0 * lng + 3.0 * lat + 0.2 * lat * lat + \\\n",
    "          0.1 * lng * lat + 0.2 * math.sqrt(math.fabs(lng))\n",
    "    ret += (20.0 * math.sin(6.0 * lng * pi) + 20.0 *\n",
    "            math.sin(2.0 * lng * pi)) * 2.0 / 3.0\n",
    "    ret += (20.0 * math.sin(lat * pi) + 40.0 *\n",
    "            math.sin(lat / 3.0 * pi)) * 2.0 / 3.0\n",
    "    ret += (160.0 * math.sin(lat / 12.0 * pi) + 320 *\n",
    "            math.sin(lat * pi / 30.0)) * 2.0 / 3.0\n",
    "    return ret\n",
    "\n",
    "\n",
    "def _transformlng(lng, lat):\n",
    "    ret = 300.0 + lng + 2.0 * lat + 0.1 * lng * lng + \\\n",
    "          0.1 * lng * lat + 0.1 * math.sqrt(math.fabs(lng))\n",
    "    ret += (20.0 * math.sin(6.0 * lng * pi) + 20.0 *\n",
    "            math.sin(2.0 * lng * pi)) * 2.0 / 3.0\n",
    "    ret += (20.0 * math.sin(lng * pi) + 40.0 *\n",
    "            math.sin(lng / 3.0 * pi)) * 2.0 / 3.0\n",
    "    ret += (150.0 * math.sin(lng / 12.0 * pi) + 300.0 *\n",
    "            math.sin(lng / 30.0 * pi)) * 2.0 / 3.0\n",
    "    return ret"
   ]
  },
  {
   "cell_type": "code",
   "execution_count": 5,
   "id": "d3453dd2-795d-4a0a-9b03-f80c36d1fac6",
   "metadata": {},
   "outputs": [],
   "source": [
    "def out_of_china(lng, lat):\n",
    "    \"\"\"\n",
    "    判断是否在国内，不在国内不做偏移\n",
    "    :param lng:经度\n",
    "    :param lat:纬度\n",
    "    :return:bool布尔值\n",
    "    \"\"\"\n",
    "    return not (lng > 73.66 and lng < 135.05 and lat > 3.86 and lat < 53.55)"
   ]
  },
  {
   "cell_type": "code",
   "execution_count": 6,
   "id": "08ef918c-cb74-4654-8060-926305be21c0",
   "metadata": {},
   "outputs": [
    {
     "data": {
      "text/plain": [
       "[118.77892757265252, 32.0438602407582]"
      ]
     },
     "execution_count": 6,
     "metadata": {},
     "output_type": "execute_result"
    }
   ],
   "source": [
    "gcj02_to_wgs84(118.784129,32.041806)"
   ]
  },
  {
   "cell_type": "code",
   "execution_count": 7,
   "id": "4df5ee3a-8b77-4a8c-9240-0a2f7c3df36f",
   "metadata": {},
   "outputs": [],
   "source": [
    "df_sts = pd.read_csv('stations.csv',encoding='gbk')"
   ]
  },
  {
   "cell_type": "code",
   "execution_count": 8,
   "id": "eac0267d-4236-4075-bbfc-96055d8bb5ab",
   "metadata": {},
   "outputs": [
    {
     "data": {
      "text/html": [
       "<div>\n",
       "<style scoped>\n",
       "    .dataframe tbody tr th:only-of-type {\n",
       "        vertical-align: middle;\n",
       "    }\n",
       "\n",
       "    .dataframe tbody tr th {\n",
       "        vertical-align: top;\n",
       "    }\n",
       "\n",
       "    .dataframe thead th {\n",
       "        text-align: right;\n",
       "    }\n",
       "</style>\n",
       "<table border=\"1\" class=\"dataframe\">\n",
       "  <thead>\n",
       "    <tr style=\"text-align: right;\">\n",
       "      <th></th>\n",
       "      <th>Unnamed: 0</th>\n",
       "      <th>st_name</th>\n",
       "      <th>st_coords</th>\n",
       "    </tr>\n",
       "  </thead>\n",
       "  <tbody>\n",
       "    <tr>\n",
       "      <th>0</th>\n",
       "      <td>0</td>\n",
       "      <td>双桥门北</td>\n",
       "      <td>118.796394,32.006142</td>\n",
       "    </tr>\n",
       "  </tbody>\n",
       "</table>\n",
       "</div>"
      ],
      "text/plain": [
       "   Unnamed: 0 st_name             st_coords\n",
       "0           0    双桥门北  118.796394,32.006142"
      ]
     },
     "execution_count": 8,
     "metadata": {},
     "output_type": "execute_result"
    }
   ],
   "source": [
    "df_sts.head(1)"
   ]
  },
  {
   "cell_type": "code",
   "execution_count": 9,
   "id": "fd5d3828-165a-4ba9-aa4d-909b307d71d8",
   "metadata": {},
   "outputs": [
    {
     "data": {
      "text/plain": [
       "'118.796394,32.006142'"
      ]
     },
     "execution_count": 9,
     "metadata": {},
     "output_type": "execute_result"
    }
   ],
   "source": [
    "df_sts['st_coords'][0]"
   ]
  },
  {
   "cell_type": "code",
   "execution_count": 10,
   "id": "2a45763e-922e-4762-aa4f-76c3a48f87c5",
   "metadata": {},
   "outputs": [
    {
     "data": {
      "text/plain": [
       "118.796394"
      ]
     },
     "execution_count": 10,
     "metadata": {},
     "output_type": "execute_result"
    }
   ],
   "source": [
    "float(df_sts['st_coords'][0].split(',')[0])"
   ]
  },
  {
   "cell_type": "code",
   "execution_count": 11,
   "id": "de7accf3-a6a2-4bc5-b55a-34a3a33d9e53",
   "metadata": {},
   "outputs": [],
   "source": [
    "def st_wgs84(x):\n",
    "    lng=float(x.split(',')[0])\n",
    "    lat=float(x.split(',')[1])\n",
    "    return gcj02_to_wgs84(lng,lat)"
   ]
  },
  {
   "cell_type": "code",
   "execution_count": 12,
   "id": "7a06c98c-9b55-4162-b3c0-1c38508f8005",
   "metadata": {},
   "outputs": [],
   "source": [
    "df_sts['st_coords_wgs84']= df_sts['st_coords'].apply(st_wgs84)"
   ]
  },
  {
   "cell_type": "code",
   "execution_count": 13,
   "id": "d0b1d19b-1c95-40b8-90e0-ffe26cc99387",
   "metadata": {},
   "outputs": [
    {
     "data": {
      "text/html": [
       "<div>\n",
       "<style scoped>\n",
       "    .dataframe tbody tr th:only-of-type {\n",
       "        vertical-align: middle;\n",
       "    }\n",
       "\n",
       "    .dataframe tbody tr th {\n",
       "        vertical-align: top;\n",
       "    }\n",
       "\n",
       "    .dataframe thead th {\n",
       "        text-align: right;\n",
       "    }\n",
       "</style>\n",
       "<table border=\"1\" class=\"dataframe\">\n",
       "  <thead>\n",
       "    <tr style=\"text-align: right;\">\n",
       "      <th></th>\n",
       "      <th>Unnamed: 0</th>\n",
       "      <th>st_name</th>\n",
       "      <th>st_coords</th>\n",
       "      <th>st_coords_wgs84</th>\n",
       "    </tr>\n",
       "  </thead>\n",
       "  <tbody>\n",
       "    <tr>\n",
       "      <th>0</th>\n",
       "      <td>0</td>\n",
       "      <td>双桥门北</td>\n",
       "      <td>118.796394,32.006142</td>\n",
       "      <td>[118.79121456468195, 32.00820467908147]</td>\n",
       "    </tr>\n",
       "  </tbody>\n",
       "</table>\n",
       "</div>"
      ],
      "text/plain": [
       "   Unnamed: 0 st_name             st_coords  \\\n",
       "0           0    双桥门北  118.796394,32.006142   \n",
       "\n",
       "                           st_coords_wgs84  \n",
       "0  [118.79121456468195, 32.00820467908147]  "
      ]
     },
     "execution_count": 13,
     "metadata": {},
     "output_type": "execute_result"
    }
   ],
   "source": [
    "df_sts.head(1)"
   ]
  },
  {
   "cell_type": "code",
   "execution_count": 14,
   "id": "a4924356-9195-4fee-9af9-133f3ffd0847",
   "metadata": {},
   "outputs": [],
   "source": [
    "import shapefile"
   ]
  },
  {
   "cell_type": "code",
   "execution_count": null,
   "id": "6d0081df-2c8a-4c89-a851-575ea914805a",
   "metadata": {},
   "outputs": [],
   "source": []
  }
 ],
 "metadata": {
  "kernelspec": {
   "display_name": "Python 3 (ipykernel)",
   "language": "python",
   "name": "python3"
  },
  "language_info": {
   "codemirror_mode": {
    "name": "ipython",
    "version": 3
   },
   "file_extension": ".py",
   "mimetype": "text/x-python",
   "name": "python",
   "nbconvert_exporter": "python",
   "pygments_lexer": "ipython3",
   "version": "3.8.20"
  }
 },
 "nbformat": 4,
 "nbformat_minor": 5
}
