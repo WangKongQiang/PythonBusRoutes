{
 "cells": [
  {
   "cell_type": "code",
   "execution_count": 1,
   "id": "3c835bd9-46f4-4dac-9d89-1412b0078d97",
   "metadata": {},
   "outputs": [],
   "source": [
    "import pandas as pd\n",
    "import numpy as np"
   ]
  },
  {
   "cell_type": "code",
   "execution_count": 2,
   "id": "4b8bd3ed-180b-4f40-a401-b9a6201579d4",
   "metadata": {},
   "outputs": [
    {
     "data": {
      "text/html": [
       "<div>\n",
       "<style scoped>\n",
       "    .dataframe tbody tr th:only-of-type {\n",
       "        vertical-align: middle;\n",
       "    }\n",
       "\n",
       "    .dataframe tbody tr th {\n",
       "        vertical-align: top;\n",
       "    }\n",
       "\n",
       "    .dataframe thead th {\n",
       "        text-align: right;\n",
       "    }\n",
       "</style>\n",
       "<table border=\"1\" class=\"dataframe\">\n",
       "  <thead>\n",
       "    <tr style=\"text-align: right;\">\n",
       "      <th></th>\n",
       "      <th>id</th>\n",
       "      <th>line_name</th>\n",
       "      <th>lines</th>\n",
       "      <th>price</th>\n",
       "      <th>station_names</th>\n",
       "      <th>station_coords</th>\n",
       "    </tr>\n",
       "  </thead>\n",
       "  <tbody>\n",
       "    <tr>\n",
       "      <th>0</th>\n",
       "      <td>0</td>\n",
       "      <td>X1路(阅城国际南门--汇康路)</td>\n",
       "      <td>118.777761,31.981484;118.777913,31.981501;118....</td>\n",
       "      <td>0</td>\n",
       "      <td>['阅城国际南门', '郁金香路', '翠岛花城北', '丁墙村', '郁金香路东', '卡...</td>\n",
       "      <td>['118.777761,31.981484', '118.784985,31.983802...</td>\n",
       "    </tr>\n",
       "    <tr>\n",
       "      <th>1</th>\n",
       "      <td>0</td>\n",
       "      <td>16路(龙福山庄总站--中山码头北)</td>\n",
       "      <td>118.758173,31.997193;118.758264,31.997166;118....</td>\n",
       "      <td>2</td>\n",
       "      <td>['龙福山庄总站', '赛上路', '凤台南路', '赛虹桥', '赛虹桥立交东', '中华...</td>\n",
       "      <td>['118.758173,31.997193', '118.757852,32.003963...</td>\n",
       "    </tr>\n",
       "  </tbody>\n",
       "</table>\n",
       "</div>"
      ],
      "text/plain": [
       "   id           line_name                                              lines  \\\n",
       "0   0    X1路(阅城国际南门--汇康路)  118.777761,31.981484;118.777913,31.981501;118....   \n",
       "1   0  16路(龙福山庄总站--中山码头北)  118.758173,31.997193;118.758264,31.997166;118....   \n",
       "\n",
       "   price                                      station_names  \\\n",
       "0      0  ['阅城国际南门', '郁金香路', '翠岛花城北', '丁墙村', '郁金香路东', '卡...   \n",
       "1      2  ['龙福山庄总站', '赛上路', '凤台南路', '赛虹桥', '赛虹桥立交东', '中华...   \n",
       "\n",
       "                                      station_coords  \n",
       "0  ['118.777761,31.981484', '118.784985,31.983802...  \n",
       "1  ['118.758173,31.997193', '118.757852,32.003963...  "
      ]
     },
     "execution_count": 2,
     "metadata": {},
     "output_type": "execute_result"
    }
   ],
   "source": [
    "df_lines = pd.read_csv('./TransportData/nanjing_lines.csv',names=['id','line_name','lines','price','station_names','station_coords'])\n",
    "df_lines.head(2)"
   ]
  },
  {
   "cell_type": "code",
   "execution_count": 3,
   "id": "f3f26774-e2c0-4b51-b0c0-93bbdd3c203e",
   "metadata": {},
   "outputs": [
    {
     "data": {
      "text/plain": [
       "55"
      ]
     },
     "execution_count": 3,
     "metadata": {},
     "output_type": "execute_result"
    }
   ],
   "source": [
    "len(df_lines)"
   ]
  },
  {
   "cell_type": "code",
   "execution_count": 4,
   "id": "98192eab-b43e-4cfc-b4b9-17bb8d60cddf",
   "metadata": {},
   "outputs": [
    {
     "data": {
      "text/html": [
       "<div>\n",
       "<style scoped>\n",
       "    .dataframe tbody tr th:only-of-type {\n",
       "        vertical-align: middle;\n",
       "    }\n",
       "\n",
       "    .dataframe tbody tr th {\n",
       "        vertical-align: top;\n",
       "    }\n",
       "\n",
       "    .dataframe thead th {\n",
       "        text-align: right;\n",
       "    }\n",
       "</style>\n",
       "<table border=\"1\" class=\"dataframe\">\n",
       "  <thead>\n",
       "    <tr style=\"text-align: right;\">\n",
       "      <th></th>\n",
       "      <th>station_coords</th>\n",
       "      <th>station_names</th>\n",
       "    </tr>\n",
       "  </thead>\n",
       "  <tbody>\n",
       "    <tr>\n",
       "      <th>0</th>\n",
       "      <td>['118.777761,31.981484', '118.784985,31.983802...</td>\n",
       "      <td>['阅城国际南门', '郁金香路', '翠岛花城北', '丁墙村', '郁金香路东', '卡...</td>\n",
       "    </tr>\n",
       "  </tbody>\n",
       "</table>\n",
       "</div>"
      ],
      "text/plain": [
       "                                      station_coords  \\\n",
       "0  ['118.777761,31.981484', '118.784985,31.983802...   \n",
       "\n",
       "                                       station_names  \n",
       "0  ['阅城国际南门', '郁金香路', '翠岛花城北', '丁墙村', '郁金香路东', '卡...  "
      ]
     },
     "execution_count": 4,
     "metadata": {},
     "output_type": "execute_result"
    }
   ],
   "source": [
    "df_sts =df_lines[['station_coords','station_names']]\n",
    "df_sts.head(1)"
   ]
  },
  {
   "cell_type": "code",
   "execution_count": 5,
   "id": "d9e25c1c-8132-4b58-8b74-5af2739840cd",
   "metadata": {},
   "outputs": [
    {
     "data": {
      "text/plain": [
       "\"['118.777761,31.981484', '118.784985,31.983802', '118.787064,31.984688', '118.792687,31.98714', '118.795551,31.988368', '118.797747,31.988494', '118.797592,31.983997', '118.797926,31.979956', '118.802468,31.981542', '118.807331,31.981832']\""
      ]
     },
     "execution_count": 5,
     "metadata": {},
     "output_type": "execute_result"
    }
   ],
   "source": [
    "df_sts['station_coords'][0]"
   ]
  },
  {
   "cell_type": "code",
   "execution_count": 6,
   "id": "6e55c1fb-d135-4084-9685-28b8b71f0724",
   "metadata": {},
   "outputs": [
    {
     "data": {
      "text/plain": [
       "['118.777761,31.981484',\n",
       " '118.784985,31.983802',\n",
       " '118.787064,31.984688',\n",
       " '118.792687,31.98714',\n",
       " '118.795551,31.988368',\n",
       " '118.797747,31.988494',\n",
       " '118.797592,31.983997',\n",
       " '118.797926,31.979956',\n",
       " '118.802468,31.981542',\n",
       " '118.807331,31.981832']"
      ]
     },
     "execution_count": 6,
     "metadata": {},
     "output_type": "execute_result"
    }
   ],
   "source": [
    "df_sts['station_coords'][0].replace('[','').replace(']','').replace('\\'','').split(', ')"
   ]
  },
  {
   "cell_type": "code",
   "execution_count": 7,
   "id": "f6d2910f-514f-4f85-a580-a0e38dfa2852",
   "metadata": {},
   "outputs": [
    {
     "name": "stderr",
     "output_type": "stream",
     "text": [
      "C:\\Users\\ASUS\\AppData\\Local\\Temp\\ipykernel_7536\\1626323695.py:1: SettingWithCopyWarning: \n",
      "A value is trying to be set on a copy of a slice from a DataFrame.\n",
      "Try using .loc[row_indexer,col_indexer] = value instead\n",
      "\n",
      "See the caveats in the documentation: https://pandas.pydata.org/pandas-docs/stable/user_guide/indexing.html#returning-a-view-versus-a-copy\n",
      "  df_sts['station_coords']=df_sts['station_coords'].apply(lambda x:x.replace('[','').replace(']','').split(', '))\n"
     ]
    }
   ],
   "source": [
    "df_sts['station_coords']=df_sts['station_coords'].apply(lambda x:x.replace('[','').replace(']','').split(', '))"
   ]
  },
  {
   "cell_type": "code",
   "execution_count": 8,
   "id": "741a0d6f-cc63-4533-8e01-ab3a721b9293",
   "metadata": {},
   "outputs": [
    {
     "data": {
      "text/plain": [
       "10"
      ]
     },
     "execution_count": 8,
     "metadata": {},
     "output_type": "execute_result"
    }
   ],
   "source": [
    "len(df_sts['station_coords'][0])"
   ]
  },
  {
   "cell_type": "code",
   "execution_count": 9,
   "id": "de8e4d16-2fa6-4a65-bf08-292863489677",
   "metadata": {},
   "outputs": [
    {
     "data": {
      "text/plain": [
       "\"['阅城国际南门', '郁金香路', '翠岛花城北', '丁墙村', '郁金香路东', '卡子门大街南', '软件大道东', '明发商业广场', '双龙街', '汇康路']\""
      ]
     },
     "execution_count": 9,
     "metadata": {},
     "output_type": "execute_result"
    }
   ],
   "source": [
    "df_sts['station_names'][0]"
   ]
  },
  {
   "cell_type": "code",
   "execution_count": 10,
   "id": "f03913af-45d0-45a4-8bcd-0a5c7f02fbd2",
   "metadata": {},
   "outputs": [
    {
     "name": "stderr",
     "output_type": "stream",
     "text": [
      "C:\\Users\\ASUS\\AppData\\Local\\Temp\\ipykernel_7536\\310525467.py:1: SettingWithCopyWarning: \n",
      "A value is trying to be set on a copy of a slice from a DataFrame.\n",
      "Try using .loc[row_indexer,col_indexer] = value instead\n",
      "\n",
      "See the caveats in the documentation: https://pandas.pydata.org/pandas-docs/stable/user_guide/indexing.html#returning-a-view-versus-a-copy\n",
      "  df_sts['station_names']=df_sts['station_names'].apply(lambda x:x.replace('[','').replace(']','').replace('\\'','').split(', '))\n"
     ]
    }
   ],
   "source": [
    "df_sts['station_names']=df_sts['station_names'].apply(lambda x:x.replace('[','').replace(']','').replace('\\'','').split(', '))"
   ]
  },
  {
   "cell_type": "code",
   "execution_count": 11,
   "id": "a3d65539-aa76-4b63-950d-8f7457db210c",
   "metadata": {},
   "outputs": [
    {
     "data": {
      "text/plain": [
       "['阅城国际南门',\n",
       " '郁金香路',\n",
       " '翠岛花城北',\n",
       " '丁墙村',\n",
       " '郁金香路东',\n",
       " '卡子门大街南',\n",
       " '软件大道东',\n",
       " '明发商业广场',\n",
       " '双龙街',\n",
       " '汇康路']"
      ]
     },
     "execution_count": 11,
     "metadata": {},
     "output_type": "execute_result"
    }
   ],
   "source": [
    "df_sts['station_names'][0]"
   ]
  },
  {
   "cell_type": "code",
   "execution_count": 12,
   "id": "f6191113-ab41-4d84-961c-40adc01d31e2",
   "metadata": {},
   "outputs": [
    {
     "data": {
      "text/html": [
       "<div>\n",
       "<style scoped>\n",
       "    .dataframe tbody tr th:only-of-type {\n",
       "        vertical-align: middle;\n",
       "    }\n",
       "\n",
       "    .dataframe tbody tr th {\n",
       "        vertical-align: top;\n",
       "    }\n",
       "\n",
       "    .dataframe thead th {\n",
       "        text-align: right;\n",
       "    }\n",
       "</style>\n",
       "<table border=\"1\" class=\"dataframe\">\n",
       "  <thead>\n",
       "    <tr style=\"text-align: right;\">\n",
       "      <th></th>\n",
       "      <th>station_coords</th>\n",
       "      <th>station_names</th>\n",
       "    </tr>\n",
       "  </thead>\n",
       "  <tbody>\n",
       "    <tr>\n",
       "      <th>0</th>\n",
       "      <td>['118.777761,31.981484', '118.784985,31.983802...</td>\n",
       "      <td>[阅城国际南门, 郁金香路, 翠岛花城北, 丁墙村, 郁金香路东, 卡子门大街南, 软件大道...</td>\n",
       "    </tr>\n",
       "  </tbody>\n",
       "</table>\n",
       "</div>"
      ],
      "text/plain": [
       "                                      station_coords  \\\n",
       "0  ['118.777761,31.981484', '118.784985,31.983802...   \n",
       "\n",
       "                                       station_names  \n",
       "0  [阅城国际南门, 郁金香路, 翠岛花城北, 丁墙村, 郁金香路东, 卡子门大街南, 软件大道...  "
      ]
     },
     "execution_count": 12,
     "metadata": {},
     "output_type": "execute_result"
    }
   ],
   "source": [
    "df_sts.head(1)"
   ]
  },
  {
   "cell_type": "code",
   "execution_count": 13,
   "id": "585d7486-c4d0-46bf-beec-fe6fb1727eea",
   "metadata": {},
   "outputs": [
    {
     "data": {
      "text/plain": [
       "array(['阅城国际南门', '郁金香路', '翠岛花城北', ..., '化纤厂', '化纤新村', '万寿南'], dtype='<U18')"
      ]
     },
     "execution_count": 13,
     "metadata": {},
     "output_type": "execute_result"
    }
   ],
   "source": [
    " np.hstack(df_sts['station_names'].repeat(list(map(len,df_sts['station_names']))))"
   ]
  },
  {
   "cell_type": "code",
   "execution_count": 14,
   "id": "ab72f41c-8220-4569-b0a7-484ffea03a5f",
   "metadata": {},
   "outputs": [
    {
     "data": {
      "text/plain": [
       "array([\"'118.777761,31.981484'\", \"'118.784985,31.983802'\",\n",
       "       \"'118.787064,31.984688'\", ..., \"'118.843956,32.125513'\",\n",
       "       \"'118.84215,32.123053'\", \"'118.837789,32.118124'\"], dtype='<U22')"
      ]
     },
     "execution_count": 14,
     "metadata": {},
     "output_type": "execute_result"
    }
   ],
   "source": [
    "np.hstack(df_sts['station_coords'].repeat(list(map(len,df_sts['station_coords']))))"
   ]
  },
  {
   "cell_type": "code",
   "execution_count": 16,
   "id": "9945891f-8e62-4872-86eb-af8d4f77fdfb",
   "metadata": {},
   "outputs": [
    {
     "data": {
      "text/plain": [
       "Index(['station_coords', 'station_names'], dtype='object')"
      ]
     },
     "execution_count": 16,
     "metadata": {},
     "output_type": "execute_result"
    }
   ],
   "source": [
    "df_sts.columns"
   ]
  },
  {
   "cell_type": "code",
   "execution_count": 17,
   "id": "aa297cfb-3fb1-4b72-a9f3-0f1e6d3cb413",
   "metadata": {},
   "outputs": [
    {
     "data": {
      "text/html": [
       "<div>\n",
       "<style scoped>\n",
       "    .dataframe tbody tr th:only-of-type {\n",
       "        vertical-align: middle;\n",
       "    }\n",
       "\n",
       "    .dataframe tbody tr th {\n",
       "        vertical-align: top;\n",
       "    }\n",
       "\n",
       "    .dataframe thead th {\n",
       "        text-align: right;\n",
       "    }\n",
       "</style>\n",
       "<table border=\"1\" class=\"dataframe\">\n",
       "  <thead>\n",
       "    <tr style=\"text-align: right;\">\n",
       "      <th></th>\n",
       "      <th>station_coords</th>\n",
       "      <th>station_names</th>\n",
       "    </tr>\n",
       "  </thead>\n",
       "  <tbody>\n",
       "    <tr>\n",
       "      <th>0</th>\n",
       "      <td>'118.777761,31.981484'</td>\n",
       "      <td>阅城国际南门</td>\n",
       "    </tr>\n",
       "    <tr>\n",
       "      <th>1</th>\n",
       "      <td>'118.784985,31.983802'</td>\n",
       "      <td>郁金香路</td>\n",
       "    </tr>\n",
       "    <tr>\n",
       "      <th>2</th>\n",
       "      <td>'118.787064,31.984688'</td>\n",
       "      <td>翠岛花城北</td>\n",
       "    </tr>\n",
       "    <tr>\n",
       "      <th>3</th>\n",
       "      <td>'118.792687,31.98714'</td>\n",
       "      <td>丁墙村</td>\n",
       "    </tr>\n",
       "    <tr>\n",
       "      <th>4</th>\n",
       "      <td>'118.795551,31.988368'</td>\n",
       "      <td>郁金香路东</td>\n",
       "    </tr>\n",
       "    <tr>\n",
       "      <th>...</th>\n",
       "      <td>...</td>\n",
       "      <td>...</td>\n",
       "    </tr>\n",
       "    <tr>\n",
       "      <th>38403</th>\n",
       "      <td>'118.843565,32.130329'</td>\n",
       "      <td>壮举路·神农路</td>\n",
       "    </tr>\n",
       "    <tr>\n",
       "      <th>38404</th>\n",
       "      <td>'118.844776,32.128575'</td>\n",
       "      <td>壮举路·春树街</td>\n",
       "    </tr>\n",
       "    <tr>\n",
       "      <th>38405</th>\n",
       "      <td>'118.843956,32.125513'</td>\n",
       "      <td>化纤厂</td>\n",
       "    </tr>\n",
       "    <tr>\n",
       "      <th>38406</th>\n",
       "      <td>'118.84215,32.123053'</td>\n",
       "      <td>化纤新村</td>\n",
       "    </tr>\n",
       "    <tr>\n",
       "      <th>38407</th>\n",
       "      <td>'118.837789,32.118124'</td>\n",
       "      <td>万寿南</td>\n",
       "    </tr>\n",
       "  </tbody>\n",
       "</table>\n",
       "<p>38408 rows × 2 columns</p>\n",
       "</div>"
      ],
      "text/plain": [
       "               station_coords station_names\n",
       "0      '118.777761,31.981484'        阅城国际南门\n",
       "1      '118.784985,31.983802'          郁金香路\n",
       "2      '118.787064,31.984688'         翠岛花城北\n",
       "3       '118.792687,31.98714'           丁墙村\n",
       "4      '118.795551,31.988368'         郁金香路东\n",
       "...                       ...           ...\n",
       "38403  '118.843565,32.130329'       壮举路·神农路\n",
       "38404  '118.844776,32.128575'       壮举路·春树街\n",
       "38405  '118.843956,32.125513'           化纤厂\n",
       "38406   '118.84215,32.123053'          化纤新村\n",
       "38407  '118.837789,32.118124'           万寿南\n",
       "\n",
       "[38408 rows x 2 columns]"
      ]
     },
     "execution_count": 17,
     "metadata": {},
     "output_type": "execute_result"
    }
   ],
   "source": [
    "st_all = pd.DataFrame(\\\n",
    "                    np.column_stack((\\\n",
    "                                    np.hstack(df_sts['station_coords'].repeat(list(map(len,df_sts['station_coords'])))),\n",
    "                                    np.hstack(df_sts['station_names'].repeat(list(map(len,df_sts['station_names']))))\n",
    "                                    )),\n",
    "                                     columns=['station_coords','station_names']\n",
    "                    )\n",
    "st_all"
   ]
  },
  {
   "cell_type": "code",
   "execution_count": 18,
   "id": "d07666f6-5f4f-4a77-b560-fc679b920e29",
   "metadata": {},
   "outputs": [
    {
     "data": {
      "text/plain": [
       "38408"
      ]
     },
     "execution_count": 18,
     "metadata": {},
     "output_type": "execute_result"
    }
   ],
   "source": [
    "len(st_all)"
   ]
  },
  {
   "cell_type": "code",
   "execution_count": 19,
   "id": "4f492f0e-978a-467d-ae41-394c51dcf804",
   "metadata": {},
   "outputs": [
    {
     "data": {
      "text/plain": [
       "1204"
      ]
     },
     "execution_count": 19,
     "metadata": {},
     "output_type": "execute_result"
    }
   ],
   "source": [
    "st_all=st_all.drop_duplicates()\n",
    "len(st_all)"
   ]
  },
  {
   "cell_type": "code",
   "execution_count": 20,
   "id": "300b89d7-85a1-409b-99e4-e1d0961d555d",
   "metadata": {},
   "outputs": [],
   "source": [
    "st_all.to_csv('station.csv')"
   ]
  },
  {
   "cell_type": "code",
   "execution_count": 21,
   "id": "3ff8a332-ef1e-4718-91ea-bb64e58057ec",
   "metadata": {},
   "outputs": [
    {
     "data": {
      "text/plain": [
       "Index(['id', 'line_name', 'lines', 'price', 'station_names', 'station_coords'], dtype='object')"
      ]
     },
     "execution_count": 21,
     "metadata": {},
     "output_type": "execute_result"
    }
   ],
   "source": [
    "df_lines.columns"
   ]
  },
  {
   "cell_type": "code",
   "execution_count": 23,
   "id": "e97b4c5e-5825-48fb-b53f-76303e55336a",
   "metadata": {},
   "outputs": [
    {
     "data": {
      "text/html": [
       "<div>\n",
       "<style scoped>\n",
       "    .dataframe tbody tr th:only-of-type {\n",
       "        vertical-align: middle;\n",
       "    }\n",
       "\n",
       "    .dataframe tbody tr th {\n",
       "        vertical-align: top;\n",
       "    }\n",
       "\n",
       "    .dataframe thead th {\n",
       "        text-align: right;\n",
       "    }\n",
       "</style>\n",
       "<table border=\"1\" class=\"dataframe\">\n",
       "  <thead>\n",
       "    <tr style=\"text-align: right;\">\n",
       "      <th></th>\n",
       "      <th>line_name</th>\n",
       "      <th>lines</th>\n",
       "    </tr>\n",
       "  </thead>\n",
       "  <tbody>\n",
       "    <tr>\n",
       "      <th>0</th>\n",
       "      <td>X1路(阅城国际南门--汇康路)</td>\n",
       "      <td>118.777761,31.981484;118.777913,31.981501;118....</td>\n",
       "    </tr>\n",
       "    <tr>\n",
       "      <th>1</th>\n",
       "      <td>16路(龙福山庄总站--中山码头北)</td>\n",
       "      <td>118.758173,31.997193;118.758264,31.997166;118....</td>\n",
       "    </tr>\n",
       "  </tbody>\n",
       "</table>\n",
       "</div>"
      ],
      "text/plain": [
       "            line_name                                              lines\n",
       "0    X1路(阅城国际南门--汇康路)  118.777761,31.981484;118.777913,31.981501;118....\n",
       "1  16路(龙福山庄总站--中山码头北)  118.758173,31.997193;118.758264,31.997166;118...."
      ]
     },
     "execution_count": 23,
     "metadata": {},
     "output_type": "execute_result"
    }
   ],
   "source": [
    "df_ls=df_lines[['line_name','lines']]\n",
    "df_ls.head(2)"
   ]
  },
  {
   "cell_type": "code",
   "execution_count": 24,
   "id": "ff9d843f-fcc5-42b9-8228-e01c8d4fe390",
   "metadata": {},
   "outputs": [
    {
     "data": {
      "text/plain": [
       "'118.777761,31.981484;118.777913,31.981501;118.77837,31.98156;118.778766,31.981619;118.778965,31.981651;118.779078,31.981673;118.779442,31.981737;118.779952,31.981855;118.780129,31.981898;118.780392,31.981957;118.781213,31.982215;118.782125,31.98259;118.782511,31.982751;118.782784,31.982874;118.783739,31.983276;118.784179,31.983464;118.784844,31.983743;118.784985,31.983802;118.785241,31.98391;118.785826,31.984167;118.786421,31.984425;118.786502,31.984457;118.786845,31.984596;118.787064,31.984688;118.78743,31.984848;118.787703,31.984961;118.78824,31.985186;118.788342,31.985235;118.788707,31.985385;118.789533,31.985739;118.789656,31.985798;118.790375,31.986125;118.790783,31.986308;118.791469,31.986597;118.792113,31.986881;118.792564,31.987085;118.792687,31.98714;118.793261,31.987396;118.793486,31.987498;118.794178,31.987799;118.794613,31.987986;118.79523,31.988233;118.795289,31.98826;118.795551,31.988368;118.796008,31.988555;118.79619,31.98863;118.796539,31.988786;118.797322,31.98914;118.797747,31.988494;118.798008,31.988099;118.798486,31.987396;118.798765,31.986967;118.798835,31.986865;118.799076,31.986592;118.7992,31.986479;118.799532,31.985948;118.79958,31.985878;118.799768,31.985573;118.799318,31.985213;118.798384,31.984548;118.798046,31.984323;118.797592,31.983997;118.797553,31.983974;118.796598,31.983293;118.795476,31.982515;118.795509,31.982284;118.796244,31.981201;118.796775,31.980423;118.797327,31.97964;118.797488,31.979661;118.797719,31.979822;118.797926,31.979956;118.79825,31.980165;118.798545,31.980364;118.79877,31.980508;118.798878,31.980578;118.799795,31.981195;118.7998,31.981201;118.800026,31.981356;118.800235,31.98149;118.801281,31.982171;118.801748,31.982456;118.801844,31.982515;118.802128,31.982096;118.802397,31.981651;118.802468,31.981542;118.802692,31.981201;118.802718,31.981158;118.802804,31.98104;118.80303,31.980739;118.803228,31.980482;118.803684,31.979951;118.804006,31.980095;118.804607,31.980589;118.804998,31.980916;118.805202,31.981088;118.805347,31.981201;118.805985,31.98171;118.806152,31.981828;118.806495,31.982075;118.806978,31.982402;118.807273,31.981914;118.807331,31.981832'"
      ]
     },
     "execution_count": 24,
     "metadata": {},
     "output_type": "execute_result"
    }
   ],
   "source": [
    "df_ls['lines'][0]"
   ]
  },
  {
   "cell_type": "code",
   "execution_count": 25,
   "id": "fa029fbb-b278-46d1-8929-1175ed56836d",
   "metadata": {},
   "outputs": [
    {
     "data": {
      "text/plain": [
       "['118.777761,31.981484',\n",
       " '118.777913,31.981501',\n",
       " '118.77837,31.98156',\n",
       " '118.778766,31.981619',\n",
       " '118.778965,31.981651',\n",
       " '118.779078,31.981673',\n",
       " '118.779442,31.981737',\n",
       " '118.779952,31.981855',\n",
       " '118.780129,31.981898',\n",
       " '118.780392,31.981957',\n",
       " '118.781213,31.982215',\n",
       " '118.782125,31.98259',\n",
       " '118.782511,31.982751',\n",
       " '118.782784,31.982874',\n",
       " '118.783739,31.983276',\n",
       " '118.784179,31.983464',\n",
       " '118.784844,31.983743',\n",
       " '118.784985,31.983802',\n",
       " '118.785241,31.98391',\n",
       " '118.785826,31.984167',\n",
       " '118.786421,31.984425',\n",
       " '118.786502,31.984457',\n",
       " '118.786845,31.984596',\n",
       " '118.787064,31.984688',\n",
       " '118.78743,31.984848',\n",
       " '118.787703,31.984961',\n",
       " '118.78824,31.985186',\n",
       " '118.788342,31.985235',\n",
       " '118.788707,31.985385',\n",
       " '118.789533,31.985739',\n",
       " '118.789656,31.985798',\n",
       " '118.790375,31.986125',\n",
       " '118.790783,31.986308',\n",
       " '118.791469,31.986597',\n",
       " '118.792113,31.986881',\n",
       " '118.792564,31.987085',\n",
       " '118.792687,31.98714',\n",
       " '118.793261,31.987396',\n",
       " '118.793486,31.987498',\n",
       " '118.794178,31.987799',\n",
       " '118.794613,31.987986',\n",
       " '118.79523,31.988233',\n",
       " '118.795289,31.98826',\n",
       " '118.795551,31.988368',\n",
       " '118.796008,31.988555',\n",
       " '118.79619,31.98863',\n",
       " '118.796539,31.988786',\n",
       " '118.797322,31.98914',\n",
       " '118.797747,31.988494',\n",
       " '118.798008,31.988099',\n",
       " '118.798486,31.987396',\n",
       " '118.798765,31.986967',\n",
       " '118.798835,31.986865',\n",
       " '118.799076,31.986592',\n",
       " '118.7992,31.986479',\n",
       " '118.799532,31.985948',\n",
       " '118.79958,31.985878',\n",
       " '118.799768,31.985573',\n",
       " '118.799318,31.985213',\n",
       " '118.798384,31.984548',\n",
       " '118.798046,31.984323',\n",
       " '118.797592,31.983997',\n",
       " '118.797553,31.983974',\n",
       " '118.796598,31.983293',\n",
       " '118.795476,31.982515',\n",
       " '118.795509,31.982284',\n",
       " '118.796244,31.981201',\n",
       " '118.796775,31.980423',\n",
       " '118.797327,31.97964',\n",
       " '118.797488,31.979661',\n",
       " '118.797719,31.979822',\n",
       " '118.797926,31.979956',\n",
       " '118.79825,31.980165',\n",
       " '118.798545,31.980364',\n",
       " '118.79877,31.980508',\n",
       " '118.798878,31.980578',\n",
       " '118.799795,31.981195',\n",
       " '118.7998,31.981201',\n",
       " '118.800026,31.981356',\n",
       " '118.800235,31.98149',\n",
       " '118.801281,31.982171',\n",
       " '118.801748,31.982456',\n",
       " '118.801844,31.982515',\n",
       " '118.802128,31.982096',\n",
       " '118.802397,31.981651',\n",
       " '118.802468,31.981542',\n",
       " '118.802692,31.981201',\n",
       " '118.802718,31.981158',\n",
       " '118.802804,31.98104',\n",
       " '118.80303,31.980739',\n",
       " '118.803228,31.980482',\n",
       " '118.803684,31.979951',\n",
       " '118.804006,31.980095',\n",
       " '118.804607,31.980589',\n",
       " '118.804998,31.980916',\n",
       " '118.805202,31.981088',\n",
       " '118.805347,31.981201',\n",
       " '118.805985,31.98171',\n",
       " '118.806152,31.981828',\n",
       " '118.806495,31.982075',\n",
       " '118.806978,31.982402',\n",
       " '118.807273,31.981914',\n",
       " '118.807331,31.981832']"
      ]
     },
     "execution_count": 25,
     "metadata": {},
     "output_type": "execute_result"
    }
   ],
   "source": [
    "df_ls['lines'][0].split(';')"
   ]
  },
  {
   "cell_type": "code",
   "execution_count": 26,
   "id": "c68928f8-6a17-4976-aa53-1d6cd95d2837",
   "metadata": {},
   "outputs": [
    {
     "name": "stderr",
     "output_type": "stream",
     "text": [
      "C:\\Users\\ASUS\\AppData\\Local\\Temp\\ipykernel_7536\\212454240.py:1: SettingWithCopyWarning: \n",
      "A value is trying to be set on a copy of a slice from a DataFrame.\n",
      "Try using .loc[row_indexer,col_indexer] = value instead\n",
      "\n",
      "See the caveats in the documentation: https://pandas.pydata.org/pandas-docs/stable/user_guide/indexing.html#returning-a-view-versus-a-copy\n",
      "  df_ls['lines']=df_ls['lines'].apply(lambda x:x.split(';'))\n"
     ]
    },
    {
     "data": {
      "text/plain": [
       "['118.777761,31.981484',\n",
       " '118.777913,31.981501',\n",
       " '118.77837,31.98156',\n",
       " '118.778766,31.981619',\n",
       " '118.778965,31.981651',\n",
       " '118.779078,31.981673',\n",
       " '118.779442,31.981737',\n",
       " '118.779952,31.981855',\n",
       " '118.780129,31.981898',\n",
       " '118.780392,31.981957',\n",
       " '118.781213,31.982215',\n",
       " '118.782125,31.98259',\n",
       " '118.782511,31.982751',\n",
       " '118.782784,31.982874',\n",
       " '118.783739,31.983276',\n",
       " '118.784179,31.983464',\n",
       " '118.784844,31.983743',\n",
       " '118.784985,31.983802',\n",
       " '118.785241,31.98391',\n",
       " '118.785826,31.984167',\n",
       " '118.786421,31.984425',\n",
       " '118.786502,31.984457',\n",
       " '118.786845,31.984596',\n",
       " '118.787064,31.984688',\n",
       " '118.78743,31.984848',\n",
       " '118.787703,31.984961',\n",
       " '118.78824,31.985186',\n",
       " '118.788342,31.985235',\n",
       " '118.788707,31.985385',\n",
       " '118.789533,31.985739',\n",
       " '118.789656,31.985798',\n",
       " '118.790375,31.986125',\n",
       " '118.790783,31.986308',\n",
       " '118.791469,31.986597',\n",
       " '118.792113,31.986881',\n",
       " '118.792564,31.987085',\n",
       " '118.792687,31.98714',\n",
       " '118.793261,31.987396',\n",
       " '118.793486,31.987498',\n",
       " '118.794178,31.987799',\n",
       " '118.794613,31.987986',\n",
       " '118.79523,31.988233',\n",
       " '118.795289,31.98826',\n",
       " '118.795551,31.988368',\n",
       " '118.796008,31.988555',\n",
       " '118.79619,31.98863',\n",
       " '118.796539,31.988786',\n",
       " '118.797322,31.98914',\n",
       " '118.797747,31.988494',\n",
       " '118.798008,31.988099',\n",
       " '118.798486,31.987396',\n",
       " '118.798765,31.986967',\n",
       " '118.798835,31.986865',\n",
       " '118.799076,31.986592',\n",
       " '118.7992,31.986479',\n",
       " '118.799532,31.985948',\n",
       " '118.79958,31.985878',\n",
       " '118.799768,31.985573',\n",
       " '118.799318,31.985213',\n",
       " '118.798384,31.984548',\n",
       " '118.798046,31.984323',\n",
       " '118.797592,31.983997',\n",
       " '118.797553,31.983974',\n",
       " '118.796598,31.983293',\n",
       " '118.795476,31.982515',\n",
       " '118.795509,31.982284',\n",
       " '118.796244,31.981201',\n",
       " '118.796775,31.980423',\n",
       " '118.797327,31.97964',\n",
       " '118.797488,31.979661',\n",
       " '118.797719,31.979822',\n",
       " '118.797926,31.979956',\n",
       " '118.79825,31.980165',\n",
       " '118.798545,31.980364',\n",
       " '118.79877,31.980508',\n",
       " '118.798878,31.980578',\n",
       " '118.799795,31.981195',\n",
       " '118.7998,31.981201',\n",
       " '118.800026,31.981356',\n",
       " '118.800235,31.98149',\n",
       " '118.801281,31.982171',\n",
       " '118.801748,31.982456',\n",
       " '118.801844,31.982515',\n",
       " '118.802128,31.982096',\n",
       " '118.802397,31.981651',\n",
       " '118.802468,31.981542',\n",
       " '118.802692,31.981201',\n",
       " '118.802718,31.981158',\n",
       " '118.802804,31.98104',\n",
       " '118.80303,31.980739',\n",
       " '118.803228,31.980482',\n",
       " '118.803684,31.979951',\n",
       " '118.804006,31.980095',\n",
       " '118.804607,31.980589',\n",
       " '118.804998,31.980916',\n",
       " '118.805202,31.981088',\n",
       " '118.805347,31.981201',\n",
       " '118.805985,31.98171',\n",
       " '118.806152,31.981828',\n",
       " '118.806495,31.982075',\n",
       " '118.806978,31.982402',\n",
       " '118.807273,31.981914',\n",
       " '118.807331,31.981832']"
      ]
     },
     "execution_count": 26,
     "metadata": {},
     "output_type": "execute_result"
    }
   ],
   "source": [
    "df_ls['lines']=df_ls['lines'].apply(lambda x:x.split(';'))\n",
    "df_ls['lines'][0]"
   ]
  },
  {
   "cell_type": "code",
   "execution_count": 27,
   "id": "9d9948e3-ca05-4551-b88f-681d4e67ec70",
   "metadata": {},
   "outputs": [
    {
     "data": {
      "text/html": [
       "<div>\n",
       "<style scoped>\n",
       "    .dataframe tbody tr th:only-of-type {\n",
       "        vertical-align: middle;\n",
       "    }\n",
       "\n",
       "    .dataframe tbody tr th {\n",
       "        vertical-align: top;\n",
       "    }\n",
       "\n",
       "    .dataframe thead th {\n",
       "        text-align: right;\n",
       "    }\n",
       "</style>\n",
       "<table border=\"1\" class=\"dataframe\">\n",
       "  <thead>\n",
       "    <tr style=\"text-align: right;\">\n",
       "      <th></th>\n",
       "      <th>line_name</th>\n",
       "      <th>lines</th>\n",
       "    </tr>\n",
       "  </thead>\n",
       "  <tbody>\n",
       "    <tr>\n",
       "      <th>0</th>\n",
       "      <td>X1路(阅城国际南门--汇康路)</td>\n",
       "      <td>[118.777761,31.981484, 118.777913,31.981501, 1...</td>\n",
       "    </tr>\n",
       "    <tr>\n",
       "      <th>1</th>\n",
       "      <td>16路(龙福山庄总站--中山码头北)</td>\n",
       "      <td>[118.758173,31.997193, 118.758264,31.997166, 1...</td>\n",
       "    </tr>\n",
       "  </tbody>\n",
       "</table>\n",
       "</div>"
      ],
      "text/plain": [
       "            line_name                                              lines\n",
       "0    X1路(阅城国际南门--汇康路)  [118.777761,31.981484, 118.777913,31.981501, 1...\n",
       "1  16路(龙福山庄总站--中山码头北)  [118.758173,31.997193, 118.758264,31.997166, 1..."
      ]
     },
     "execution_count": 27,
     "metadata": {},
     "output_type": "execute_result"
    }
   ],
   "source": [
    "df_ls.head(2)"
   ]
  },
  {
   "cell_type": "code",
   "execution_count": 28,
   "id": "b47ae1d0-473d-497c-9051-353961eafbd8",
   "metadata": {},
   "outputs": [],
   "source": [
    "df_ls.to_json(('lines.json'))"
   ]
  },
  {
   "cell_type": "code",
   "execution_count": null,
   "id": "277e5981-3a0f-4c25-86f0-6b6e34f06a0c",
   "metadata": {},
   "outputs": [],
   "source": []
  }
 ],
 "metadata": {
  "kernelspec": {
   "display_name": "Python 3 (ipykernel)",
   "language": "python",
   "name": "python3"
  },
  "language_info": {
   "codemirror_mode": {
    "name": "ipython",
    "version": 3
   },
   "file_extension": ".py",
   "mimetype": "text/x-python",
   "name": "python",
   "nbconvert_exporter": "python",
   "pygments_lexer": "ipython3",
   "version": "3.8.20"
  }
 },
 "nbformat": 4,
 "nbformat_minor": 5
}
