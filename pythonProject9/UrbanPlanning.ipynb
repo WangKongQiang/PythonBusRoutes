{
 "cells": [
  {
   "cell_type": "code",
   "execution_count": 1,
   "id": "ba883f6e-4ede-4ded-acf1-0a692e930aa5",
   "metadata": {},
   "outputs": [],
   "source": [
    "from lxml import etree\n",
    "import requests\n",
    "url ='http://www.planning.org.cn/news/newslist?cid=12&page=1'\n",
    "html = requests.get(url).text"
   ]
  },
  {
   "cell_type": "code",
   "execution_count": 2,
   "id": "9f75600f-6e1e-4f8a-9a9f-40366e20b346",
   "metadata": {},
   "outputs": [
    {
     "data": {
      "text/plain": [
       "'<!DOCTYPE HTML>\\r\\n<html>\\r\\n  <head>\\r\\n    <meta http-equiv=\"Content-Type\" content=\"text/html; charset=utf-8\" />\\r\\n    <title>规划动态_资讯频道_中国城市规划网</title>\\r\\n\\t<meta name=\"Keywords\" content=\"城市规划新闻,城市规划资讯,城市规划热点,区域规划,低碳城市,户籍改革,总规修编,城镇群规划\" />\\r\\n\\t<meta name=\"description\" content=\"发布规划资讯，行业热点，政策信息等，及时传递行业前沿信息。\" />\\r\\n    <link href=\"/css/common.css\" rel=\"stylesheet\" type=\"text/css\" />\\r\\n    <link href=\"./css/newslist.css\" rel=\"stylesheet\" type=\"text/css\" />\\r\\n\\t<script type=\"text/javascript\" src=\"/js/jquery.min.js\"></script>\\r\\n\\t<script type=\"text/javascript\" src=\"/js/theia-sticky-sidebar.js\"></script>\\r\\n<script type=\"text/javascript\" src=\"/js/jquery.SuperSlide.2.1.1.js\"></script>\\r\\n<script type=\"text/javascript\">\\r\\n\\r\\n//收藏本站 https://www.planning.org.cn\\r\\nfunction AddFavorite(title, url) {\\r\\n try {\\r\\n   window.external.addFavorite(url, title);\\r\\n }\\r\\ncatch (e) {\\r\\n   try {\\r\\n    window.sidebar.addPanel(title, url, \"\");\\r\\n  }\\r\\n   catch (e) {\\r\\n     alert(\"抱歉，您所使用的浏览器无法完成此操作。\\\\n\\\\n加入收藏失败，请进入新网站后使用Ctrl+D进行添加\");\\r\\n   }\\r\\n }\\r\\n}\\r\\n//设置\\r\\n\\r\\n</script>\\r\\n\\t<script type=\"text/javascript\">\\r\\n\\t\\t(function ($){  \\r\\n\\t\\t\\t$.fn.tabs = function (options)\\r\\n\\t\\t\\t{  \\r\\n\\t\\t\\t\\tvar opts = $.extend({\\r\\n\\t\\t\\t\\t\\t \\'switchingMode\\':\\'click\\',\\r\\n\\t\\t\\t\\t\\t \\'on\\' : 0\\r\\n\\t\\t\\t\\t}, options);  \\r\\n\\t\\t\\t\\tvar obj = $(this);        \\r\\n\\t\\t\\t\\tvar clickIndex = 0;               \\r\\n\\t\\t\\t\\t$(\"ul li\", obj).children(\\'a\\').eq(opts.on).addClass(\\'a1\\');\\r\\n\\t\\t\\t\\tobj.next(\\'div\\').children(\\'div\\').eq(opts.on).show().siblings(\\'div\\').hide();            \\r\\n\\t\\t\\t\\t\\r\\n\\t\\t\\t\\t$(\"ul li\", obj).bind(opts.switchingMode, function(i) \\r\\n\\t\\t\\t\\t{  \\r\\n\\t\\t\\t\\t\\t$(this).children(\\'a\\').addClass(\\'a1\\');\\r\\n\\t\\t\\t\\t\\t$(this).siblings(\\'li\\').children(\\'a\\').removeClass(\\'a1\\');                \\r\\n\\t\\t\\t\\t\\tobj.next(\\'div\\').children(\\'div\\').hide();            \\r\\n\\t\\t\\t\\t\\tobj.next(\\'div\\').children(\\'div\\').eq($(this).index()).show();                                            \\r\\n\\t\\t\\t\\t});  \\r\\n\\t\\t\\t};  \\r\\n\\t\\t})(jQuery);\\r\\n\\t\\t\\r\\n\\t\\t$(document).ready(function(){\\r\\n\\t\\t\\t$(\\'#hotNews\\').tabs({\\'switchingMode\\':\\'mouseover\\'});\\r\\n\\t\\t\\t\\r\\n/*\\t\\t\\t$(\\'#fancyshow\\').click(function(){\\r\\n\\t\\t\\t\\t$(\\'#fancy\\').show();\\r\\n\\t\\t\\t});*/\\r\\n\\t\\t\\t\\r\\n\\t\\t\\t$(\\'#fancy li a\\').mouseover(function(){\\r\\n\\t\\t\\t\\t$(this).css(\\'background\\', \\'#E1F5FF\\');\\r\\n\\t\\t\\t}).mouseout(function(){\\r\\n\\t\\t\\t\\t$(this).css(\\'background\\', \\'\\');\\r\\n\\t\\t\\t}).click(function(){\\r\\n\\t\\t\\t\\t$(\\'#schtype\\').val($(this).attr(\\'title\\'));\\r\\n\\t\\t\\t\\t$(\\'#fancyshow\\').text($(this).text());\\r\\n\\t\\t\\t\\t$(\\'#fancy\\').hide();\\r\\n\\t\\t\\t});\\r\\n\\t\\t\\t\\r\\n\\t\\t\\t//搜索\\r\\n\\t\\t\\t$(\\'#submitBtn\\').click(function(){\\r\\n\\t\\t\\t\\tif($(\\'#schkey\\').val() == \\'\\'){\\r\\n\\t\\t\\t\\t\\talert(\\'请输入查询关键字\\');\\r\\n\\t\\t\\t\\t} else {\\r\\n\\t\\t\\t\\t\\t$(\\'#searchform\\').submit();\\r\\n\\t\\t\\t\\t}\\r\\n\\t\\t\\t});\\r\\n\\t\\t\\t\\r\\n\\t\\t});\\r\\n\\t</script>\\r\\n  </head>\\r\\n  <body>\\r\\n   <!-- head start -->\\n<link href=\"/tpl/header/css/header_footer.css\" rel=\"stylesheet\" type=\"text/css\">\\n<div class=\"header-title\">\\n\\t<div class=\"header-cont pr\">\\n\\t\\t<div class=\"fl gf_website_txt\">中国城市规划学会官方网站</div>\\n\\t\\t<span><!--<a href=\"http://en.planning.org.cn/\" target=\"_blank\">English</a>!--></span>\\n\\t\\t<div class=\"header-rcont fr\">\\n        <a href=\"http://m.planning.org.cn\" class=\"butfrbox\" target=\"_blank\"><i></i>手机网</a>\\n\\t\\t\\t<!-- <a href=\"/onepage/index/wzdt\" class=\"butfrbox\">网站导航</a>\\n            <a href=\"javascript:void(0)\" onclick=\"AddFavorite(\\'中国城市规划网\\',\\'https://www.planning.org.cn\\')\" class=\"butfrbox\">收藏本站</a> -->\\n            <!--a href=\"http://bbs.planning.org.cn/\" target=\"_blank\" class=\"butfrbox\">BBS论坛</a-->\\n\\t\\t\\t\\t\\t\\t\\t<a href=\"/mb/login\" class=\"butfrbox\">会员登录</a>\\n\\t\\t\\t\\t\\t</div>\\n\\t</div>\\n</div>\\n<div class=\"newyear_bg bg-white\">\\n<div class=\"header-logo pr\">\\n    <a href=\"/\" class=\"logoenter\"><img src=\"/images/logo_img.png\"></a>\\n    <h4><a href=\"javascript:void(0);\" class=\"on\">中</a><a href=\"http://en.planning.org.cn/\" target=\"_blank\">En</a></h4>\\n\\t<div class=\"rg-search fr w320\">\\n\\t\\t<div id=\"uboxstyle\">\\n\\t\\t\\t<select name=\"search-all\" id=\"search-all\">\\n\\t\\t\\t\\t<option value=\"solicity\" >学会</option>\\n\\t\\t\\t\\t<option value=\"news\" selected=\"selected\">新闻</option>\\n\\t\\t\\t\\t<option value=\"thesis\" >论文</option>\\n\\t\\t\\t\\t<option value=\"case\" >案例</option>\\n\\t\\t\\t\\t<option value=\"law\" >政策法规</option>\\n\\t\\t\\t\\t<option value=\"video\" >会议视频</option>\\n\\t\\t\\t\\t<option value=\"ppt\" >PPT</option>\\n\\t\\t\\t\\t<option value=\"report\" >会议报告</option>\\n\\t\\t\\t</select>\\n\\t\\t</div>\\n\\t\\t<input id=\"head_schkey\" type=\"text\" name=\"head_schkey\" class=\"init\"  />\\n\\t\\t<input value=\"\" type=\"button\" class=\"inent\" onclick=\"headSearch()\" />\\n\\t</div>\\n</div>\\n<div class=\"header-menu w980\">\\n\\t<ul>\\n\\t\\t<span><a href=\"/solicity/\">学会</a></span>\\n\\t\\t<li><a href=\"/solicity/view_common?type=3&cid=5\">学会概况<i></i></a></li>\\n\\t\\t<li class=\"w104\"><a href=\"javascript:void(0)\">品牌活动<i></i></a></li>\\n\\t\\t<li><a href=\"/solicity/newslist?cid=3\">国际合作<i></i></a></li>\\n\\t\\t<li><a href=\"/solicity/newslist?cid=1\">学会动态<i></i></a></li>\\n\\t\\t<li><a href=\"/solicity/newslist?cid=2\">分支机构动态<i></i></a></li>\\n\\t\\t<li><a href=\"/solicity/newslist?cid=4\">技术服务<i></i></a></li>\\n\\t</ul>\\n\\t<ul>\\n\\t\\t<span><a href=\"/news/\">资讯</a></span>\\n\\t\\t<li><a href=\"/news/newslist?cid=11\">学会声音<i></i></a></li>\\n\\t\\t<li><a href=\"/news/newslist?cid=15\">规划会客厅<i></i></a></li>\\n        <li><a href=\"/news/newslist?cid=14\">活动预告<i></i></a></li>\\n        <li><a href=\"/news/newslist?cid=12\">规划动态<i></i></a></li>\\n        <li class=\"w90\"><a href=\"/news/newslist?cid=13\">深度报道<i></i></a></li>\\n        <li><a href=\"/news/newslist?cid=16\">招标信息<i></i></a></li>\\n\\t</ul>\\n\\t<ul>\\n\\t\\t<span><a href=\"/resource/\">资源</a></span>\\n\\t\\t<li><a href=\"/thesis/\">会议论文<i></i></a></li>\\n        <li class=\"w80\"><a href=\"http://v.planning.org.cn/\" target=\"_blank\">规划直播<i></i></a></li>\\n        <li><a href=\"/zx/\">学会咨询<i></i></a></li>\\n        <li><a href=\"/case/\">热点案例<i></i></a></li>\\n        <li class=\"w80\"><a href=\"/ppt/\">会议 PPT<i></i></a></li>\\n        <li><a href=\"/report/newslist\">会议报告<i></i></a></li>\\n\\t</ul>\\n\\t<ul>\\n\\t\\t<span><a href=\"/education/\">教育</a></span>\\n\\t\\t<li><a href=\"javascript:void(0)\">培训信息<i></i></a></li><!--\"/education/news\"-->\\n        <li><a href=\"/education/books?isme=1\">学会出版<i></i></a></li>\\n\\t</ul>\\n    <ul>\\n\\t\\t<span><a href=\"/zt/\">专题</a></span>\\n\\t</ul>\\n</div>\\n</div>\\n<script type=\"text/javascript\">\\nfunction headSearch()\\n{\\n\\tvar model_name = document.getElementById(\\'search-all\\').value;\\n\\tvar key_value = document.getElementById(\\'head_schkey\\').value;\\n\\n        \\n        \\n\\tvar errmsg = \\'\\';\\n\\tif(key_value == \\'\\') {\\n\\t\\terrmsg += \\'请输入搜索关键字\\';\\n\\t}\\n\\tkey_value=encodeURIComponent(key_value)  ;\\n        \\n        \\n\\tif(errmsg != \\'\\') {\\n\\t\\talert(errmsg);\\n\\t} else {\\n\\t\\tvar search_url = \\'\\';\\n\\t\\tswitch(model_name) {\\n\\t\\t\\tcase \\'news\\' :\\n\\t\\t\\t\\tsearch_url += \\'/news/search?schtype=title&schkey=\\' + key_value;\\n\\t\\t\\t\\tbreak;\\n\\t\\t\\tcase \\'thesis\\' :\\n\\t\\t\\t\\tsearch_url += \\'/thesis/search?schtype=title&schkey=\\' + key_value;\\n\\t\\t\\t\\tbreak;\\n\\t\\t\\tcase \\'case\\' :\\n\\t\\t\\t\\tsearch_url += \\'/case/newslist?type=search&schkey=\\' + key_value;\\n\\t\\t\\t\\tbreak;\\n\\t\\t\\tcase \\'law\\' :\\n\\t\\t\\t\\tsearch_url += \\'/law/search?schkey=\\' + key_value;\\n\\t\\t\\t\\tbreak;\\n\\t\\t\\tcase \\'video\\' :\\n\\t\\t\\t\\tsearch_url += \\'/video/search?schtype=title&schkey=\\' + key_value;\\n\\t\\t\\t\\tbreak;\\n\\t\\t\\tcase \\'ppt\\' :\\n\\t\\t\\t\\tsearch_url += \\'/ppt/search?schtype=title&schkey=\\' + key_value;\\n\\t\\t\\t\\tbreak;\\n\\t\\t\\tcase \\'report\\' :\\n\\t\\t\\t\\tsearch_url += \\'/report/newslist?schkey=\\' + key_value;\\n\\t\\t\\t\\tbreak;\\n\\t\\t\\t\\t\\n\\t\\t\\tdefault :\\n\\t\\t\\t\\tsearch_url += \\'/solicity/search?schkey=\\' + key_value;\\n\\t\\t}\\n\\t\\tif(search_url != \\'\\') {\\n\\t\\t\\twindow.open(search_url);\\n\\t\\t}\\n\\t}\\n}\\n</script>\\n<!-- head end --> \\r\\n    <link href=\"/css/common.css\" rel=\"stylesheet\" type=\"text/css\">\\r\\n<link href=\"/tpl/header/css/header_footer.css\" rel=\"stylesheet\" type=\"text/css\">\\r\\n\\r\\n\\r\\n<!--<div class=\"w1000 bc mt10\">\\r\\n  <p class=\"ml20\"><a href=\"/news/\"><img src=\"/tpl/header/images/header/zx_nav.jpg\"></a></p>\\r\\n  \\r\\n</div>-->\\r\\n\\r\\n<div class=\"nav_ext mt15\">\\r\\n\\t<div class=\"w1002 bc zoom\">\\r\\n    \\t<ul class=\"nav_ul1 zoom\">\\r\\n        <li class=\"nav_left_title\"><a href=\"/news/\"><img src=\"/tpl/header/images/header/zx_nav.gif\"></a></li>\\r\\n\\t\\t\\t<li><a href=\"/news/\" >首&nbsp;&nbsp;页</a></li> \\r\\n            <!-- <li><a href=\"/news/newslist?cid=12\" class=\"a1\">规划动态</a></li> -->\\r\\n\\t\\t\\t<li><a href=\"/news/newslist?cid=12\" class=\"a1\">规划动态</a></li>\\r\\n            <li><a href=\"/news/newslist?cid=11\" >学会声音</a></li>\\r\\n            <li><a href=\"/news/newslist?cid=15\" >规划会客厅</a></li>\\r\\n            <li><a href=\"/news/newslist?cid=14\" >活动预告</a></li>\\r\\n            <li><a href=\"/news/newslist?cid=13\" >深度报道</a></li>\\r\\n            <li><a href=\"/news/newslist?cid=16\" >招标信息</a></li>\\r\\n        </ul>\\r\\n\\t\\t\\r\\n\\t\\t<!--<form id=\"searchform\" name=\"searchform\" method=\"get\" action=\"/news/search\" class=\"news_nav_form1 news_list_nav_form1 w260 fr zoom f12\">\\r\\n        <div class=\"fl news_nav_boxa\">\\r\\n\\t\\t\\t<span class=\"nLi\"><a id=\"fancyshow\" href=\"javascript:void(0);\" class=\"a1\">标题</a> \\r\\n\\t\\t\\t<ul id=\"fancy\" class=\"news_nav_ul1 tc\" style=\"display:none;\">\\r\\n\\t\\t\\t\\t<li><a href=\"javascript:void(0);\" title=\"title\">标题</a></li>\\r\\n\\t\\t\\t\\t<li><a href=\"javascript:void(0);\" title=\"content\">内容</a></li>\\r\\n\\t\\t\\t</ul>\\r\\n            </span>\\r\\n\\t\\t\\t<input id=\"schtype\" name=\"schtype\" type=\"hidden\" value=\"title\" />\\r\\n        </div>\\r\\n        <p class=\"fl\">\\r\\n          <input id=\"schkey\" name=\"schkey\" type=\"text\" class=\"news_nav_text1 w160\" />\\r\\n        </p>\\r\\n        <p class=\"fr\">\\r\\n          <input id=\"submitBtn\" name=\"submitBtn\" type=\"button\" class=\"news_list_nav_btn1\" />\\r\\n        </p>\\r\\n\\t\\t</form>\\r\\n        <script>\\r\\n\\t\\tjQuery(\".news_nav_boxa\").slide({ type:\"menu\", titCell:\".nLi\", targetCell:\"#fancy\",effect:\"slideDown\",delayTime:300,triggerTime:0,defaultPlay:false,returnDefault:true});\\r\\n\\t\\t</script>-->\\r\\n    </div>\\r\\n</div>\\r\\n\\r\\n\\r\\n    \\r\\n   \\r\\n    <div class=\"news_list_nav w1000 mt5 f12 bc zoom\">\\r\\n\\t\\t<p class=\"fl news_list_nav_p1\">您当前的位置：\\r\\n\\t\\t\\t<a href=\"/\">中国城市规划网</a>&gt;<a href=\"/news/index\">资讯</a>&gt; 规划动态\\t\\t</p>\\r\\n    </div>\\r\\n    <div class=\"w1000 bc zoom mt5\">\\r\\n      <div class=\"fl w680 overh xh_list_boxb content\" style=\"margin-top:0;\">\\r\\n      \\t<div class=\"theiaStickySidebar\">\\r\\n        <!-- <div class=\"tc\">\\r\\n        \\t       \\t<a href=\"http://www.planning.cn/\" target=\"_blank\" style=\"width:680px;height:68px;display:block;margin-bottom:20px;margin-right:20px;float:left;\">\\r\\n        \\t       \\t<img src=\"/images/ad/20200710-1000-100.gif\" width=\"680\">\\r\\n        \\t       \\t</a>\\r\\n        </div> -->\\r\\n        \\t\\t\\t<div class=\"tc\">\\r\\n\\t\\t\\t\\t\\t\\t\\t\\t\\t\\t\\t\\t\\t\\t\\t<a href=\"https://www.planning.org.cn/solicity/view_news?id=2389\"  style=\"width:680px;height:68px;display:block;margin-bottom:20px;margin-right:20px;float:left;\">\\r\\n\\t\\t\\t\\t\\t\\t\\t\\t\\t\\t\\t<img src=\"https://www.planning.org.cn/uploads/loop/2025/03/7004_1742268084.jpg\" width=\"680\" >\\r\\n\\t\\t\\t\\t\\t</a>\\r\\n\\t\\t\\t\\t\\r\\n\\t\\t\\t</div>\\r\\n\\t\\t\\r\\n\\t\\t\\t\\t\\t\\t\\t<div class=\"zoom mt10 news_list_boxb pb10 f12 l22 pr15\">\\r\\n\\t\\t\\t\\t<h4 class=\"pb5\"><a href=\"/news/view?id=16782\" title=\"五维布局，天津规划总院2025年度工作将这样展开\" target=\"_blank\">五维布局，天津规划总院2025年度工作将这样展开</a></h4>\\r\\n\\t\\t\\t\\t<p>\\r\\n\\t\\t\\t\\t\\t在3月27日下午召开的天津市城市规划设计研究总院（以下简称“天津规划总院”）2025年度重点工作部署会上，天津规划总院党委书记、董事长周长林针对全年工作提出五方面要求。\\r\\n\\t\\t\\t\\t\\t\\t\\t\\t\\t</p>\\r\\n\\t\\t\\t\\t<p class=\"news_list_p2 tr\">2025-04-01 14:30</p>\\r\\n\\t\\t\\t</div>\\r\\n\\t\\t\\t\\t\\t<div class=\"zoom mt10 news_list_boxb pb10 f12 l22 pr15\">\\r\\n\\t\\t\\t\\t<h4 class=\"pb5\"><a href=\"/news/view?id=16780\" title=\"国家标准《住宅项目规范》落地，有哪些看点？\" target=\"_blank\">国家标准《住宅项目规范》落地，有哪些看点？</a></h4>\\r\\n\\t\\t\\t\\t<p>\\r\\n\\t\\t\\t\\t\\t住房城乡建设部3月31日发布国家标准《住宅项目规范》，要求住宅项目建设应以安全、舒适、绿色、智慧为目标，遵循“经济合理、安全耐久，以人为本、健康舒适，因地制宜、绿色低碳，科技赋能、智慧便利”的原则。\\r\\n\\t\\t\\t\\t\\t\\t\\t\\t\\t</p>\\r\\n\\t\\t\\t\\t<p class=\"news_list_p2 tr\">2025-04-01 11:30</p>\\r\\n\\t\\t\\t</div>\\r\\n\\t\\t\\t\\t\\t<div class=\"zoom mt10 news_list_boxb pb10 f12 l22 pr15\">\\r\\n\\t\\t\\t\\t<h4 class=\"pb5\"><a href=\"/news/view?id=16771\" title=\"第二批城市一刻钟便民生活圈全域推进先行区试点申报工作启动\" target=\"_blank\">第二批城市一刻钟便民生活圈全域推进先行区试点申报工作启动</a></h4>\\r\\n\\t\\t\\t\\t<p>\\r\\n\\t\\t\\t\\t\\t商务部等11部门近日印发通知，推广全国第二批城市一刻钟便民生活圈试点经验及开展第二批全域推进先行区试点申报工作。\\r\\n\\t\\t\\t\\t\\t\\t\\t\\t\\t</p>\\r\\n\\t\\t\\t\\t<p class=\"news_list_p2 tr\">2025-03-31 11:25</p>\\r\\n\\t\\t\\t</div>\\r\\n\\t\\t\\t\\t\\t<div class=\"zoom mt10 news_list_boxb pb10 f12 l22 pr15\">\\r\\n\\t\\t\\t\\t<h4 class=\"pb5\"><a href=\"/news/view?id=16768\" title=\"《城市空间发展论》英文版全球发行\" target=\"_blank\">《城市空间发展论》英文版全球发行</a></h4>\\r\\n\\t\\t\\t\\t<p>\\r\\n\\t\\t\\t\\t\\t作为首部采用开放获取（Open Access）模式发行的中国城市发展理论著作，中国城市规划学会副理事长、中国科学院院士、全国工程勘察设计大师、东南大学段进教授院士的《Theory of Urban Spatial Development》（城市空间发展论）一书电子版即日起可在全球范围内下载。\\r\\n\\t\\t\\t\\t\\t\\t\\t\\t\\t</p>\\r\\n\\t\\t\\t\\t<p class=\"news_list_p2 tr\">2025-03-31 10:30</p>\\r\\n\\t\\t\\t</div>\\r\\n\\t\\t\\t\\t\\t<div class=\"zoom mt10 news_list_boxb pb10 f12 l22 pr15\">\\r\\n\\t\\t\\t\\t<h4 class=\"pb5\"><a href=\"/news/view?id=16767\" title=\"《广东省历史文化名城名镇名村保护条例》全文\" target=\"_blank\">《广东省历史文化名城名镇名村保护条例》全文</a></h4>\\r\\n\\t\\t\\t\\t<p>\\r\\n\\t\\t\\t\\t\\t《广东省历史文化名城名镇名村保护条例》已由广东省第十四届人民代表大会常务委员会第十六次会议于2025年3月25日通过，现予公布，自2025年5月1日起施行。\\r\\n\\t\\t\\t\\t\\t\\t\\t\\t\\t</p>\\r\\n\\t\\t\\t\\t<p class=\"news_list_p2 tr\">2025-03-31 10:14</p>\\r\\n\\t\\t\\t</div>\\r\\n\\t\\t\\t\\t\\t<div class=\"zoom mt10 news_list_boxb pb10 f12 l22 pr15\">\\r\\n\\t\\t\\t\\t<h4 class=\"pb5\"><a href=\"/news/view?id=16766\" title=\"2024年度中规院学术交流会成功召开\" target=\"_blank\">2024年度中规院学术交流会成功召开</a></h4>\\r\\n\\t\\t\\t\\t<p>\\r\\n\\t\\t\\t\\t\\t春启新序，岁物丰成。3月24日，中国城市规划设计研究院2024年度学术交流会正式启动，活动为期3天，包含6个单元。\\r\\n\\t\\t\\t\\t\\t\\t\\t\\t\\t</p>\\r\\n\\t\\t\\t\\t<p class=\"news_list_p2 tr\">2025-03-31 09:50</p>\\r\\n\\t\\t\\t</div>\\r\\n\\t\\t\\t\\t\\t<div class=\"zoom mt10 news_list_boxb pb10 f12 l22 pr15\">\\r\\n\\t\\t\\t\\t<h4 class=\"pb5\"><a href=\"/news/view?id=16764\" title=\"三部门印发儿童友好城市建设经验举措清单\" target=\"_blank\">三部门印发儿童友好城市建设经验举措清单</a></h4>\\r\\n\\t\\t\\t\\t<p>\\r\\n\\t\\t\\t\\t\\t日前，国家发展改革委办公厅、国务院妇儿工委办公室、住房城乡建设部办公厅印发儿童友好城市建设经验举措的通知，从7个方面对各地先行先试的政策措施进行梳理研究，形成17项主要举措，供各地参考借鉴。\\r\\n\\t\\t\\t\\t\\t\\t\\t\\t\\t</p>\\r\\n\\t\\t\\t\\t<p class=\"news_list_p2 tr\">2025-03-31 09:18</p>\\r\\n\\t\\t\\t</div>\\r\\n\\t\\t\\t\\t\\t<div class=\"zoom mt10 news_list_boxb pb10 f12 l22 pr15\">\\r\\n\\t\\t\\t\\t<h4 class=\"pb5\"><a href=\"/news/view?id=16761\" title=\"中共中央办公厅、国务院办公厅印发重要方案\" target=\"_blank\">中共中央办公厅、国务院办公厅印发重要方案</a></h4>\\r\\n\\t\\t\\t\\t<p>\\r\\n\\t\\t\\t\\t\\t近日，中共中央办公厅、国务院办公厅印发了《逐步把永久基本农田建成高标准农田实施方案》，并发出通知，要求各地区各部门结合实际认真贯彻落实。《逐步把永久基本农田建成高标准农田实施方案》全文如下。\\r\\n\\t\\t\\t\\t\\t\\t\\t\\t\\t</p>\\r\\n\\t\\t\\t\\t<p class=\"news_list_p2 tr\">2025-03-31 09:05</p>\\r\\n\\t\\t\\t</div>\\r\\n\\t\\t\\t\\t\\t<div class=\"zoom mt10 news_list_boxb pb10 f12 l22 pr15\">\\r\\n\\t\\t\\t\\t<h4 class=\"pb5\"><a href=\"/news/view?id=16759\" title=\"住建部召开2025年城市体检工作部署视频会\" target=\"_blank\">住建部召开2025年城市体检工作部署视频会</a></h4>\\r\\n\\t\\t\\t\\t<p>\\r\\n\\t\\t\\t\\t\\t3月21日，住房城乡建设部召开2025年城市体检工作部署视频会。总结交流2024年城市体检工作，对深入开展2025年城市体检工作进行动员部署，促进城市高质量发展。\\r\\n\\t\\t\\t\\t\\t\\t\\t\\t\\t</p>\\r\\n\\t\\t\\t\\t<p class=\"news_list_p2 tr\">2025-03-25 08:54</p>\\r\\n\\t\\t\\t</div>\\r\\n\\t\\t\\t\\t\\t<div class=\"zoom mt10 news_list_boxb pb10 f12 l22 pr15\">\\r\\n\\t\\t\\t\\t<h4 class=\"pb5\"><a href=\"/news/view?id=16757\" title=\"住建部推介八类41个城市更新典型案例\" target=\"_blank\">住建部推介八类41个城市更新典型案例</a></h4>\\r\\n\\t\\t\\t\\t<p>\\r\\n\\t\\t\\t\\t\\t导读为贯彻落实党中央、国务院关于实施城市更新行动的决策部署，有力有序有效实施城市更新重点任务，总结推广城市更新好经验好做法好案例，住房城乡建设部组织遴选了第二批城市更新典型案例，编制《城市更新典型案例集（第二批...\\r\\n\\t\\t\\t\\t\\t\\t\\t\\t\\t</p>\\r\\n\\t\\t\\t\\t<p class=\"news_list_p2 tr\">2025-03-25 08:21</p>\\r\\n\\t\\t\\t</div>\\r\\n\\t\\t\\t\\t\\t<div class=\"zoom mt10 news_list_boxb pb10 f12 l22 pr15\">\\r\\n\\t\\t\\t\\t<h4 class=\"pb5\"><a href=\"/news/view?id=16754\" title=\"第三届全球可持续发展城市奖（上海奖）启动征集\" target=\"_blank\">第三届全球可持续发展城市奖（上海奖）启动征集</a></h4>\\r\\n\\t\\t\\t\\t<p>\\r\\n\\t\\t\\t\\t\\t近日，联合国人居署官网正式发布第三届全球可持续发展城市奖（上海奖）征集通知。奖项以共建可持续的城市未来为总主题，结合2025年世界城市日、世界人居日主题，响应全球城市可持续发展优先事项，特别鼓励和欢迎在“适足住房，满足多元需求”、“以人为本，共建智慧城市”、“绿色韧性，应对气候变化”、“有效治理，激发城市活力”四个方向取得显著进展的全球城市参与申报。申报截止日期为2025年6月10日。\\r\\n\\t\\t\\t\\t\\t\\t\\t\\t\\t</p>\\r\\n\\t\\t\\t\\t<p class=\"news_list_p2 tr\">2025-03-20 13:48</p>\\r\\n\\t\\t\\t</div>\\r\\n\\t\\t\\t\\t\\t<div class=\"zoom mt10 news_list_boxb pb10 f12 l22 pr15\">\\r\\n\\t\\t\\t\\t<h4 class=\"pb5\"><a href=\"/news/view?id=16751\" title=\"18所高校专家共话：让建筑与土木大类学科建设焕发新的生命力\" target=\"_blank\">18所高校专家共话：让建筑与土木大类学科建设焕发新的生命力</a></h4>\\r\\n\\t\\t\\t\\t<p>\\r\\n\\t\\t\\t\\t\\t当前，政策环境更加友好、外部支持不断向好，面对高等教育高质量发展的要求，民办高校如何以更好的姿态迎接挑战？从传统模式向新时代教育模式转型和发展，探索科学路径和技术方法，是各民办高校正在思索的方向。3月15日，建筑与土木大类高校学科建设发展高端学术研讨会在渝举行。\\r\\n\\t\\t\\t\\t\\t\\t\\t\\t\\t</p>\\r\\n\\t\\t\\t\\t<p class=\"news_list_p2 tr\">2025-03-20 10:00</p>\\r\\n\\t\\t\\t</div>\\r\\n\\t\\t\\t\\t\\t<div class=\"zoom mt10 news_list_boxb pb10 f12 l22 pr15\">\\r\\n\\t\\t\\t\\t<h4 class=\"pb5\"><a href=\"/news/view?id=16750\" title=\"中国城市规划学会监事长吴志强担任CAETS委员会领导职务\" target=\"_blank\">中国城市规划学会监事长吴志强担任CAETS委员会领导职务</a></h4>\\r\\n\\t\\t\\t\\t<p>\\r\\n\\t\\t\\t\\t\\t近日，中国城市规划学会监事长、中国工程院院士，德国国家工程科学院院士、瑞典皇家工程科学院院士、同济大学教授吴志强全票当选国际工程与技术科学院理事会（CAETS）委员会副主席，这是中国学者首次在CAETS委员会中担任领导职务。\\r\\n\\t\\t\\t\\t\\t\\t\\t\\t\\t</p>\\r\\n\\t\\t\\t\\t<p class=\"news_list_p2 tr\">2025-03-20 09:41</p>\\r\\n\\t\\t\\t</div>\\r\\n\\t\\t\\t\\t\\t<div class=\"zoom mt10 news_list_boxb pb10 f12 l22 pr15\">\\r\\n\\t\\t\\t\\t<h4 class=\"pb5\"><a href=\"/news/view?id=16749\" title=\"李晓龙任住房和城乡建设部党组成员、副部长\" target=\"_blank\">李晓龙任住房和城乡建设部党组成员、副部长</a></h4>\\r\\n\\t\\t\\t\\t<p>\\r\\n\\t\\t\\t\\t\\t据住房城乡建设部网站，李晓龙任住房和城乡建设部党组成员、副部长。\\r\\n\\t\\t\\t\\t\\t\\t\\t\\t\\t</p>\\r\\n\\t\\t\\t\\t<p class=\"news_list_p2 tr\">2025-03-20 09:30</p>\\r\\n\\t\\t\\t</div>\\r\\n\\t\\t\\t\\t\\t<div class=\"zoom mt10 news_list_boxb pb10 f12 l22 pr15\">\\r\\n\\t\\t\\t\\t<h4 class=\"pb5\"><a href=\"/news/view?id=16748\" title=\"沈阳加快打造国际综合交通枢纽城市\" target=\"_blank\">沈阳加快打造国际综合交通枢纽城市</a></h4>\\r\\n\\t\\t\\t\\t<p>\\r\\n\\t\\t\\t\\t\\t沈阳市交通领域“铁、公、机”项目建设将全面发力，推进实施50余个重大项目，国际性综合交通枢纽城市建设跑出“加速度”。今年沈阳桃仙国际机场第二跑道建设将全面启动，4月机场配套综合交通枢纽工程（沈鞍城际、K2线下穿二跑道地下预留工程）将全面开工，构建“航空＋高铁＋城际＋地铁”的立体化综合枢纽。\\r\\n\\t\\t\\t\\t\\t\\t\\t\\t\\t</p>\\r\\n\\t\\t\\t\\t<p class=\"news_list_p2 tr\">2025-03-19 10:23</p>\\r\\n\\t\\t\\t</div>\\r\\n\\t\\t\\t\\t        <table class=\"tc news_page_turning f14 bc mt40\" cellspacing=\"0\" cellpadding=\"0\" align=\"center\">\\r\\n\\t\\t\\t<div class=\"pages_bd\"><span>1/556</span><a href=\"javascript:void(0);\" class=\"on\">1</a><a href=\"/news/newslist?cid=12&page=2\" >2</a><a href=\"/news/newslist?cid=12&page=3\" >3</a><a href=\"/news/newslist?cid=12&page=4\" >4</a><a href=\"/news/newslist?cid=12&page=5\" >5</a><a href=\"/news/newslist?cid=12&page=6\" >6</a><a href=\"/news/newslist?cid=12&page=7\" >7</a><a href=\"/news/newslist?cid=12&page=8\" >8</a><a href=\"/news/newslist?cid=12&page=9\" >9</a><a href=\"/news/newslist?cid=12&page=10\" >10</a><a href=\"/news/newslist?cid=12&page=2\" class=\"pr2\">&gt;</a><a href=\"/news/newslist?cid=12&page=556\" class=\"pr1\">&gt;&gt;</a></div>\\r\\n        </table>\\r\\n\\t\\t</div>\\r\\n      </div>\\r\\n\\t  \\r\\n      <div class=\"fr w300 overh right_side\">\\r\\n      \\t<div class=\"theiaStickySidebar\">\\r\\n        <div class=\"tc\">\\r\\n          <a href=\"https://www.planning.org.cn/bayarea/index.html\" target=\"_blank\" title=\"粤港澳大湾区规划联合体\"><img src=\"/images/index/20240104-350-270.jpg\" width=\"300\"></a>\\r\\n        \\r\\n        </div>\\r\\n        <div class=\"news_title1 news_title1_1 zoom mt20\">\\r\\n          <h3 class=\"fl\">学会声音</h3>\\r\\n          <p class=\"fr f12\">\\r\\n            <a href=\"/news/newslist?cid=11\">更多</a>\\r\\n          </p>\\r\\n        </div>\\r\\n        <ul class=\"f12 l24 news_ul1 news_list_ul1 mt14\">\\r\\n          \\t\\t\\t\\t\\t\\t<li>\\r\\n\\t\\t\\t\\t<a href=\"/news/view?id=16627\" title=\"重塑信心，把握机遇，破界提质，推动规划学科转型\" target=\"_blank\">重塑信心，把握机遇，破界提质，推动规划学科...</a>\\r\\n\\t\\t\\t</li>\\r\\n\\t\\t\\t\\t\\t\\t<li>\\r\\n\\t\\t\\t\\t<a href=\"/news/view?id=16259\" title=\"杨保军：城市设计行业如何自我更新\" target=\"_blank\">杨保军：城市设计行业如何自我更新</a>\\r\\n\\t\\t\\t</li>\\r\\n\\t\\t\\t\\t\\t\\t<li>\\r\\n\\t\\t\\t\\t<a href=\"/news/view?id=16245\" title=\"新时代，新需求，新体系：公园城市指数\" target=\"_blank\">新时代，新需求，新体系：公园城市指数</a>\\r\\n\\t\\t\\t</li>\\r\\n\\t\\t\\t\\t\\t\\t<li>\\r\\n\\t\\t\\t\\t<a href=\"/news/view?id=15882\" title=\"纪念钟训正先生 | 张泉：以先贤为榜样，秉承和弘扬四大精神\" target=\"_blank\">纪念钟训正先生 | 张泉：以先贤为榜样，秉...</a>\\r\\n\\t\\t\\t</li>\\r\\n\\t\\t\\t\\t\\t\\t<li>\\r\\n\\t\\t\\t\\t<a href=\"/news/view?id=15635\" title=\"袁昕：新发展趋势下的社区规划\" target=\"_blank\">袁昕：新发展趋势下的社区规划</a>\\r\\n\\t\\t\\t</li>\\r\\n\\t\\t\\t\\t\\t\\t<li>\\r\\n\\t\\t\\t\\t<a href=\"/news/view?id=15468\" title=\"地下空间赋能城市高质量发展（南京倡议·2024）\" target=\"_blank\">地下空间赋能城市高质量发展（南京倡议·202...</a>\\r\\n\\t\\t\\t</li>\\r\\n\\t\\t\\t\\t\\t\\t<li>\\r\\n\\t\\t\\t\\t<a href=\"/news/view?id=15362\" title=\"2024全国城市规划学会工作会议\" target=\"_blank\">2024全国城市规划学会工作会议</a>\\r\\n\\t\\t\\t</li>\\r\\n\\t\\t\\t\\t\\t\\t<li>\\r\\n\\t\\t\\t\\t<a href=\"/news/view?id=14924\" title=\"石楠：城中村改造顶层设计亟待破题\" target=\"_blank\">石楠：城中村改造顶层设计亟待破题</a>\\r\\n\\t\\t\\t</li>\\r\\n\\t\\t\\t\\t\\t\\t<li>\\r\\n\\t\\t\\t\\t<a href=\"/news/view?id=14588\" title=\"致敬 | 陈秉钊：一位城乡规划老兵的心声\" target=\"_blank\">致敬 | 陈秉钊：一位城乡规划老兵的心声</a>\\r\\n\\t\\t\\t</li>\\r\\n\\t\\t\\t\\t\\t\\t<li>\\r\\n\\t\\t\\t\\t<a href=\"/news/view?id=14245\" title=\"曲长虹：城乡规划学科发展思考\" target=\"_blank\">曲长虹：城乡规划学科发展思考</a>\\r\\n\\t\\t\\t</li>\\r\\n\\t\\t\\t                  </ul>\\r\\n        <div class=\"news_title1 news_title1_1 zoom mt25\">\\r\\n          <h3 class=\"fl\">规划动态</h3>\\r\\n          <p class=\"fr f12\">\\r\\n            <a href=\"/news/newslist?cid=12\">更多</a>\\r\\n          </p>\\r\\n        </div>\\r\\n        <ul class=\"f12 l24 news_ul1 news_list_ul1 mt14\">\\r\\n          \\t\\t\\t\\t\\t\\t<li>\\r\\n\\t\\t\\t\\t<a href=\"/news/view?id=16782\" title=\"五维布局，天津规划总院2025年度工作将这样展开\" target=\"_blank\">五维布局，天津规划总院2025年度工作将这样...</a>\\r\\n\\t\\t\\t</li>\\r\\n\\t\\t\\t\\t\\t\\t<li>\\r\\n\\t\\t\\t\\t<a href=\"/news/view?id=16780\" title=\"国家标准《住宅项目规范》落地，有哪些看点？\" target=\"_blank\">国家标准《住宅项目规范》落地，有哪些看点？</a>\\r\\n\\t\\t\\t</li>\\r\\n\\t\\t\\t\\t\\t\\t<li>\\r\\n\\t\\t\\t\\t<a href=\"/news/view?id=16771\" title=\"第二批城市一刻钟便民生活圈全域推进先行区试点申报工作启动\" target=\"_blank\">第二批城市一刻钟便民生活圈全域推进先行区试...</a>\\r\\n\\t\\t\\t</li>\\r\\n\\t\\t\\t\\t\\t\\t<li>\\r\\n\\t\\t\\t\\t<a href=\"/news/view?id=16768\" title=\"《城市空间发展论》英文版全球发行\" target=\"_blank\">《城市空间发展论》英文版全球发行</a>\\r\\n\\t\\t\\t</li>\\r\\n\\t\\t\\t\\t\\t\\t<li>\\r\\n\\t\\t\\t\\t<a href=\"/news/view?id=16767\" title=\"《广东省历史文化名城名镇名村保护条例》全文\" target=\"_blank\">《广东省历史文化名城名镇名村保护条例》全文</a>\\r\\n\\t\\t\\t</li>\\r\\n\\t\\t\\t\\t\\t\\t<li>\\r\\n\\t\\t\\t\\t<a href=\"/news/view?id=16766\" title=\"2024年度中规院学术交流会成功召开\" target=\"_blank\">2024年度中规院学术交流会成功召开</a>\\r\\n\\t\\t\\t</li>\\r\\n\\t\\t\\t\\t\\t\\t<li>\\r\\n\\t\\t\\t\\t<a href=\"/news/view?id=16764\" title=\"三部门印发儿童友好城市建设经验举措清单\" target=\"_blank\">三部门印发儿童友好城市建设经验举措清单</a>\\r\\n\\t\\t\\t</li>\\r\\n\\t\\t\\t\\t\\t\\t<li>\\r\\n\\t\\t\\t\\t<a href=\"/news/view?id=16761\" title=\"中共中央办公厅、国务院办公厅印发重要方案\" target=\"_blank\">中共中央办公厅、国务院办公厅印发重要方案</a>\\r\\n\\t\\t\\t</li>\\r\\n\\t\\t\\t\\t\\t\\t<li>\\r\\n\\t\\t\\t\\t<a href=\"/news/view?id=16759\" title=\"住建部召开2025年城市体检工作部署视频会\" target=\"_blank\">住建部召开2025年城市体检工作部署视频会</a>\\r\\n\\t\\t\\t</li>\\r\\n\\t\\t\\t\\t\\t\\t<li>\\r\\n\\t\\t\\t\\t<a href=\"/news/view?id=16757\" title=\"住建部推介八类41个城市更新典型案例\" target=\"_blank\">住建部推介八类41个城市更新典型案例</a>\\r\\n\\t\\t\\t</li>\\r\\n\\t\\t\\t                  </ul>\\r\\n        <div class=\"news_title1 news_title1_1 zoom mt25\">\\r\\n          <h3 class=\"fl\">规划会客厅</h3>\\r\\n          <p class=\"fr f12\">\\r\\n            <a href=\"/news/newslist?cid=15\">更多</a>\\r\\n          </p>\\r\\n        </div>\\r\\n        <div class=\"tc mt7\">\\r\\n          <img src=\"/news/uploads/2025/03/4971_1742279993.png\" width=\"300\" height=\"213\" />\\r\\n        </div>\\r\\n        <p class=\"news_list_p1 mt15\">\\r\\n          <a href=\"/news/view?id=16741\" title=\"樊杰：“投资于人”具有重要现实价值和长期战略效应，是一次根本性的重大转型\" target=\"_blank\">樊杰：“投资于人”具有重要现实价值和...</a>\\r\\n        </p>\\r\\n        <ul class=\"f12 l24 news_ul1 news_list_ul1 mt10\">\\r\\n          \\t\\t\\t\\t\\t\\t\\t\\t\\t\\t\\t\\t\\t\\t\\t<li>\\r\\n\\t\\t\\t\\t<a href=\"/news/view?id=16672\" title=\"两会访谈｜樊杰：如何认识和把握主体功能区\" target=\"_blank\">两会访谈｜樊杰：如何认识和把握主体功能区</a>\\r\\n\\t\\t\\t</li>\\r\\n\\t\\t\\t\\t\\t\\t\\t\\t\\t\\t\\t\\t<li>\\r\\n\\t\\t\\t\\t<a href=\"/news/view?id=16657\" title=\"魏后凯代表等：绘就城乡融合发展新画卷\" target=\"_blank\">魏后凯代表等：绘就城乡融合发展新画卷</a>\\r\\n\\t\\t\\t</li>\\r\\n\\t\\t\\t\\t\\t\\t\\t\\t\\t\\t\\t\\t<li>\\r\\n\\t\\t\\t\\t<a href=\"/news/view?id=16563\" title=\"促进大中小城市和小城镇协调发展\" target=\"_blank\">促进大中小城市和小城镇协调发展</a>\\r\\n\\t\\t\\t</li>\\r\\n\\t\\t\\t\\t\\t\\t                  </ul>\\r\\n        <div class=\"zoom mt25\"  id=\"hotNews\">\\r\\n          <div class=\"news_list_title4 fl\">\\r\\n          <span class=\"span1\">热</span>点</div>\\r\\n          <div class=\"news_list_title3 fl w243\">\\r\\n            <ul class=\"zoom\">\\r\\n              <li><a href=\"javascript:void(0);\" class=\"a1\">一周</a></li>\\r\\n              <li><a href=\"javascript:void(0);\">一月</a></li>\\r\\n            </ul>\\r\\n          </div>\\r\\n        </div>\\r\\n\\t\\t<div>\\r\\n\\t\\t\\t<div class=\"mt15\">\\r\\n\\t\\t\\t  <ul class=\"news_list_ul3 f12 l26\">\\r\\n\\t\\t\\t\\t\\t\\t\\t\\t\\t\\t\\t\\t\\t<li class=\"li1\">\\r\\n\\t\\t\\t\\t\\t\\t<a href=\"/news/view?id=16757\" title=\"住建部推介八类41个城市更新典型案例\" target=\"_blank\">住建部推介八类41个城市更新典型案例</a>\\r\\n\\t\\t\\t\\t\\t</li>\\r\\n\\t\\t\\t\\t\\t\\t\\t\\t\\t<li class=\"li2\">\\r\\n\\t\\t\\t\\t\\t\\t<a href=\"/news/view?id=16759\" title=\"住建部召开2025年城市体检工作部署视频会\" target=\"_blank\">住建部召开2025年城市体检工作部署视频会</a>\\r\\n\\t\\t\\t\\t\\t</li>\\r\\n\\t\\t\\t\\t\\t\\t\\t\\t\\t<li class=\"li3\">\\r\\n\\t\\t\\t\\t\\t\\t<a href=\"/news/view?id=16758\" title=\"荐书 | 汪光焘为《周干峙文集》作序\" target=\"_blank\">荐书 | 汪光焘为《周干峙文集》作序</a>\\r\\n\\t\\t\\t\\t\\t</li>\\r\\n\\t\\t\\t\\t\\t\\t\\t\\t\\t<li class=\"li4\">\\r\\n\\t\\t\\t\\t\\t\\t<a href=\"/news/view?id=16766\" title=\"2024年度中规院学术交流会成功召开\" target=\"_blank\">2024年度中规院学术交流会成功召开</a>\\r\\n\\t\\t\\t\\t\\t</li>\\r\\n\\t\\t\\t\\t\\t\\t\\t\\t\\t<li class=\"li5\">\\r\\n\\t\\t\\t\\t\\t\\t<a href=\"/news/view?id=16760\" title=\"陈为帮：城市高质量发展与标准的关系\" target=\"_blank\">陈为帮：城市高质量发展与标准的关系</a>\\r\\n\\t\\t\\t\\t\\t</li>\\r\\n\\t\\t\\t\\t\\t\\t\\t\\t\\t<li class=\"li6\">\\r\\n\\t\\t\\t\\t\\t\\t<a href=\"/news/view?id=16765\" title=\"汪科：弘扬科学精神，传承规划追求，勇于担当作为\" target=\"_blank\">汪科：弘扬科学精神，传承规划追求，勇于担...</a>\\r\\n\\t\\t\\t\\t\\t</li>\\r\\n\\t\\t\\t\\t\\t\\t\\t\\t\\t<li class=\"li7\">\\r\\n\\t\\t\\t\\t\\t\\t<a href=\"/news/view?id=16761\" title=\"中共中央办公厅、国务院办公厅印发重要方案\" target=\"_blank\">中共中央办公厅、国务院办公厅印发重要方案</a>\\r\\n\\t\\t\\t\\t\\t</li>\\r\\n\\t\\t\\t\\t\\t\\t\\t\\t\\t<li class=\"li8\">\\r\\n\\t\\t\\t\\t\\t\\t<a href=\"/news/view?id=16762\" title=\"“香港规划师学会国际规划论坛2025”将于5月举行\" target=\"_blank\">“香港规划师学会国际规划论坛2025”将...</a>\\r\\n\\t\\t\\t\\t\\t</li>\\r\\n\\t\\t\\t\\t\\t\\t\\t\\t\\t<li class=\"li9\">\\r\\n\\t\\t\\t\\t\\t\\t<a href=\"/news/view?id=16764\" title=\"三部门印发儿童友好城市建设经验举措清单\" target=\"_blank\">三部门印发儿童友好城市建设经验举措清单</a>\\r\\n\\t\\t\\t\\t\\t</li>\\r\\n\\t\\t\\t\\t\\t\\t\\t\\t\\t<li class=\"li10\">\\r\\n\\t\\t\\t\\t\\t\\t<a href=\"/news/view?id=16771\" title=\"第二批城市一刻钟便民生活圈全域推进先行区试点申报工作启动\" target=\"_blank\">第二批城市一刻钟便民生活圈全域推进先行区...</a>\\r\\n\\t\\t\\t\\t\\t</li>\\r\\n\\t\\t\\t\\t\\t\\t\\t  \\t\\t\\t  </ul>\\r\\n\\t\\t\\t</div>\\r\\n\\t\\t\\t<div class=\"mt15\" style=\"display:none\">\\r\\n\\t\\t\\t  <ul class=\"news_list_ul3 f12 l26\">\\r\\n\\t\\t\\t\\t\\t\\t\\t\\t\\t\\t\\t\\t\\t<li class=\"li1\">\\r\\n\\t\\t\\t\\t\\t\\t<a href=\"/news/view?id=16627\" title=\"重塑信心，把握机遇，破界提质，推动规划学科转型\" target=\"_blank\">重塑信心，把握机遇，破界提质，推动规划学...</a>\\r\\n\\t\\t\\t\\t\\t</li>\\r\\n\\t\\t\\t\\t\\t\\t\\t\\t\\t<li class=\"li2\">\\r\\n\\t\\t\\t\\t\\t\\t<a href=\"/news/view?id=16657\" title=\"魏后凯代表等：绘就城乡融合发展新画卷\" target=\"_blank\">魏后凯代表等：绘就城乡融合发展新画卷</a>\\r\\n\\t\\t\\t\\t\\t</li>\\r\\n\\t\\t\\t\\t\\t\\t\\t\\t\\t<li class=\"li3\">\\r\\n\\t\\t\\t\\t\\t\\t<a href=\"/news/view?id=16709\" title=\"2025年《政府工作报告》全文来了!（请收藏）\" target=\"_blank\">2025年《政府工作报告》全文来了!（请收藏...</a>\\r\\n\\t\\t\\t\\t\\t</li>\\r\\n\\t\\t\\t\\t\\t\\t\\t\\t\\t<li class=\"li4\">\\r\\n\\t\\t\\t\\t\\t\\t<a href=\"/news/view?id=16672\" title=\"两会访谈｜樊杰：如何认识和把握主体功能区\" target=\"_blank\">两会访谈｜樊杰：如何认识和把握主体功能区</a>\\r\\n\\t\\t\\t\\t\\t</li>\\r\\n\\t\\t\\t\\t\\t\\t\\t\\t\\t<li class=\"li5\">\\r\\n\\t\\t\\t\\t\\t\\t<a href=\"/news/view?id=16651\" title=\"2025年全国两会首场“部长通道”回应了这些问题\" target=\"_blank\">2025年全国两会首场“部长通道”回应了...</a>\\r\\n\\t\\t\\t\\t\\t</li>\\r\\n\\t\\t\\t\\t\\t\\t\\t\\t\\t<li class=\"li6\">\\r\\n\\t\\t\\t\\t\\t\\t<a href=\"/news/view?id=16644\" title=\"全国两会 | 李强作政府工作报告（现场实录）\" target=\"_blank\">全国两会 | 李强作政府工作报告（现场实录...</a>\\r\\n\\t\\t\\t\\t\\t</li>\\r\\n\\t\\t\\t\\t\\t\\t\\t\\t\\t<li class=\"li7\">\\r\\n\\t\\t\\t\\t\\t\\t<a href=\"/news/view?id=16662\" title=\"王玉志：加快研究建立可持续的城市更新模式\" target=\"_blank\">王玉志：加快研究建立可持续的城市更新模式</a>\\r\\n\\t\\t\\t\\t\\t</li>\\r\\n\\t\\t\\t\\t\\t\\t\\t\\t\\t<li class=\"li8\">\\r\\n\\t\\t\\t\\t\\t\\t<a href=\"/news/view?id=16715\" title=\"因地制宜开辟县域经济高质量发展新赛道\" target=\"_blank\">因地制宜开辟县域经济高质量发展新赛道</a>\\r\\n\\t\\t\\t\\t\\t</li>\\r\\n\\t\\t\\t\\t\\t\\t\\t\\t\\t<li class=\"li9\">\\r\\n\\t\\t\\t\\t\\t\\t<a href=\"/news/view?id=16714\" title=\"《南通市市区城市更新办法》出台\" target=\"_blank\">《南通市市区城市更新办法》出台</a>\\r\\n\\t\\t\\t\\t\\t</li>\\r\\n\\t\\t\\t\\t\\t\\t\\t\\t\\t<li class=\"li10\">\\r\\n\\t\\t\\t\\t\\t\\t<a href=\"/news/view?id=16741\" title=\"樊杰：“投资于人”具有重要现实价值和长期战略效应，是一次根本性的重大转型\" target=\"_blank\">樊杰：“投资于人”具有重要现实价值和长期...</a>\\r\\n\\t\\t\\t\\t\\t</li>\\r\\n\\t\\t\\t\\t\\t\\t\\t  \\t\\t\\t  </ul>\\r\\n\\t\\t\\t</div>\\r\\n\\t\\t</div>\\r\\n\\t\\t</div>\\r\\n      </div>\\r\\n    </div>\\r\\n<div class=\"footer mt20\">\\r\\n    <!-- \\t\\r\\n\\t<div class=\"erwmbox w980 mt20\">\\r\\n\\r\\n    \\t<ul>\\r\\n\\t\\t\\t<span><a href=\"http://weibo.cn/qr/userinfo?uid=2132451820\" target=\"_blank\"><img src=\"/images/erweima_5.gif\"></a></span>\\r\\n\\t\\t  <li class=\"mt23\">扫描左侧二维码 </li>\\r\\n\\t\\t\\t<li class=\"size12ccc\"><a href=\"http://weibo.cn/qr/userinfo?uid=2132451820\" target=\"_blank\">关注学会微博</a></li>\\r\\n\\t\\t</ul>\\r\\n    \\t<ul>\\r\\n\\t\\t\\t<span><img src=\"/images/erweima_2.gif\"></span>\\r\\n\\t\\t\\t<li class=\"mt23\">扫描左侧二维码 </li>\\r\\n\\t\\t\\t<li class=\"size12ccc\">关注学会微信公众号</li>\\r\\n\\t\\t</ul>\\r\\n        <ul>\\r\\n\\t\\t\\t<span><img src=\"/images/erweima_3.gif\"></span>\\r\\n\\t\\t  <li class=\"mt23\">扫描左侧二维码 </li>\\r\\n\\t\\t\\t<li class=\"size12ccc\">关注学会视频号</li>\\r\\n\\t\\t</ul>\\r\\n\\t\\t<ul>\\r\\n\\t\\t\\t<span><img src=\"/images/erweima_4.gif\"></span>\\r\\n\\t\\t\\t<li class=\"mt23\">扫描左侧二维码 </li>\\r\\n\\t\\t\\t<li class=\"size12ccc\">关注《城市规划》微信</li>\\r\\n\\t\\t</ul>\\r\\n\\t\\t\\r\\n\\t</div> -->\\r\\n\\t<style>\\r\\n\\t\\t.er_bd{display:flex;width:980px;margin:20px auto 0;}\\r\\n\\t\\t.er_bd a{text-align:center;}\\r\\n\\t\\t.er_bd > div{width:25%;display:flex;align-items: center;flex-direction: column;}\\r\\n\\t\\t.er_bd p{color:#fff;font-size:12px;line-height:20px;display:flex;align-items:flex-start;flex-direction: column;margin-top:10px;align-items: center;}\\r\\n\\t\\t.er_bd p span{content:\\'\\';color:#ccc;display:block;}\\r\\n\\t</style>\\r\\n\\t<div class=\"er_bd\">\\r\\n\\t\\t\\t<div><a href=\"http://weibo.cn/qr/userinfo?uid=2132451820\" target=\"_blank\"><i><img src=\"/images/erweima_5.gif\"></i><p>关注学会微博<span>中国城市规划学会</span></p></a></div>\\r\\n\\t\\t\\t<div><i><img src=\"/images/erweima_2.gif\"></i><p>关注学会微信公众号<span>中国城市规划</span></p></div>\\r\\n\\t\\t\\t<div><i><img src=\"/images/erweima_3.gif\"></i><p>关注学会视频号<span>中国城市规划</span></p></div>\\r\\n\\t\\t\\t<div><i><img src=\"/images/erweima_4.gif\"></i><p>关注《城市规划》微信公众号<span>城市规划</span></p></div>\\r\\n\\t\\t</div>\\r\\n\\t<div class=\"footer-menu w980 mt20\">\\r\\n\\t\\t<p>\\r\\n\\t\\t\\t<a href=\"/onepage/index/link\" target=\"_blank\">友情链接</a>&nbsp;&nbsp;|&nbsp;&nbsp;\\r\\n\\t\\t\\t<a href=\"/onepage/index/mzsm\" target=\"_blank\">免责声明</a>&nbsp;&nbsp;|&nbsp;&nbsp;\\r\\n\\t\\t\\t<a href=\"/onepage/index/contact_us\" target=\"_blank\">联系方式</a>&nbsp;&nbsp;|&nbsp;&nbsp;\\r\\n\\t\\t\\t<a href=\"/onepage/index/wzdt\" target=\"_blank\">网站地图</a>&nbsp;&nbsp;|&nbsp;&nbsp;\\r\\n\\t\\t\\t<a href=\"mailto:zhangyan@plannning.cn\">建议反馈</a>&nbsp;&nbsp;|&nbsp;&nbsp;\\r\\n\\t\\t\\t<a href=\"mailto:zhangyan@plannning.cn\">合作洽谈</a>\\r\\n\\t\\t</p>\\r\\n\\t</div>\\r\\n\\t<div class=\"w980 mt20 size12ccc tc pb20\">\\r\\n\\t\\t版权所有：中国城市规划学会 <a href=\"https://beian.miit.gov.cn\" target=\"_blank\">京ICP备05073892号-1</a><br>\\r\\n\\t\\t网站管理：北京清华同衡规划设计研究院有限公司 合作电话：86-010-82819497\\r\\n\\t</div>\\r\\n      \\r\\n<script type=\"text/javascript\" src=\"/js/comm_stat.js\"></script>\\r\\n</div>\\r\\n     <div style=\"display:none\">\\r\\n    \\r\\n        <script src=\"http://s23.cnzz.com/z_stat.php?id=1252954592&web_id=1252954592\" language=\"JavaScript\"></script>\\r\\n    \\r\\n    </div>\\r\\n<script>\\r\\n\\t\\t$(document).ready(function() {\\r\\n\\t\\t\\t$(\\'.content, .right_side\\')\\r\\n\\t\\t\\t\\t.theiaStickySidebar({\\r\\n\\t\\t\\t\\t\\tadditionalMarginTop: 30\\r\\n\\t\\t\\t\\t});\\r\\n\\t\\t});\\r\\n\\t</script>\\r\\n  </body>\\r\\n</html>\\r\\n'"
      ]
     },
     "execution_count": 2,
     "metadata": {},
     "output_type": "execute_result"
    }
   ],
   "source": [
    "html"
   ]
  },
  {
   "cell_type": "code",
   "execution_count": 3,
   "id": "54362d98-60ad-483f-9f97-e1d531521a75",
   "metadata": {},
   "outputs": [],
   "source": [
    "txt = etree.HTML(html)"
   ]
  },
  {
   "cell_type": "code",
   "execution_count": 4,
   "id": "b79cce63-baae-480c-b6e7-c613752158bb",
   "metadata": {},
   "outputs": [
    {
     "data": {
      "text/plain": [
       "['中',\n",
       " 'En',\n",
       " '五维布局，天津规划总院2025年度工作将这样展开',\n",
       " '国家标准《住宅项目规范》落地，有哪些看点？',\n",
       " '第二批城市一刻钟便民生活圈全域推进先行区试点申报工作启动',\n",
       " '《城市空间发展论》英文版全球发行',\n",
       " '《广东省历史文化名城名镇名村保护条例》全文',\n",
       " '2024年度中规院学术交流会成功召开',\n",
       " '三部门印发儿童友好城市建设经验举措清单',\n",
       " '中共中央办公厅、国务院办公厅印发重要方案',\n",
       " '住建部召开2025年城市体检工作部署视频会',\n",
       " '住建部推介八类41个城市更新典型案例',\n",
       " '第三届全球可持续发展城市奖（上海奖）启动征集',\n",
       " '18所高校专家共话：让建筑与土木大类学科建设焕发新的生命力',\n",
       " '中国城市规划学会监事长吴志强担任CAETS委员会领导职务',\n",
       " '李晓龙任住房和城乡建设部党组成员、副部长',\n",
       " '沈阳加快打造国际综合交通枢纽城市']"
      ]
     },
     "execution_count": 4,
     "metadata": {},
     "output_type": "execute_result"
    }
   ],
   "source": [
    "txt.xpath('//h4/a/text()')"
   ]
  },
  {
   "cell_type": "code",
   "execution_count": 5,
   "id": "0bd159cf-a80d-462b-a939-25eb38e04e20",
   "metadata": {},
   "outputs": [
    {
     "name": "stdout",
     "output_type": "stream",
     "text": [
      "http://www.planning.org.cnjavascript:void(0);\n",
      "http://www.planning.org.cnhttp://en.planning.org.cn/\n",
      "http://www.planning.org.cn/news/view?id=16782\n",
      "http://www.planning.org.cn/news/view?id=16780\n",
      "http://www.planning.org.cn/news/view?id=16771\n",
      "http://www.planning.org.cn/news/view?id=16768\n",
      "http://www.planning.org.cn/news/view?id=16767\n",
      "http://www.planning.org.cn/news/view?id=16766\n",
      "http://www.planning.org.cn/news/view?id=16764\n",
      "http://www.planning.org.cn/news/view?id=16761\n",
      "http://www.planning.org.cn/news/view?id=16759\n",
      "http://www.planning.org.cn/news/view?id=16757\n",
      "http://www.planning.org.cn/news/view?id=16754\n",
      "http://www.planning.org.cn/news/view?id=16751\n",
      "http://www.planning.org.cn/news/view?id=16750\n",
      "http://www.planning.org.cn/news/view?id=16749\n",
      "http://www.planning.org.cn/news/view?id=16748\n"
     ]
    }
   ],
   "source": [
    "for i in txt.xpath('//h4/a/@href'):\n",
    "    print('http://www.planning.org.cn'+i)"
   ]
  },
  {
   "cell_type": "code",
   "execution_count": 6,
   "id": "f4328bbd-2aa9-4262-9de4-5c1f78e81703",
   "metadata": {},
   "outputs": [],
   "source": [
    "from lxml import etree\n",
    "import requests\n",
    "import pandas as pd\n",
    "def get_dt():\n",
    "    for i in range(1,2):\n",
    "        url = 'http://www.planning.org.cn/news/newslist?cid=12&page={}'.format(str(i))\n",
    "        html = requests.get(url).text\n",
    "        txt = etree.HTML(html)\n",
    "        txt2 = txt.xpath('//div[@class=\"fl w680 overh xh_list_boxb content\"]/div/div')\n",
    "        print(txt2)"
   ]
  },
  {
   "cell_type": "code",
   "execution_count": 7,
   "id": "1d5e6989-7343-4485-9f02-2d7bd24520c5",
   "metadata": {},
   "outputs": [
    {
     "name": "stdout",
     "output_type": "stream",
     "text": [
      "[<Element div at 0x1f05c413940>, <Element div at 0x1f05c413a80>, <Element div at 0x1f05c703780>, <Element div at 0x1f05c71e740>, <Element div at 0x1f05c3f2200>, <Element div at 0x1f05e9bce00>, <Element div at 0x1f05c709300>, <Element div at 0x1f05c6df840>, <Element div at 0x1f05c6dfa40>, <Element div at 0x1f05c6324c0>, <Element div at 0x1f05c6df9c0>, <Element div at 0x1f05c6df600>, <Element div at 0x1f05c6df400>, <Element div at 0x1f05c6df5c0>, <Element div at 0x1f05c6df640>, <Element div at 0x1f05c6df900>]\n"
     ]
    }
   ],
   "source": [
    "get_dt()"
   ]
  },
  {
   "cell_type": "code",
   "execution_count": 8,
   "id": "f90d9eb5-67fa-46ca-ae8c-48d3c217b183",
   "metadata": {},
   "outputs": [],
   "source": [
    "from lxml import etree\n",
    "import requests\n",
    "import pandas as pd\n",
    "def get_dt():\n",
    "    for i in range(1,2):\n",
    "        url = 'http://www.planning.org.cn/news/newslist?cid=12&page={}'.format(str(i))\n",
    "        html = requests.get(url).text\n",
    "        txt = etree.HTML(html)\n",
    "        txt2 = txt.xpath('//div[@class=\"fl w680 overh xh_list_boxb content\"]/div/div')\n",
    "        for t in txt2[1:]:\n",
    "            title =t.xpath('h4/a/text()')[0]\n",
    "            print(title)"
   ]
  },
  {
   "cell_type": "code",
   "execution_count": 9,
   "id": "b763e137-6ca4-4fad-95ae-f0e3bbee0b76",
   "metadata": {},
   "outputs": [
    {
     "name": "stdout",
     "output_type": "stream",
     "text": [
      "五维布局，天津规划总院2025年度工作将这样展开\n",
      "国家标准《住宅项目规范》落地，有哪些看点？\n",
      "第二批城市一刻钟便民生活圈全域推进先行区试点申报工作启动\n",
      "《城市空间发展论》英文版全球发行\n",
      "《广东省历史文化名城名镇名村保护条例》全文\n",
      "2024年度中规院学术交流会成功召开\n",
      "三部门印发儿童友好城市建设经验举措清单\n",
      "中共中央办公厅、国务院办公厅印发重要方案\n",
      "住建部召开2025年城市体检工作部署视频会\n",
      "住建部推介八类41个城市更新典型案例\n",
      "第三届全球可持续发展城市奖（上海奖）启动征集\n",
      "18所高校专家共话：让建筑与土木大类学科建设焕发新的生命力\n",
      "中国城市规划学会监事长吴志强担任CAETS委员会领导职务\n",
      "李晓龙任住房和城乡建设部党组成员、副部长\n",
      "沈阳加快打造国际综合交通枢纽城市\n"
     ]
    }
   ],
   "source": [
    "get_dt()"
   ]
  },
  {
   "cell_type": "code",
   "execution_count": 10,
   "id": "5d04dd90-2e99-48ad-a896-a83ac9977dc0",
   "metadata": {},
   "outputs": [],
   "source": [
    "from lxml import etree\n",
    "import requests\n",
    "import pandas as pd\n",
    "def get_dt():\n",
    "    dt=[]\n",
    "    for i in range(1,2):\n",
    "        url = 'http://www.planning.org.cn/news/newslist?cid=12&page={}'.format(str(i))\n",
    "        html = requests.get(url).text\n",
    "        txt = etree.HTML(html)\n",
    "        txt2 = txt.xpath('//div[@class=\"fl w680 overh xh_list_boxb content\"]/div/div')\n",
    "        for t in txt2[1:]:\n",
    "            row=[]\n",
    "            title =t.xpath('h4/a/text()')[0]\n",
    "            url = t.xpath('h4/a/@href')[0]\n",
    "            row.append(title)\n",
    "            row.append('http://www.planning.org.cn'+url)\n",
    "            dt .append(row)\n",
    "    return dt"
   ]
  },
  {
   "cell_type": "code",
   "execution_count": 11,
   "id": "0fb5f45a-f960-45d2-a6fb-5e3a6f3eb86a",
   "metadata": {},
   "outputs": [
    {
     "data": {
      "text/html": [
       "<div>\n",
       "<style scoped>\n",
       "    .dataframe tbody tr th:only-of-type {\n",
       "        vertical-align: middle;\n",
       "    }\n",
       "\n",
       "    .dataframe tbody tr th {\n",
       "        vertical-align: top;\n",
       "    }\n",
       "\n",
       "    .dataframe thead th {\n",
       "        text-align: right;\n",
       "    }\n",
       "</style>\n",
       "<table border=\"1\" class=\"dataframe\">\n",
       "  <thead>\n",
       "    <tr style=\"text-align: right;\">\n",
       "      <th></th>\n",
       "      <th>title</th>\n",
       "      <th>url</th>\n",
       "    </tr>\n",
       "  </thead>\n",
       "  <tbody>\n",
       "    <tr>\n",
       "      <th>0</th>\n",
       "      <td>五维布局，天津规划总院2025年度工作将这样展开</td>\n",
       "      <td>http://www.planning.org.cn/news/view?id=16782</td>\n",
       "    </tr>\n",
       "    <tr>\n",
       "      <th>1</th>\n",
       "      <td>国家标准《住宅项目规范》落地，有哪些看点？</td>\n",
       "      <td>http://www.planning.org.cn/news/view?id=16780</td>\n",
       "    </tr>\n",
       "    <tr>\n",
       "      <th>2</th>\n",
       "      <td>第二批城市一刻钟便民生活圈全域推进先行区试点申报工作启动</td>\n",
       "      <td>http://www.planning.org.cn/news/view?id=16771</td>\n",
       "    </tr>\n",
       "    <tr>\n",
       "      <th>3</th>\n",
       "      <td>《城市空间发展论》英文版全球发行</td>\n",
       "      <td>http://www.planning.org.cn/news/view?id=16768</td>\n",
       "    </tr>\n",
       "    <tr>\n",
       "      <th>4</th>\n",
       "      <td>《广东省历史文化名城名镇名村保护条例》全文</td>\n",
       "      <td>http://www.planning.org.cn/news/view?id=16767</td>\n",
       "    </tr>\n",
       "    <tr>\n",
       "      <th>5</th>\n",
       "      <td>2024年度中规院学术交流会成功召开</td>\n",
       "      <td>http://www.planning.org.cn/news/view?id=16766</td>\n",
       "    </tr>\n",
       "    <tr>\n",
       "      <th>6</th>\n",
       "      <td>三部门印发儿童友好城市建设经验举措清单</td>\n",
       "      <td>http://www.planning.org.cn/news/view?id=16764</td>\n",
       "    </tr>\n",
       "    <tr>\n",
       "      <th>7</th>\n",
       "      <td>中共中央办公厅、国务院办公厅印发重要方案</td>\n",
       "      <td>http://www.planning.org.cn/news/view?id=16761</td>\n",
       "    </tr>\n",
       "    <tr>\n",
       "      <th>8</th>\n",
       "      <td>住建部召开2025年城市体检工作部署视频会</td>\n",
       "      <td>http://www.planning.org.cn/news/view?id=16759</td>\n",
       "    </tr>\n",
       "    <tr>\n",
       "      <th>9</th>\n",
       "      <td>住建部推介八类41个城市更新典型案例</td>\n",
       "      <td>http://www.planning.org.cn/news/view?id=16757</td>\n",
       "    </tr>\n",
       "    <tr>\n",
       "      <th>10</th>\n",
       "      <td>第三届全球可持续发展城市奖（上海奖）启动征集</td>\n",
       "      <td>http://www.planning.org.cn/news/view?id=16754</td>\n",
       "    </tr>\n",
       "    <tr>\n",
       "      <th>11</th>\n",
       "      <td>18所高校专家共话：让建筑与土木大类学科建设焕发新的生命力</td>\n",
       "      <td>http://www.planning.org.cn/news/view?id=16751</td>\n",
       "    </tr>\n",
       "    <tr>\n",
       "      <th>12</th>\n",
       "      <td>中国城市规划学会监事长吴志强担任CAETS委员会领导职务</td>\n",
       "      <td>http://www.planning.org.cn/news/view?id=16750</td>\n",
       "    </tr>\n",
       "    <tr>\n",
       "      <th>13</th>\n",
       "      <td>李晓龙任住房和城乡建设部党组成员、副部长</td>\n",
       "      <td>http://www.planning.org.cn/news/view?id=16749</td>\n",
       "    </tr>\n",
       "    <tr>\n",
       "      <th>14</th>\n",
       "      <td>沈阳加快打造国际综合交通枢纽城市</td>\n",
       "      <td>http://www.planning.org.cn/news/view?id=16748</td>\n",
       "    </tr>\n",
       "  </tbody>\n",
       "</table>\n",
       "</div>"
      ],
      "text/plain": [
       "                            title  \\\n",
       "0        五维布局，天津规划总院2025年度工作将这样展开   \n",
       "1           国家标准《住宅项目规范》落地，有哪些看点？   \n",
       "2    第二批城市一刻钟便民生活圈全域推进先行区试点申报工作启动   \n",
       "3                《城市空间发展论》英文版全球发行   \n",
       "4           《广东省历史文化名城名镇名村保护条例》全文   \n",
       "5              2024年度中规院学术交流会成功召开   \n",
       "6             三部门印发儿童友好城市建设经验举措清单   \n",
       "7            中共中央办公厅、国务院办公厅印发重要方案   \n",
       "8           住建部召开2025年城市体检工作部署视频会   \n",
       "9              住建部推介八类41个城市更新典型案例   \n",
       "10         第三届全球可持续发展城市奖（上海奖）启动征集   \n",
       "11  18所高校专家共话：让建筑与土木大类学科建设焕发新的生命力   \n",
       "12   中国城市规划学会监事长吴志强担任CAETS委员会领导职务   \n",
       "13           李晓龙任住房和城乡建设部党组成员、副部长   \n",
       "14               沈阳加快打造国际综合交通枢纽城市   \n",
       "\n",
       "                                              url  \n",
       "0   http://www.planning.org.cn/news/view?id=16782  \n",
       "1   http://www.planning.org.cn/news/view?id=16780  \n",
       "2   http://www.planning.org.cn/news/view?id=16771  \n",
       "3   http://www.planning.org.cn/news/view?id=16768  \n",
       "4   http://www.planning.org.cn/news/view?id=16767  \n",
       "5   http://www.planning.org.cn/news/view?id=16766  \n",
       "6   http://www.planning.org.cn/news/view?id=16764  \n",
       "7   http://www.planning.org.cn/news/view?id=16761  \n",
       "8   http://www.planning.org.cn/news/view?id=16759  \n",
       "9   http://www.planning.org.cn/news/view?id=16757  \n",
       "10  http://www.planning.org.cn/news/view?id=16754  \n",
       "11  http://www.planning.org.cn/news/view?id=16751  \n",
       "12  http://www.planning.org.cn/news/view?id=16750  \n",
       "13  http://www.planning.org.cn/news/view?id=16749  \n",
       "14  http://www.planning.org.cn/news/view?id=16748  "
      ]
     },
     "execution_count": 11,
     "metadata": {},
     "output_type": "execute_result"
    }
   ],
   "source": [
    "pd.DataFrame(get_dt(),columns=['title','url'])"
   ]
  },
  {
   "cell_type": "code",
   "execution_count": 12,
   "id": "a5f6e21b-5c8b-4aba-a958-8c44f865676f",
   "metadata": {},
   "outputs": [],
   "source": [
    "from lxml import etree\n",
    "import requests\n",
    "import pandas as pd\n",
    "def get_dt():\n",
    "    dt=[]\n",
    "    for i in range(1,11):\n",
    "        url = 'http://www.planning.org.cn/news/newslist?cid=12&page={}'.format(str(i))\n",
    "        html = requests.get(url).text\n",
    "        txt = etree.HTML(html)\n",
    "        txt2 = txt.xpath('//div[@class=\"fl w680 overh xh_list_boxb content\"]/div/div')\n",
    "        for t in txt2[1:]:\n",
    "            row=[]\n",
    "            title =t.xpath('h4/a/text()')[0]\n",
    "            url = t.xpath('h4/a/@href')[0]\n",
    "            row.append(title)\n",
    "            row.append('http://www.planning.org.cn'+url)\n",
    "            dt .append(row)\n",
    "    return dt"
   ]
  },
  {
   "cell_type": "code",
   "execution_count": 13,
   "id": "3c11004c-fbb6-45b6-aad2-ade76e5eeab0",
   "metadata": {},
   "outputs": [
    {
     "data": {
      "text/html": [
       "<div>\n",
       "<style scoped>\n",
       "    .dataframe tbody tr th:only-of-type {\n",
       "        vertical-align: middle;\n",
       "    }\n",
       "\n",
       "    .dataframe tbody tr th {\n",
       "        vertical-align: top;\n",
       "    }\n",
       "\n",
       "    .dataframe thead th {\n",
       "        text-align: right;\n",
       "    }\n",
       "</style>\n",
       "<table border=\"1\" class=\"dataframe\">\n",
       "  <thead>\n",
       "    <tr style=\"text-align: right;\">\n",
       "      <th></th>\n",
       "      <th>title</th>\n",
       "      <th>url</th>\n",
       "    </tr>\n",
       "  </thead>\n",
       "  <tbody>\n",
       "    <tr>\n",
       "      <th>0</th>\n",
       "      <td>五维布局，天津规划总院2025年度工作将这样展开</td>\n",
       "      <td>http://www.planning.org.cn/news/view?id=16782</td>\n",
       "    </tr>\n",
       "    <tr>\n",
       "      <th>1</th>\n",
       "      <td>国家标准《住宅项目规范》落地，有哪些看点？</td>\n",
       "      <td>http://www.planning.org.cn/news/view?id=16780</td>\n",
       "    </tr>\n",
       "    <tr>\n",
       "      <th>2</th>\n",
       "      <td>第二批城市一刻钟便民生活圈全域推进先行区试点申报工作启动</td>\n",
       "      <td>http://www.planning.org.cn/news/view?id=16771</td>\n",
       "    </tr>\n",
       "    <tr>\n",
       "      <th>3</th>\n",
       "      <td>《城市空间发展论》英文版全球发行</td>\n",
       "      <td>http://www.planning.org.cn/news/view?id=16768</td>\n",
       "    </tr>\n",
       "    <tr>\n",
       "      <th>4</th>\n",
       "      <td>《广东省历史文化名城名镇名村保护条例》全文</td>\n",
       "      <td>http://www.planning.org.cn/news/view?id=16767</td>\n",
       "    </tr>\n",
       "    <tr>\n",
       "      <th>...</th>\n",
       "      <td>...</td>\n",
       "      <td>...</td>\n",
       "    </tr>\n",
       "    <tr>\n",
       "      <th>145</th>\n",
       "      <td>全国城市更新工作部署视频会议召开</td>\n",
       "      <td>http://www.planning.org.cn/news/view?id=16503</td>\n",
       "    </tr>\n",
       "    <tr>\n",
       "      <th>146</th>\n",
       "      <td>2024年全国实施城市更新项目6万余个</td>\n",
       "      <td>http://www.planning.org.cn/news/view?id=16502</td>\n",
       "    </tr>\n",
       "    <tr>\n",
       "      <th>147</th>\n",
       "      <td>两部门：坚决遏制新增农村乱占耕地建房问题</td>\n",
       "      <td>http://www.planning.org.cn/news/view?id=16500</td>\n",
       "    </tr>\n",
       "    <tr>\n",
       "      <th>148</th>\n",
       "      <td>地方两会积极部署新型城镇化，释放哪些信号？</td>\n",
       "      <td>http://www.planning.org.cn/news/view?id=16498</td>\n",
       "    </tr>\n",
       "    <tr>\n",
       "      <th>149</th>\n",
       "      <td>中共中央国务院印发教育强国建设规划纲要</td>\n",
       "      <td>http://www.planning.org.cn/news/view?id=16496</td>\n",
       "    </tr>\n",
       "  </tbody>\n",
       "</table>\n",
       "<p>150 rows × 2 columns</p>\n",
       "</div>"
      ],
      "text/plain": [
       "                            title  \\\n",
       "0        五维布局，天津规划总院2025年度工作将这样展开   \n",
       "1           国家标准《住宅项目规范》落地，有哪些看点？   \n",
       "2    第二批城市一刻钟便民生活圈全域推进先行区试点申报工作启动   \n",
       "3                《城市空间发展论》英文版全球发行   \n",
       "4           《广东省历史文化名城名镇名村保护条例》全文   \n",
       "..                            ...   \n",
       "145              全国城市更新工作部署视频会议召开   \n",
       "146           2024年全国实施城市更新项目6万余个   \n",
       "147          两部门：坚决遏制新增农村乱占耕地建房问题   \n",
       "148         地方两会积极部署新型城镇化，释放哪些信号？   \n",
       "149           中共中央国务院印发教育强国建设规划纲要   \n",
       "\n",
       "                                               url  \n",
       "0    http://www.planning.org.cn/news/view?id=16782  \n",
       "1    http://www.planning.org.cn/news/view?id=16780  \n",
       "2    http://www.planning.org.cn/news/view?id=16771  \n",
       "3    http://www.planning.org.cn/news/view?id=16768  \n",
       "4    http://www.planning.org.cn/news/view?id=16767  \n",
       "..                                             ...  \n",
       "145  http://www.planning.org.cn/news/view?id=16503  \n",
       "146  http://www.planning.org.cn/news/view?id=16502  \n",
       "147  http://www.planning.org.cn/news/view?id=16500  \n",
       "148  http://www.planning.org.cn/news/view?id=16498  \n",
       "149  http://www.planning.org.cn/news/view?id=16496  \n",
       "\n",
       "[150 rows x 2 columns]"
      ]
     },
     "execution_count": 13,
     "metadata": {},
     "output_type": "execute_result"
    }
   ],
   "source": [
    "pd.DataFrame(get_dt(),columns=['title','url'])"
   ]
  },
  {
   "cell_type": "code",
   "execution_count": 14,
   "id": "0c2af2c8-3d3e-4ca6-9245-1a77638d437c",
   "metadata": {},
   "outputs": [],
   "source": [
    "pd.DataFrame(get_dt(),columns=['title','url']).to_excel('./planning_demo.xlsx')"
   ]
  },
  {
   "cell_type": "code",
   "execution_count": null,
   "id": "a1126653-6cbf-421f-afbc-bdc169963f39",
   "metadata": {},
   "outputs": [],
   "source": []
  }
 ],
 "metadata": {
  "kernelspec": {
   "display_name": "Python 3 (ipykernel)",
   "language": "python",
   "name": "python3"
  },
  "language_info": {
   "codemirror_mode": {
    "name": "ipython",
    "version": 3
   },
   "file_extension": ".py",
   "mimetype": "text/x-python",
   "name": "python",
   "nbconvert_exporter": "python",
   "pygments_lexer": "ipython3",
   "version": "3.8.20"
  }
 },
 "nbformat": 4,
 "nbformat_minor": 5
}
