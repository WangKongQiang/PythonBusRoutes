{
 "cells": [
  {
   "cell_type": "code",
   "execution_count": 2,
   "id": "f802e296-e9fb-4bcf-ac4a-47576c0c9d37",
   "metadata": {},
   "outputs": [],
   "source": [
    "import numpy as np\n",
    "import pandas as pd\n",
    "import matplotlib.pyplot as plt\n",
    "from matplotlib.pyplot import style\n",
    "style.use('ggplot')\n",
    "%matplotlib inline"
   ]
  },
  {
   "cell_type": "code",
   "execution_count": 5,
   "id": "4eb85ded-84c5-4691-a2dd-dfdae28b4ad3",
   "metadata": {},
   "outputs": [
    {
     "data": {
      "text/html": [
       "<div>\n",
       "<style scoped>\n",
       "    .dataframe tbody tr th:only-of-type {\n",
       "        vertical-align: middle;\n",
       "    }\n",
       "\n",
       "    .dataframe tbody tr th {\n",
       "        vertical-align: top;\n",
       "    }\n",
       "\n",
       "    .dataframe thead th {\n",
       "        text-align: right;\n",
       "    }\n",
       "</style>\n",
       "<table border=\"1\" class=\"dataframe\">\n",
       "  <thead>\n",
       "    <tr style=\"text-align: right;\">\n",
       "      <th></th>\n",
       "      <th></th>\n",
       "      <th>X1路(阅城国际南门--汇康路)</th>\n",
       "    </tr>\n",
       "  </thead>\n",
       "  <tbody>\n",
       "    <tr>\n",
       "      <th>0</th>\n",
       "      <td></td>\n",
       "      <td>16路(龙福山庄总站--中山码头北)</td>\n",
       "    </tr>\n",
       "    <tr>\n",
       "      <th>1</th>\n",
       "      <td></td>\n",
       "      <td>溧水112路(柘塘--汽车客运站)</td>\n",
       "    </tr>\n",
       "    <tr>\n",
       "      <th>2</th>\n",
       "      <td></td>\n",
       "      <td>135路(油坊桥地铁站--岱山中路南)</td>\n",
       "    </tr>\n",
       "    <tr>\n",
       "      <th>3</th>\n",
       "      <td></td>\n",
       "      <td>197路(尧化门总站--摄山星城总站北)</td>\n",
       "    </tr>\n",
       "    <tr>\n",
       "      <th>4</th>\n",
       "      <td></td>\n",
       "      <td>河西有轨电车1号线(奥体中心东门站--)</td>\n",
       "    </tr>\n",
       "  </tbody>\n",
       "</table>\n",
       "</div>"
      ],
      "text/plain": [
       "          X1路(阅城国际南门--汇康路)\n",
       "0       16路(龙福山庄总站--中山码头北)\n",
       "1        溧水112路(柘塘--汽车客运站)\n",
       "2      135路(油坊桥地铁站--岱山中路南)\n",
       "3     197路(尧化门总站--摄山星城总站北)\n",
       "4     河西有轨电车1号线(奥体中心东门站--)"
      ]
     },
     "execution_count": 5,
     "metadata": {},
     "output_type": "execute_result"
    }
   ],
   "source": [
    "df=pd.read_csv('./TransportData/data_nanjing.csv')\n",
    "df.head()"
   ]
  },
  {
   "cell_type": "code",
   "execution_count": 14,
   "id": "93f34bc3-dd49-4f2a-a3b3-dbaa0a93468b",
   "metadata": {},
   "outputs": [
    {
     "data": {
      "text/html": [
       "<div>\n",
       "<style scoped>\n",
       "    .dataframe tbody tr th:only-of-type {\n",
       "        vertical-align: middle;\n",
       "    }\n",
       "\n",
       "    .dataframe tbody tr th {\n",
       "        vertical-align: top;\n",
       "    }\n",
       "\n",
       "    .dataframe thead th {\n",
       "        text-align: right;\n",
       "    }\n",
       "</style>\n",
       "<table border=\"1\" class=\"dataframe\">\n",
       "  <thead>\n",
       "    <tr style=\"text-align: right;\">\n",
       "      <th></th>\n",
       "      <th>roads</th>\n",
       "      <th>lines</th>\n",
       "    </tr>\n",
       "  </thead>\n",
       "  <tbody>\n",
       "    <tr>\n",
       "      <th>0</th>\n",
       "      <td></td>\n",
       "      <td>X1路(阅城国际南门--汇康路)</td>\n",
       "    </tr>\n",
       "    <tr>\n",
       "      <th>1</th>\n",
       "      <td></td>\n",
       "      <td>16路(龙福山庄总站--中山码头北)</td>\n",
       "    </tr>\n",
       "    <tr>\n",
       "      <th>2</th>\n",
       "      <td></td>\n",
       "      <td>溧水112路(柘塘--汽车客运站)</td>\n",
       "    </tr>\n",
       "    <tr>\n",
       "      <th>3</th>\n",
       "      <td></td>\n",
       "      <td>135路(油坊桥地铁站--岱山中路南)</td>\n",
       "    </tr>\n",
       "    <tr>\n",
       "      <th>4</th>\n",
       "      <td></td>\n",
       "      <td>197路(尧化门总站--摄山星城总站北)</td>\n",
       "    </tr>\n",
       "  </tbody>\n",
       "</table>\n",
       "</div>"
      ],
      "text/plain": [
       "  roads                 lines\n",
       "0            X1路(阅城国际南门--汇康路)\n",
       "1          16路(龙福山庄总站--中山码头北)\n",
       "2           溧水112路(柘塘--汽车客运站)\n",
       "3         135路(油坊桥地铁站--岱山中路南)\n",
       "4        197路(尧化门总站--摄山星城总站北)"
      ]
     },
     "execution_count": 14,
     "metadata": {},
     "output_type": "execute_result"
    }
   ],
   "source": [
    "df=pd.read_csv('./TransportData/data_nanjing.csv',names=['roads','lines'])\n",
    "df.head()"
   ]
  },
  {
   "cell_type": "code",
   "execution_count": 15,
   "id": "c8c7ae98-dabe-4673-9c2d-73dc667193eb",
   "metadata": {},
   "outputs": [
    {
     "data": {
      "text/plain": [
       "' '"
      ]
     },
     "execution_count": 15,
     "metadata": {},
     "output_type": "execute_result"
    }
   ],
   "source": [
    "df['roads'][0]"
   ]
  },
  {
   "cell_type": "code",
   "execution_count": 16,
   "id": "30d75126-32a5-4e6b-8586-882b320cc9a6",
   "metadata": {},
   "outputs": [
    {
     "data": {
      "text/plain": [
       "8920"
      ]
     },
     "execution_count": 16,
     "metadata": {},
     "output_type": "execute_result"
    }
   ],
   "source": [
    "len(df['roads'])"
   ]
  },
  {
   "cell_type": "code",
   "execution_count": 18,
   "id": "c97f231a-5a3d-48c7-a5a4-7d26e51ab18d",
   "metadata": {},
   "outputs": [
    {
     "data": {
      "text/plain": [
       "8708"
      ]
     },
     "execution_count": 18,
     "metadata": {},
     "output_type": "execute_result"
    }
   ],
   "source": [
    "df=df[df['roads']!=' ']\n",
    "len(df['roads'])"
   ]
  },
  {
   "cell_type": "code",
   "execution_count": 20,
   "id": "71c9cbd6-99c7-4af7-a74e-8bfbbc1f8a55",
   "metadata": {},
   "outputs": [
    {
     "data": {
      "text/html": [
       "<div>\n",
       "<style scoped>\n",
       "    .dataframe tbody tr th:only-of-type {\n",
       "        vertical-align: middle;\n",
       "    }\n",
       "\n",
       "    .dataframe tbody tr th {\n",
       "        vertical-align: top;\n",
       "    }\n",
       "\n",
       "    .dataframe thead th {\n",
       "        text-align: right;\n",
       "    }\n",
       "</style>\n",
       "<table border=\"1\" class=\"dataframe\">\n",
       "  <thead>\n",
       "    <tr style=\"text-align: right;\">\n",
       "      <th></th>\n",
       "      <th>roads</th>\n",
       "    </tr>\n",
       "    <tr>\n",
       "      <th>lines</th>\n",
       "      <th></th>\n",
       "    </tr>\n",
       "  </thead>\n",
       "  <tbody>\n",
       "    <tr>\n",
       "      <th>100路(南医大二附院总站--安德门)</th>\n",
       "      <td>78</td>\n",
       "    </tr>\n",
       "    <tr>\n",
       "      <th>101路(五马渡总站北--仙新路地铁站)</th>\n",
       "      <td>140</td>\n",
       "    </tr>\n",
       "    <tr>\n",
       "      <th>102路(白龙江西街总站--邺城路·龙王大</th>\n",
       "      <td>18</td>\n",
       "    </tr>\n",
       "    <tr>\n",
       "      <th>103路(西春路南--中和村南)</th>\n",
       "      <td>16</td>\n",
       "    </tr>\n",
       "    <tr>\n",
       "      <th>104路(莫愁新寓--郑和南路)</th>\n",
       "      <td>23</td>\n",
       "    </tr>\n",
       "    <tr>\n",
       "      <th>...</th>\n",
       "      <td>...</td>\n",
       "    </tr>\n",
       "    <tr>\n",
       "      <th>高淳105路(环2路)(高淳枢纽站--高淳枢</th>\n",
       "      <td>96</td>\n",
       "    </tr>\n",
       "    <tr>\n",
       "      <th>高淳106路(水产市场--双牌石客运站)</th>\n",
       "      <td>82</td>\n",
       "    </tr>\n",
       "    <tr>\n",
       "      <th>高淳107路(凤山--淳中路口)</th>\n",
       "      <td>102</td>\n",
       "    </tr>\n",
       "    <tr>\n",
       "      <th>高淳108路(水产市场--固城街道)</th>\n",
       "      <td>62</td>\n",
       "    </tr>\n",
       "    <tr>\n",
       "      <th>高淳109路(建工局--公交车站)</th>\n",
       "      <td>36</td>\n",
       "    </tr>\n",
       "  </tbody>\n",
       "</table>\n",
       "<p>145 rows × 1 columns</p>\n",
       "</div>"
      ],
      "text/plain": [
       "                        roads\n",
       "lines                        \n",
       "100路(南医大二附院总站--安德门)        78\n",
       "101路(五马渡总站北--仙新路地铁站)      140\n",
       "102路(白龙江西街总站--邺城路·龙王大      18\n",
       "103路(西春路南--中和村南)           16\n",
       "104路(莫愁新寓--郑和南路)           23\n",
       "...                       ...\n",
       "高淳105路(环2路)(高淳枢纽站--高淳枢     96\n",
       "高淳106路(水产市场--双牌石客运站)       82\n",
       "高淳107路(凤山--淳中路口)          102\n",
       "高淳108路(水产市场--固城街道)         62\n",
       "高淳109路(建工局--公交车站)          36\n",
       "\n",
       "[145 rows x 1 columns]"
      ]
     },
     "execution_count": 20,
     "metadata": {},
     "output_type": "execute_result"
    }
   ],
   "source": [
    "df.groupby(by='lines').count()"
   ]
  },
  {
   "cell_type": "code",
   "execution_count": 22,
   "id": "fa305046-ea02-46dd-9532-1916ecf9403f",
   "metadata": {},
   "outputs": [
    {
     "data": {
      "text/plain": [
       "1585"
      ]
     },
     "execution_count": 22,
     "metadata": {},
     "output_type": "execute_result"
    }
   ],
   "source": [
    "len(df.groupby(by='roads').count())"
   ]
  },
  {
   "cell_type": "code",
   "execution_count": 23,
   "id": "717fe3e9-202e-40ab-b268-36fb6a8c7602",
   "metadata": {},
   "outputs": [
    {
     "data": {
      "text/html": [
       "<div>\n",
       "<style scoped>\n",
       "    .dataframe tbody tr th:only-of-type {\n",
       "        vertical-align: middle;\n",
       "    }\n",
       "\n",
       "    .dataframe tbody tr th {\n",
       "        vertical-align: top;\n",
       "    }\n",
       "\n",
       "    .dataframe thead th {\n",
       "        text-align: right;\n",
       "    }\n",
       "</style>\n",
       "<table border=\"1\" class=\"dataframe\">\n",
       "  <thead>\n",
       "    <tr style=\"text-align: right;\">\n",
       "      <th></th>\n",
       "      <th>lines</th>\n",
       "    </tr>\n",
       "    <tr>\n",
       "      <th>roads</th>\n",
       "      <th></th>\n",
       "    </tr>\n",
       "  </thead>\n",
       "  <tbody>\n",
       "    <tr>\n",
       "      <th>G42-沪蓉高速公路</th>\n",
       "      <td>52</td>\n",
       "    </tr>\n",
       "    <tr>\n",
       "      <th>中山东路</th>\n",
       "      <td>44</td>\n",
       "    </tr>\n",
       "    <tr>\n",
       "      <th>软件大道</th>\n",
       "      <td>44</td>\n",
       "    </tr>\n",
       "    <tr>\n",
       "      <th>应天大街</th>\n",
       "      <td>41</td>\n",
       "    </tr>\n",
       "    <tr>\n",
       "      <th>宁镇公路</th>\n",
       "      <td>37</td>\n",
       "    </tr>\n",
       "  </tbody>\n",
       "</table>\n",
       "</div>"
      ],
      "text/plain": [
       "            lines\n",
       "roads            \n",
       "G42-沪蓉高速公路     52\n",
       "中山东路           44\n",
       "软件大道           44\n",
       "应天大街           41\n",
       "宁镇公路           37"
      ]
     },
     "execution_count": 23,
     "metadata": {},
     "output_type": "execute_result"
    }
   ],
   "source": [
    "dv=df.groupby(by='roads').count().sort_values(by='lines',ascending=False)\n",
    "dv.head()"
   ]
  },
  {
   "cell_type": "code",
   "execution_count": 24,
   "id": "4ddfd0a5-f16b-42b8-bcac-797e968f4597",
   "metadata": {},
   "outputs": [
    {
     "data": {
      "text/html": [
       "<div>\n",
       "<style scoped>\n",
       "    .dataframe tbody tr th:only-of-type {\n",
       "        vertical-align: middle;\n",
       "    }\n",
       "\n",
       "    .dataframe tbody tr th {\n",
       "        vertical-align: top;\n",
       "    }\n",
       "\n",
       "    .dataframe thead th {\n",
       "        text-align: right;\n",
       "    }\n",
       "</style>\n",
       "<table border=\"1\" class=\"dataframe\">\n",
       "  <thead>\n",
       "    <tr style=\"text-align: right;\">\n",
       "      <th></th>\n",
       "      <th>roads</th>\n",
       "      <th>lines</th>\n",
       "    </tr>\n",
       "  </thead>\n",
       "  <tbody>\n",
       "    <tr>\n",
       "      <th>0</th>\n",
       "      <td>G42-沪蓉高速公路</td>\n",
       "      <td>52</td>\n",
       "    </tr>\n",
       "    <tr>\n",
       "      <th>1</th>\n",
       "      <td>中山东路</td>\n",
       "      <td>44</td>\n",
       "    </tr>\n",
       "    <tr>\n",
       "      <th>2</th>\n",
       "      <td>软件大道</td>\n",
       "      <td>44</td>\n",
       "    </tr>\n",
       "    <tr>\n",
       "      <th>3</th>\n",
       "      <td>应天大街</td>\n",
       "      <td>41</td>\n",
       "    </tr>\n",
       "    <tr>\n",
       "      <th>4</th>\n",
       "      <td>宁镇公路</td>\n",
       "      <td>37</td>\n",
       "    </tr>\n",
       "  </tbody>\n",
       "</table>\n",
       "</div>"
      ],
      "text/plain": [
       "        roads  lines\n",
       "0  G42-沪蓉高速公路     52\n",
       "1        中山东路     44\n",
       "2        软件大道     44\n",
       "3        应天大街     41\n",
       "4        宁镇公路     37"
      ]
     },
     "execution_count": 24,
     "metadata": {},
     "output_type": "execute_result"
    }
   ],
   "source": [
    "dv=dv.reset_index()\n",
    "dv.head()"
   ]
  },
  {
   "cell_type": "code",
   "execution_count": 25,
   "id": "6342a57c-9f18-44a8-8242-90dedf437028",
   "metadata": {},
   "outputs": [],
   "source": [
    "dv.to_csv('./TransportData/data_nangjing_graphic.csv')"
   ]
  },
  {
   "cell_type": "code",
   "execution_count": 26,
   "id": "f06ba61b-a124-4f21-9bcd-9a07e4007188",
   "metadata": {},
   "outputs": [
    {
     "data": {
      "text/html": [
       "<div>\n",
       "<style scoped>\n",
       "    .dataframe tbody tr th:only-of-type {\n",
       "        vertical-align: middle;\n",
       "    }\n",
       "\n",
       "    .dataframe tbody tr th {\n",
       "        vertical-align: top;\n",
       "    }\n",
       "\n",
       "    .dataframe thead th {\n",
       "        text-align: right;\n",
       "    }\n",
       "</style>\n",
       "<table border=\"1\" class=\"dataframe\">\n",
       "  <thead>\n",
       "    <tr style=\"text-align: right;\">\n",
       "      <th></th>\n",
       "      <th>index</th>\n",
       "      <th>roads</th>\n",
       "      <th>lines</th>\n",
       "    </tr>\n",
       "  </thead>\n",
       "  <tbody>\n",
       "    <tr>\n",
       "      <th>0</th>\n",
       "      <td>0</td>\n",
       "      <td>G42-沪蓉高速公路</td>\n",
       "      <td>52</td>\n",
       "    </tr>\n",
       "    <tr>\n",
       "      <th>1</th>\n",
       "      <td>1</td>\n",
       "      <td>中山东路</td>\n",
       "      <td>44</td>\n",
       "    </tr>\n",
       "    <tr>\n",
       "      <th>2</th>\n",
       "      <td>2</td>\n",
       "      <td>软件大道</td>\n",
       "      <td>44</td>\n",
       "    </tr>\n",
       "    <tr>\n",
       "      <th>3</th>\n",
       "      <td>3</td>\n",
       "      <td>应天大街</td>\n",
       "      <td>41</td>\n",
       "    </tr>\n",
       "    <tr>\n",
       "      <th>4</th>\n",
       "      <td>4</td>\n",
       "      <td>宁镇公路</td>\n",
       "      <td>37</td>\n",
       "    </tr>\n",
       "  </tbody>\n",
       "</table>\n",
       "</div>"
      ],
      "text/plain": [
       "   index       roads  lines\n",
       "0      0  G42-沪蓉高速公路     52\n",
       "1      1        中山东路     44\n",
       "2      2        软件大道     44\n",
       "3      3        应天大街     41\n",
       "4      4        宁镇公路     37"
      ]
     },
     "execution_count": 26,
     "metadata": {},
     "output_type": "execute_result"
    }
   ],
   "source": [
    "dk=dv.reset_index()\n",
    "dk.head()"
   ]
  },
  {
   "cell_type": "code",
   "execution_count": 27,
   "id": "9ef7068d-e182-422f-933e-7ef4ca5aaccf",
   "metadata": {},
   "outputs": [
    {
     "data": {
      "text/html": [
       "<div>\n",
       "<style scoped>\n",
       "    .dataframe tbody tr th:only-of-type {\n",
       "        vertical-align: middle;\n",
       "    }\n",
       "\n",
       "    .dataframe tbody tr th {\n",
       "        vertical-align: top;\n",
       "    }\n",
       "\n",
       "    .dataframe thead th {\n",
       "        text-align: right;\n",
       "    }\n",
       "</style>\n",
       "<table border=\"1\" class=\"dataframe\">\n",
       "  <thead>\n",
       "    <tr style=\"text-align: right;\">\n",
       "      <th></th>\n",
       "      <th>index</th>\n",
       "      <th>roads</th>\n",
       "      <th>lines</th>\n",
       "    </tr>\n",
       "  </thead>\n",
       "  <tbody>\n",
       "    <tr>\n",
       "      <th>0</th>\n",
       "      <td>1</td>\n",
       "      <td>G42-沪蓉高速公路</td>\n",
       "      <td>52</td>\n",
       "    </tr>\n",
       "    <tr>\n",
       "      <th>1</th>\n",
       "      <td>2</td>\n",
       "      <td>中山东路</td>\n",
       "      <td>44</td>\n",
       "    </tr>\n",
       "    <tr>\n",
       "      <th>2</th>\n",
       "      <td>3</td>\n",
       "      <td>软件大道</td>\n",
       "      <td>44</td>\n",
       "    </tr>\n",
       "    <tr>\n",
       "      <th>3</th>\n",
       "      <td>4</td>\n",
       "      <td>应天大街</td>\n",
       "      <td>41</td>\n",
       "    </tr>\n",
       "    <tr>\n",
       "      <th>4</th>\n",
       "      <td>5</td>\n",
       "      <td>宁镇公路</td>\n",
       "      <td>37</td>\n",
       "    </tr>\n",
       "  </tbody>\n",
       "</table>\n",
       "</div>"
      ],
      "text/plain": [
       "   index       roads  lines\n",
       "0      1  G42-沪蓉高速公路     52\n",
       "1      2        中山东路     44\n",
       "2      3        软件大道     44\n",
       "3      4        应天大街     41\n",
       "4      5        宁镇公路     37"
      ]
     },
     "execution_count": 27,
     "metadata": {},
     "output_type": "execute_result"
    }
   ],
   "source": [
    "dk['index']=dk['index']+1\n",
    "dk.head()"
   ]
  },
  {
   "cell_type": "code",
   "execution_count": 28,
   "id": "c5a308ef-d9c5-4596-bbbc-5e2f50b0d19d",
   "metadata": {},
   "outputs": [
    {
     "data": {
      "image/png": "[encoded data removed]",
      "text/plain": [
       "<Figure size 1000x500 with 1 Axes>"
      ]
     },
     "metadata": {},
     "output_type": "display_data"
    }
   ],
   "source": [
    "plt.figure(figsize=(10,5))\n",
    "plt.scatter(dk['index'],dk['lines'])\n",
    "plt.show()"
   ]
  },
  {
   "cell_type": "code",
   "execution_count": 30,
   "id": "fb88f5e0-3fd4-4958-8d83-151cffff2b66",
   "metadata": {},
   "outputs": [
    {
     "name": "stdout",
     "output_type": "stream",
     "text": [
      "[76.02462466 -0.41959918]\n"
     ]
    },
    {
     "data": {
      "text/plain": [
       "<Figure size 1000x500 with 0 Axes>"
      ]
     },
     "metadata": {},
     "output_type": "display_data"
    }
   ],
   "source": [
    "from scipy import optimize\n",
    "import scipy.stats\n",
    "plt.figure(figsize=(10,5))\n",
    "x= dk['index']\n",
    "y= dk['lines']\n",
    "def fm(x,a,b):\n",
    "    return a*x**b\n",
    "ft1,ft2 = optimize.curve_fit(fm,x,y)\n",
    "print(ft1)"
   ]
  },
  {
   "cell_type": "code",
   "execution_count": 31,
   "id": "e9309053-d569-4f61-b3e3-eaabab834032",
   "metadata": {},
   "outputs": [
    {
     "name": "stdout",
     "output_type": "stream",
     "text": [
      "[76.02462465921258, 56.83846571336897, 47.94624483149128, 42.494273390119766, 38.69608656392801, 35.84616175555528, 33.60097212627591, 31.770091755476553, 30.23812881347429, 28.93044456667181, 27.796285949032875, 26.79974870026684, 25.91460362503505, 25.121172392447573, 24.40435646649188, 23.752347072395835, 23.155754131939936, 22.607002079987563, 22.099900876277047, 21.629335086444716, 21.191034396607375, 20.78140145979207, 20.39738085439386, 20.036358014987382, 19.69608034337804, 19.3745949581431, 19.07019908136203, 18.78140013328875, 18.506883363169738, 18.245485387075107, 17.996172397408866, 17.75802209794683, 17.530208632959987, 17.31198994003822, 17.10269707820182, 16.90172517609037, 16.70852571683621, 16.522599932006507, 16.343493120638723, 16.17078974377918, 16.00410917220541, 15.843101986777581, 15.687446748337042, 15.536847168176227, 15.391029621553232, 15.24974095606409, 15.112746554341589, 14.979828616853855, 14.850784635790463, 14.725426035354902, 14.603576957394045, 14.485073174318961, 14.36976111381192, 14.257496981956725, 14.14814597324199, 14.04158155742551, 13.937684834557956, 13.836343950583032, 13.737453566889654, 13.640914378014951, 13.54663267240604, 13.45451993176069, 13.364492464997243, 13.276471073364107, 13.19038074359926, 13.106150366399204, 13.023712477761569, 12.943003021032508, 12.863961127724298, 12.786528915374435, 12.710651300898961, 12.636275828052836, 12.563352507751748, 12.491833670135147, 12.421673827361548, 12.352829546226017, 12.285259329777825, 12.21892350719469, 12.153784131240187, 12.089804882693533, 12.026950981197178, 11.965189102017892, 11.904487298262408, 11.844814928129264, 11.786142586815139, 11.728442042727103, 11.671686177681938, 11.61584893080069, 11.560905245831059, 11.506831021652296, 11.453603065737388, 11.40119905036549, 11.349597471394182, 11.298777609416167, 11.2487194931388, 11.19940386483731, 11.1508121477441, 11.102926415246907, 11.055729361778173, 11.009204275286706, 10.963335011190845, 10.918105967719535, 10.873502062554627, 10.829508710693792, 10.786111803459292, 10.743297688582906, 10.701053151302412, 10.65936539640921, 10.618222031190959, 10.577611049216893, 10.537520814916899, 10.497940048908754, 10.458857814030925, 10.420263502041077, 10.382146820943055, 10.344497782907426, 10.307306692753011, 10.270564136958713, 10.23426097317704, 10.19838832022239, 10.162937548508838, 10.127900270913742, 10.093268334044852, 10.059033809890039, 10.025188987829877, 9.991726366994621, 9.95863864894807, 9.92591873068192, 9.893559697905122, 9.861554818613609, 9.829897536926659, 9.798581467176886, 9.767600388241588, 9.736948238103851, 9.706619108632491, 9.67660724057045, 9.646907018721876, 9.617512967328627, 9.588419745627405, 9.559622143579263, 9.531115077763582, 9.502893587429085, 9.474952830694829, 9.447288080894463, 9.419894723057391, 9.392768250520842, 9.36590426166707, 9.339298456780288, 9.312946635018138, 9.286844691492814, 9.260988614457125, 9.235374482591107, 9.209998462384931, 9.184856805614059, 9.159945846902891, 9.135262001373183, 9.110801762373796, 9.086561699288474, 9.062538455418467, 9.03872874593702, 9.015129355912833, 8.991737138399776, 8.968549012590207, 8.945561962029474, 8.922773032889102, 8.900179332296522, 8.877778026719051, 8.855566340400122, 8.833541553845738, 8.81170100235926, 8.790042074622722, 8.768562211322912, 8.747258903820574, 8.726129692861129, 8.705172167325385, 8.68438396301879, 8.663762761497814, 8.64330628893212, 8.623012315001244, 8.602878651824554, 8.582903152923285, 8.563083712213555, 8.54341826302923, 8.523904777173623, 8.504541263999027, 8.485325769513096, 8.466256375511168, 8.447331198733648, 8.428548390047585, 8.40990613365163, 8.391402646303586, 8.373036176569798, 8.354805004095653, 8.336707438896491, 8.318741820668244, 8.300906518117184, 8.28319992830811, 8.265620476030428, 8.248166613181514, 8.2308368181668, 8.213629595316066, 8.196543474315423, 8.179577009654475, 8.162728780088177, 8.145997388112974, 8.129381459456706, 8.112879642581902, 8.09649060820204, 8.080213048810355, 8.064045678220847, 8.047987231121052, 8.032036462636317, 8.01619214790513, 8.000453081665249, 7.984818077850259, 7.969285969196281, 7.953855606858505, 7.938525860037271, 7.923295615613425, 7.9081637777926534, 7.893129267758574, 7.878191023334273, 7.863347998652122, 7.848599163831548, 7.833943504664619, 7.819380022309143, 7.804907732989122, 7.790525667702339, 7.7762328719348615, 7.762028405382282, 7.747911341677525, 7.73388076812499, 7.719935785440922, 7.706075507499763, 7.692299061086401, 7.678605585654082, 7.664994233087884, 7.651464167473579, 7.638014564871738, 7.624644613096951, 7.611353511502011, 7.5981404707669435, 7.58500471269274, 7.571945469999685, 7.55896198613014, 7.546053515055697, 7.53321932108854, 7.5204586786969605, 7.5077708723248735, 7.4951551962152685, 7.482610954237455, 7.470137459718049, 7.457734035275573, 7.445400012658589, 7.4331347325872805, 7.420937544598388, 7.408807806893421, 7.396744886190058, 7.384748157576667, 7.372817004369852, 7.360950817974968, 7.349148997749524, 7.3374109508694, 7.32573609219782, 7.314123844156996, 7.302573636602405, 7.291084906699609, 7.2796570988035745, 7.268289664340425, 7.256982061691565, 7.245733756080136, 7.234544219459721, 7.223412930405275, 7.212339374006204, 7.20132304176156, 7.190363431477301, 7.179460047165547, 7.168612398945817, 7.157820002948185, 7.147082381218302, 7.136399061624261, 7.125769577765256, 7.11519346888198, 7.104670279768747, 7.094199560687281, 7.083780867282144, 7.073413760497748, 7.063097806496962, 7.052832576581207, 7.04261764711208, 7.0324525994344205, 7.022337019800803, 7.0122704992974505, 7.002252633771487, 6.9922830237595495, 6.9823612744176895, 6.972486995452578, 6.962659801053937, 6.952879309828222, 6.943145144733478, 6.933456933015395, 6.923814306144496, 6.914216899754447, 6.904664353581489, 6.895156311404919, 6.885692420988648, 6.87627233402378, 6.86689570607221, 6.857562196511201, 6.848271468478947, 6.839023188821069, 6.8298170280380575, 6.820652660233604, 6.811529763063853, 6.802448017687503, 6.793407108716778, 6.784406724169235, 6.775446555420395, 6.766526297157168, 6.75764564733209, 6.74880430711831, 6.740001980865352, 6.73123837605561, 6.722513203261574, 6.713826176103777, 6.705177011209429, 6.6965654281717475, 6.687991149509953, 6.679453900629934, 6.670953409785547, 6.662489408040557, 6.654061629231206, 6.645669809929372, 6.63731368940635, 6.6289930095972, 6.620707515065685, 6.61245695296976, 6.604241073027631, 6.596059627484338, 6.58791237107889, 6.5797990610119035, 6.571719456913777, 6.563673320813344, 6.555660417107046, 6.547680512528561, 6.539733376118936, 6.531818779197172, 6.523936495331265, 6.516086300309708, 6.508267972113425, 6.50048129088814, 6.492726038917182, 6.48500200059469, 6.4773089623992455, 6.469646712867898, 6.462015042570589, 6.454413744084967, 6.446842611971574, 6.439301442749429, 6.431790034871949, 6.424308188703259, 6.41685570649484, 6.409432392362533, 6.402038052263887, 6.394672493975836, 6.387335527072717, 6.380026962904602, 6.372746614575958, 6.365494296924621, 6.3582698265010675, 6.351073021548, 6.343903701980231, 6.336761689364846, 6.329646806901671, 6.322558879404009, 6.315497733279665, 6.308463196512238, 6.301455098642677, 6.294473270751115, 6.287517545438948, 6.280587756811176, 6.273683740458996, 6.266805333442635, 6.259952374274433, 6.253124702902161, 6.246322160692569, 6.239544590415173, 6.232791836226266, 6.2260637436531425, 6.219360159578561, 6.212680932225403, 6.206025911141555, 6.199394947184999, 6.192787892509103, 6.186204600548119, 6.179644926002873, 6.17310872482666, 6.166595854211323, 6.16010617257352, 6.153639539541189, 6.147195815940183, 6.140774863781093, 6.134376546246243, 6.128000727676866, 6.1216472735604475, 6.115316050518231, 6.109006926292915, 6.102719769736478, 6.096454450798192, 6.090210840512791, 6.083988810988775, 6.0777882353969, 6.071608987958793, 6.06545094393573, 6.059313979617548, 6.0531979723117235, 6.047102800332569, 6.0410283429905824, 6.034974480581936, 6.028941094378093, 6.022928066615558, 6.016935280485778, 6.010962620125138, 6.005009970605124, 5.999077217922576, 5.993164248990091, 5.987270951626536, 5.981397214547684, 5.975542927356964, 5.969707980536334, 5.963892265437266, 5.9580956742718465, 5.952318100103983, 5.946559436840725, 5.9408195792236915, 5.935098422820608, 5.929395864016943, 5.923711800007652, 5.918046128789023, 5.912398749150624, 5.906769560667344, 5.901158463691538, 5.895565359345265, 5.88999014951262, 5.884432736832162, 5.878893024689432, 5.873370917209568, 5.867866319249991, 5.862379136393208, 5.856909274939673, 5.851456641900756, 5.846021144991783, 5.840602692625164, 5.835201193903603, 5.8298165586133885, 5.824448697217766, 5.819097520850381, 5.813762941308814, 5.808444871048176, 5.8031432231747955, 5.797857911439958, 5.7925888502337495, 5.787335954578939, 5.78209914012496, 5.776878323141944, 5.771673420514834, 5.766484349737558, 5.7613110289072775, 5.756153376718701, 5.7510113124584565, 5.74588475599954, 5.740773627795814, 5.7356778488765885, 5.730597340841235, 5.725532025853896, 5.720481826638231, 5.715446666472224, 5.710426469183065, 5.705421159142072, 5.700430661259683, 5.695454900980496, 5.6904938042783675, 5.68554729765157, 5.680615308117999, 5.675697763210434, 5.670794590971857, 5.665905719950812, 5.661031079196835, 5.65617059825591, 5.6513242071660015, 5.646491836452612, 5.6416734171244105, 5.63686888066889, 5.632078159048085, 5.627301184694332, 5.622537890506075, 5.617788209843721, 5.613052076525536, 5.608329424823583, 5.603620189459718, 5.598924305601614, 5.594241708858831, 5.589572335278938, 5.584916121343665, 5.580273003965103, 5.5756429204819415, 5.571025808655749, 5.566421606667294, 5.5618302531128965, 5.557251687000832, 5.552685847747761, 5.548132675175205, 5.543592109506058, 5.539064091361126, 5.534548561755723, 5.530045462096273, 5.525554734176981, 5.521076320176514, 5.516610162654727, 5.512156204549421, 5.507714389173135, 5.503284660209974, 5.498866961712462, 5.494461238098438, 5.4900674341479805, 5.485685495000351, 5.481315366150996, 5.47695699344855, 5.472610323091891, 5.46827530162722, 5.463951875945159, 5.459639993277896, 5.455339601196351, 5.451050647607366, 5.446773080750936, 5.442506849197452, 5.438251901844986, 5.434008187916597, 5.429775656957664, 5.425554258833244, 5.421343943725463, 5.417144662130931, 5.4129563648581716, 5.4087790030250975, 5.404612528056492, 5.400456891681531, 5.396312045931316, 5.392177943136437, 5.388054535924571, 5.383941777218079, 5.3798396202316505, 5.375748018469961, 5.371666925725349, 5.367596296075522, 5.363536083881286, 5.359486243784287, 5.355446730704789, 5.351417499839464, 5.347398506659197, 5.3433897069069385, 5.33939105659554, 5.335402512005644, 5.331424029683579, 5.327455566439269, 5.323497079344179, 5.319548525729268, 5.3156098631829645, 5.311681049549163, 5.307762042925241, 5.303852801660088, 5.299953284352162, 5.2960634498475585, 5.292183257238099, 5.288312665859436, 5.284451635289186, 5.28060012534506, 5.276758096083036, 5.272925507795525, 5.269102321009574, 5.265288496485071, 5.261483995212978, 5.257688778413572, 5.253902807534707, 5.250126044250089, 5.246358450457573, 5.242599988277469, 5.238850620050862, 5.235110308337962, 5.231379015916451, 5.227656705779853, 5.223943341135924, 5.22023888540505, 5.216543302218657, 5.2128565554176465, 5.209178609050836, 5.205509427373417, 5.201848974845424, 5.198197216130222, 5.194554116093007, 5.190919639799318, 5.187293752513555, 5.183676419697535, 5.180067607009026, 5.176467280300329, 5.172875405616842, 5.169291949195659, 5.165716877464177, 5.162150157038699, 5.158591754723076, 5.15504163750734, 5.15149977256636, 5.147966127258502, 5.144440669124313, 5.140923365885202, 5.137414185442141, 5.133913095874381, 5.130420065438168, 5.126935062565479, 5.123458055862769, 5.119989014109723, 5.116527906258026, 5.113074701430137, 5.109629368918081, 5.1061918781822415, 5.102762198850175, 5.099340300715427, 5.095926153736364, 5.092519728035011, 5.089120993895902, 5.085729921764936, 5.082346482248254, 5.078970646111111, 5.075602384276765, 5.072241667825381, 5.06888846799293, 5.065542756170112, 5.062204503901282, 5.058873682883378, 5.055550264964875, 5.052234222144731, 5.048925526571354, 5.045624150541566, 5.0423300664995905, 5.039043247036034, 5.0357636648868835, 5.032491292932519, 5.029226104196713, 5.025968071845666, 5.022717169187027, 5.019473369668932, 5.016236646879058, 5.013006974543665, 5.009784326526665, 5.0065686768286914, 5.003359999586172, 5.000158269070418, 4.996963459686712, 4.9937755459734126, 4.990594502601058, 4.98742030437148, 4.98425292621693, 4.981092343199204, 4.977938530508777, 4.974791463463954, 4.971651117510011, 4.968517468218359, 4.965390491285701, 4.962270162533213, 4.959156457905707, 4.95604935347083, 4.952948825418242, 4.949854850058825, 4.946767403823874, 4.943686463264319, 4.94061200504993, 4.937544005968553, 4.934482442925323, 4.9314272929419145, 4.928378533155773, 4.925336140819364, 4.922300093299427, 4.919270368076237, 4.916246942742865, 4.913229795004452, 4.910218902677485, 4.907214243689079, 4.904215796076264, 4.901223537985281, 4.89823744767088, 4.895257503495622, 4.892283683929197, 4.889315967547728, 4.886354333033102, 4.883398759172293, 4.8804492248566875, 4.8775057090814355, 4.874568190944774, 4.871636649647389, 4.868711064491759, 4.8657914148815165, 4.86287768032081, 4.8599698404136635, 4.857067874863359, 4.854171763471807, 4.851281486138928, 4.848397022862042, 4.845518353735255, 4.842645458948856, 4.8397783187887224, 4.836916913635716, 4.834061223965099, 4.831211230345944, 4.828366913440554, 4.825528254003885, 4.822695232882974, 4.819867831016367, 4.81704602943356, 4.814229809254432, 4.811419151688695, 4.808614038035342, 4.805814449682096, 4.803020368104868, 4.800231774867221, 4.7974486516198285, 4.794670980099949, 4.791898742130896, 4.789131919621516, 4.786370494565665, 4.7836144490417, 4.780863765211961, 4.778118425322266, 4.775378411701406, 4.772643706760643, 4.769914292993218, 4.767190152973852, 4.764471269358259, 4.761757624882663, 4.759049202363311, 4.756345984695996, 4.753647954855585, 4.750955095895539, 4.748267390947452, 4.745584823220587, 4.7429073760014075, 4.740235032653124, 4.737567776615239, 4.734905591403095, 4.732248460607424, 4.729596367893908, 4.726949297002729, 4.72430723174814, 4.72167015601802, 4.71903805377345, 4.716410909048276, 4.713788705948692, 4.711171428652806, 4.70855906141023, 4.705951588541657, 4.703348994438449, 4.700751263562225, 4.698158380444454, 4.695570329686049, 4.692987095956964, 4.690408663995794, 4.687835018609383, 4.685266144672424, 4.6827020271270685, 4.680142650982544, 4.677588001314762, 4.675038063265937, 4.672492822044209, 4.669952262923261, 4.6674163712419485, 4.664885132403926, 4.662358531877275, 4.65983655519414, 4.657319187950362, 4.654806415805119, 4.652298224480563, 4.649794599761465, 4.647295527494863, 4.644800993589701, 4.642310984016494, 4.639825484806967, 4.637344482053717, 4.63486796190987, 4.632395910588739, 4.62992831436349, 4.627465159566804, 4.625006432590541, 4.622552119885416, 4.620102207960665, 4.617656683383721, 4.6152155327798905, 4.612778742832029, 4.610346300280225, 4.6079181919214784, 4.605494404609389, 4.603074925253841, 4.600659740820694, 4.598248838331469, 4.5958422048630485, 4.5934398275473685, 4.591041693571115, 4.588647790175421, 4.586258104655577, 4.58387262436072, 4.5814913366935555, 4.57911422911005, 4.576741289119149, 4.574372504282486, 4.572007862214095, 4.569647350580123, 4.567290957098555, 4.564938669538923, 4.5625904757220335, 4.5602463635196875, 4.557906320854405, 4.555570335699153, 4.553238396077068, 4.550910490061194, 4.548586605774208, 4.546266731388155, 4.543950855124183, 4.541638965252281, 4.539331050091016, 4.537027098007275, 4.534727097416006, 4.532431036779961, 4.5301389046094425, 4.527850689462049, 4.525566379942427, 4.523285964702017, 4.5210094324388095, 4.518736771897093, 4.516467971867219, 4.514203021185345, 4.511941908733205, 4.509684623437863, 4.507431154271477, 4.50518149025106, 4.502935620438245, 4.500693533939051, 4.498455219903655, 4.496220667526151, 4.49398986604433, 4.491762804739446, 4.489539472935995, 4.487319860001483, 4.485103955346208, 4.482891748423033, 4.480683228727171, 4.47847838579596, 4.4762772092086465, 4.47407968858617, 4.471885813590947, 4.469695573926658, 4.467508959338031, 4.465325959610637, 4.463146564570673, 4.460970764084758, 4.458798548059722, 4.456629906442407, 4.454464829219452, 4.4523033064170985, 4.450145328100985, 4.447990884375942, 4.445839965385802, 4.443692561313191, 4.441548662379337, 4.439408258843876, 4.43727134100465, 4.435137899197518, 4.433007923796167, 4.430881405211911, 4.428758333893515, 4.426638700326991, 4.424522495035424, 4.422409708578776, 4.420300331553705, 4.418194354593381, 4.4160917683673, 4.4139925635811075, 4.4118967309764106, 4.409804261330605, 4.4077151454566925, 4.405629374203105, 4.403546938453526, 4.4014678291267195, 4.3993920371763515, 4.39731955359082, 4.39525036939308, 4.393184475640473, 4.391121863424562, 4.389062523870954, 4.387006448139136, 4.384953627422313, 4.382904052947232, 4.380857715974026, 4.378814607796042, 4.376774719739689, 4.374738043164263, 4.372704569461796, 4.37067429005689, 4.368647196406561, 4.366623280000081, 4.364602532358817, 4.3625849450360805, 4.360570509616967, 4.358559217718205, 4.356551060988, 4.354546031105882, 4.352544119782558, 4.350545318759755, 4.3485496198100755, 4.346557014736844, 4.344567495373964, 4.342581053585764, 4.340597681266858, 4.338617370341995, 4.336640112765917, 4.334665900523214, 4.332694725628183, 4.330726580124683, 4.328761456085993, 4.326799345614678, 4.324840240842441, 4.32288413392999, 4.320931017066898, 4.318980882471465, 4.317033722390583, 4.315089529099599, 4.3131482949021835, 4.311210012130189, 4.309274673143527, 4.307342270330026, 4.305412796105307, 4.303486242912647, 4.301562603222852, 4.299641869534127, 4.297724034371947, 4.2958090902889285, 4.293897029864704, 4.291987845705792, 4.290081530445475, 4.288178076743673, 4.286277477286818, 4.284379724787732, 4.282484811985506, 4.28059273164537, 4.2787034765585785, 4.276817039542291, 4.274933413439444, 4.273052591118642, 4.271174565474026, 4.269299329425166, 4.267426875916942, 4.265557197919422, 4.263690288427746, 4.261826140462021, 4.259964747067193, 4.258106101312939, 4.256250196293554, 4.2543970251278385, 4.252546580958982, 4.250698856954455, 4.248853846305896, 4.247011542229006, 4.245171937963431, 4.24333502677266, 4.241500801943909, 4.239669256788021, 4.237840384639355, 4.236014178855676, 4.2341906328180565, 4.232369739930763, 4.230551493621157, 4.228735887339585, 4.226922914559282, 4.225112568776263, 4.223304843509218, 4.221499732299417, 4.219697228710606, 4.217897326328901, 4.216100018762694, 4.214305299642549, 4.212513162621107, 4.210723601372981, 4.208936609594665, 4.20715218100443, 4.2053703093422286, 4.203590988369602, 4.20181421186958, 4.200039973646586, 4.198268267526343, 4.196499087355778, 4.194732427002928, 4.192968280356849, 4.19120664132752, 4.189447503845752, 4.187690861863092, 4.18593670935174, 4.184185040304451, 4.1824358487344435, 4.1806891286753185, 4.178944874180957, 4.177203079325444, 4.175463738202971, 4.1737268449277485, 4.171992393633924, 4.17026037847549, 4.168530793626197, 4.166803633279474, 4.16507889164833, 4.163356562965283, 4.161636641482264, 4.159919121470541, 4.158203997220627, 4.156491263042204, 4.154780913264034, 4.15307294223388, 4.151367344318422, 4.149664113903179, 4.147963245392419, 4.1462647332090885, 4.144568571794727, 4.142874755609382, 4.141183279131542, 4.139494136858045, 4.137807323304006, 4.136122833002738, 4.134440660505672, 4.1327608003822816, 4.131083247220005, 4.129407995624167, 4.127735040217907, 4.126064375642097, 4.124395996555271, 4.122729897633548, 4.121066073570554, 4.119404519077356, 4.117745228882377, 4.116088197731336, 4.114433420387159, 4.112780891629919, 4.111130606256759, 4.109482559081815, 4.107836744936157, 4.106193158667702, 4.1045517951411545, 4.102912649237932, 4.101275715856094, 4.099640989910273, 4.098008466331607, 4.0963781400676655, 4.094750006082386, 4.093124059356, 4.0915002948849715, 4.089878707681924, 4.088259292775577, 4.086642045210672, 4.085026960047915, 4.083414032363905, 4.0818032572510665, 4.080194629817589, 4.078588145187355, 4.0769837984998825, 4.075381584910255, 4.073781499589057, 4.072183537722311, 4.070587694511419, 4.068993965173088, 4.067402344939278, 4.065812829057133, 4.06422541278892, 4.062640091411965, 4.061056860218597, 4.059475714516078, 4.05789664962655, 4.056319660886969, 4.054744743649047, 4.053171893279187, 4.051601105158432, 4.050032374682397, 4.048465697261211, 4.046901068319462, 4.045338483296135, 4.043777937644554, 4.042219426832324, 4.040662946341273, 4.0391084916673945, 4.0375560583207895, 4.036005641825612, 4.034457237720005, 4.032910841556057, 4.031366448899732, 4.029824055330821, 4.028283656442886, 4.026745247843203, 4.025208825152706, 4.023674384005937, 4.022141920050983, 4.020611428949431, 4.019082906376308, 4.017556348020029, 4.016031749582342, 4.014509106778277, 4.012988415336094, 4.011469670997226, 4.009952869516229, 4.00843800666073, 4.006925078211375, 4.005414079961779, 4.003905007718467, 4.002397857300835, 4.000892624541086, 3.999389305284192, 3.997887895387832, 3.996388390722349, 3.9948907871706987, 3.9933950806283978, 3.9919012670034775, 3.990409342216429, 3.988919302200162, 3.98743114289995, 3.9859448602733836, 3.9844604502903223, 3.9829779089328463, 3.9814972321952102, 3.980018416083791, 3.9785414566170463, 3.9770663498254626, 3.9755930917515117, 3.9741216784496007, 3.972652105986029, 3.9711843704389396, 3.969718467898273, 3.9682543944657236, 3.966792146254691, 3.965331719390237, 3.963873110009041, 3.9624163142593507, 3.960961328300942, 3.9595081483050736, 3.9580567704544403, 3.9566071909431306, 3.9551594059765844, 3.9537134117715436, 3.9522692045560173, 3.9508267805692303, 3.9493861360615847, 3.9479472672946145, 3.9465101705409467, 3.9450748420842534, 3.9436412782192147, 3.9422094752514725, 3.940779429497591, 3.9393511372850147, 3.937924594952027, 3.9364997988477066, 3.9350767453318904, 3.93365543077513, 3.93223585155865, 3.9308180040743106, 3.9294018847245646, 3.927987489922418, 3.9265748160913914, 3.9251638596654783, 3.923754617089106, 3.922347084817096, 3.9209412593146253, 3.919537137057189, 3.918134714530557, 3.9167339882307393, 3.9153349546639458, 3.913937610346548, 3.9125419518050415, 3.9111479755760072, 3.909755678206074, 3.908365056251881, 3.9069761062800406, 3.9055888248670994, 3.904203208599503, 3.902819254073559, 3.9014369578953985, 3.9000563166809408, 3.8986773270558572, 3.8972999856555344, 3.8959242891250367, 3.894550234119073, 3.89317781730196, 3.8918070353475835, 3.8904378849393684, 3.889070362770239, 3.8877044655425865, 3.886340189968231, 3.8849775327683904, 3.883616490673643, 3.8822570604238944, 3.8808992387683428, 3.8795430224654432, 3.878188408282876, 3.8768353929975126, 3.875483973395379, 3.874134146271626, 3.872785908430492, 3.871439256685273, 3.8700941878582884, 3.868750698780847, 3.8674087862932134, 3.86606844724458, 3.8647296784930276, 3.8633924769055006, 3.8620568393577663, 3.8607227627343903, 3.8593902439287002, 3.858059279842756, 3.856729867387316, 3.855402003481808, 3.854075685054295, 3.8527509090414473, 3.8514276723885077, 3.8501059720492643, 3.848785804986016, 3.8474671681695445, 3.846150058579082, 3.8448344732022823, 3.8435204090351887, 3.842207863082206, 3.8408968323560666, 3.839587313877807, 3.8382793046767314, 3.8369728017903855, 3.8356678022645263, 3.834364303153094, 3.8330623015181797, 3.831761794429999, 3.8304627789668615, 3.8291652522151427, 3.8278692112692556, 3.826574653231621, 3.8252815752126392, 3.8239899743306616, 3.8226998477119642, 3.8214111924907166, 3.8201240058089563, 3.8188382848165583, 3.8175540266712114, 3.8162712285383855, 3.81498988759131, 3.8137100010109384, 3.8124315659859302, 3.811154579712617, 3.8098790393949775, 3.808604942244611, 3.807332285480711, 3.8060610663300363, 3.804791282026888, 3.8035229298130786, 3.802256006937909, 3.800990510658143, 3.7997264382379754, 3.7984637869490134, 3.7972025540702457, 3.7959427368880188, 3.79468433269601, 3.7934273387952038, 3.7921717524938634, 3.790917571107509, 3.7896647919588897, 3.788413412377959, 3.787163429701852, 3.785914841274855, 3.7846676444483887, 3.7834218365809753, 3.782177415038219, 3.78093437719278, 3.7796927204243516, 3.7784524421196317, 3.777213539672304, 3.7759760104830087, 3.7747398519593243, 3.773505061515737, 3.772271636573623, 3.771039574561221, 3.76980887291361, 3.768579529072686, 3.7673515404871383, 3.7661249046124254, 3.764899618910752, 3.7636756808510485, 3.7624530879089444, 3.7612318375667466, 3.7600119273134176, 3.7587933546445527, 3.757576117062356, 3.7563602120756183, 3.7551456371996945, 3.7539323899564847, 3.7527204678744046, 3.7515098684883714, 3.7503005893397767, 3.749092627976466, 3.7478859819527157, 3.7466806488292144, 3.7454766261730383, 3.7442739115576296, 3.7430725025627765, 3.7418723967745917, 3.740673591785489, 3.7394760851941657, 3.7382798746055768, 3.7370849576309184, 3.735891331887603, 3.734698994999241, 3.73350794459562, 3.7323181783126813, 3.731129693792504, 3.729942488683279, 3.7287565606392925, 3.727571907320903, 3.726388526394524, 3.7252064155326012, 3.724025572413592, 3.722845994721949, 3.721667680148096, 3.7204906263884103, 3.719314831145202, 3.718140292126694, 3.7169670070470047, 3.715794973626125, 3.7146241895899017, 3.7134546526700154, 3.7122863606039638, 3.7111193111350413, 3.7099535020123198, 3.708788930990628, 3.7076255958305353, 3.706463494298332, 3.7053026241660083, 3.7041429832112387, 3.702984569217362, 3.701827379973359, 3.7006714132738425, 3.699516666919029, 3.6983631387147278, 3.697210826472318, 3.696059728008733, 3.6949098411464414, 3.6937611637134276, 3.6926136935431755, 3.6914674284746516, 3.690322366352282, 3.6891785050259402, 3.6880358423509283, 3.6868943761879547, 3.6857541044031232, 3.6846150248679095, 3.6834771354591482, 3.682340434059013, 3.6812049185550006, 3.68007058683991, 3.678937436811832, 3.677805466374125, 3.6766746734354023, 3.675545055909514, 3.6744166117155297, 3.673289338777721, 3.6721632350255464, 3.671038298393634, 3.6699145268217626, 3.6687919182548505, 3.667670470642932, 3.666550181941146, 3.6654310501097185, 3.6643130731139437, 3.6631962489241725, 3.6620805755157915, 3.66096605086921, 3.659852672969842, 3.6587404398080925, 3.6576293493793375, 3.6565193996839143, 3.655410588727099, 3.6543029145190937, 3.653196375075013, 3.652090968414866, 3.6509866925635373, 3.64988354555078, 3.6487815254111924, 3.647680630184206, 3.6465808579140697, 3.6454822066498345, 3.6443846744453388, 3.6432882593591915, 3.6421929594547593, 3.64109877280015, 3.640005697468197, 3.638913731536446, 3.6378228730871407, 3.636733120207204, 3.6356444709882285, 3.6345569235264574, 3.633470475922772, 3.632385126282678, 3.6313008727162885, 3.630217713338311, 3.629135646268033, 3.6280546696293072, 3.6269747815505373, 3.625895980164664, 3.624818263609151, 3.623741630025968, 3.6226660775615835, 3.621591604366943, 3.620518208597459, 3.6194458884129954, 3.6183746419778577, 3.6173044674607726, 3.61623536303488, 3.6151673268777165, 3.614100357171201, 3.6130344521016244, 3.6119696098596323, 3.610905828640213, 3.6098431066426855, 3.608781442070684, 3.6077208331321455, 3.606661278039295, 3.605602775008636, 3.6045453222609334, 3.603488918021201, 3.6024335605186906, 3.601379247986876, 3.6003259786634434, 3.599273750790274, 3.598222562613437, 3.59717241238317, 3.5961232983538705, 3.5950752187840838, 3.5940281719364866, 3.5929821560778774, 3.5919371694791624, 3.590893210415344, 3.5898502771655068, 3.588808368012806, 3.5877674812444553, 3.586727615151715, 3.5856887680298772, 3.584650938178256, 3.5836141239001735, 3.58257832350295, 3.5815435352978886, 3.5805097576002654, 3.579476988729318, 3.57844522700823, 3.577414470764123, 3.5763847183280415, 3.575355968034945, 3.5743282182236906, 3.5733014672370262, 3.5722757134215763, 3.57125095512783, 3.5702271907101317, 3.569204418526666, 3.568182636939449, 3.567161844314316, 3.5661420390209084, 3.5651232194326656, 3.564105383926809, 3.563088530884336, 3.562072658690003, 3.5610577657323192, 3.5600438504035323, 3.559030911099618, 3.558018946220269, 3.557007954168883, 3.5559979333525544, 3.5549888821820597, 3.5539807990718484, 3.5529736824400318, 3.5519675307083722, 3.550962342302272, 3.5499581156507616, 3.5489548491864906, 3.547952541345716, 3.546951190568292, 3.5459507952976574, 3.544951353980829, 3.543952865068385, 3.542955327014461, 3.5419587382767346, 3.5409630973164177, 3.539968402598244, 3.53897465259046, 3.5379818457648144, 3.536989980596548, 3.5359990555643814, 3.535009069150508, 3.5340200198405816, 3.533031906123705, 3.5320447264924244, 3.5310584794427147, 3.5300731634739706, 3.5290887770889983, 3.5281053187940032, 3.5271227870985826, 3.526141180515713, 3.5251604975617408, 3.524180736756374, 3.5232018966226706, 3.5222239756870306, 3.5212469724791844, 3.520270885532183, 3.519295713382392, 3.518321454569475, 3.5173481076363924, 3.5163756711293845, 3.515404143597966, 3.5144335235949153, 3.513463809676266, 3.512495000401295, 3.5115270943325156, 3.5105600900356673, 3.5095939860797056, 3.5086287810367947, 3.5076644734822957, 3.506701061994759, 3.505738545155915, 3.5047769215506643, 3.503816189767069, 3.502856348396343, 3.5018973960328434, 3.5009393312740618, 3.4999821527206145, 3.499025858976234, 3.498070448647759, 3.4971159203451285, 3.4961622726813686, 3.495209504272586, 3.49425761373796, 3.493306599699733, 3.492356460783199, 3.4914071956167, 3.4904588028316117, 3.4895112810623408, 3.488564628946311, 3.487618845123956, 3.4866739282387136, 3.4857298769370137, 3.484786689868272, 3.483844365684879, 3.4829029030421945, 3.4819623005985365, 3.4810225570151756, 3.480083670956324, 3.4791456410891275, 3.4782084660836605, 3.477272144612912, 3.476336675352783, 3.475402056982073, 3.474468288182477, 3.4735353676385743, 3.4726032940378184, 3.4716720660705342, 3.470741682429907, 3.4698121418119716, 3.46888344291561, 3.467955584442539, 3.4670285650973045, 3.466102383587272, 3.4651770386226195, 3.46425252891633, 3.463328853184183, 3.4624060101447465, 3.4614839985193697, 3.4605628170321747, 3.4596424644100496, 3.458722939382639, 3.457804240682339, 3.4568863670442864, 3.4559693172063537, 3.45505308990914, 3.4541376838959637, 3.453223097912854]\n"
     ]
    }
   ],
   "source": [
    "_y=[y for y in fm(x,ft1[0],ft1[1])]\n",
    "print(_y)"
   ]
  },
  {
   "cell_type": "code",
   "execution_count": 32,
   "id": "1256133e-d68f-4c3e-9424-152261cb86d6",
   "metadata": {},
   "outputs": [
    {
     "data": {
      "image/png": "[encoded data removed]",
      "text/plain": [
       "<Figure size 640x480 with 1 Axes>"
      ]
     },
     "metadata": {},
     "output_type": "display_data"
    }
   ],
   "source": [
    "plt.scatter(x,y)\n",
    "plt.plot(x,_y,color='k',lw=2)\n",
    "plt.show()"
   ]
  },
  {
   "cell_type": "code",
   "execution_count": 34,
   "id": "6af449ef-61c1-4f53-acde-37c4fe76edc8",
   "metadata": {},
   "outputs": [
    {
     "data": {
      "image/png": "[encoded data removed]",
      "text/plain": [
       "<Figure size 640x480 with 1 Axes>"
      ]
     },
     "metadata": {},
     "output_type": "display_data"
    }
   ],
   "source": [
    "plt.scatter(x,y)\n",
    "plt.plot(x,_y,color='k',lw=2)\n",
    "plt.text(1200,50,'${%.1f}x^{%.3f}$'%(ft1[0],ft1[1]),fontsize=12)\n",
    "plt.show()"
   ]
  },
  {
   "cell_type": "code",
   "execution_count": 36,
   "id": "9c45201c-0e4e-474f-8ccc-d07889deaca3",
   "metadata": {},
   "outputs": [
    {
     "name": "stdout",
     "output_type": "stream",
     "text": [
      "0.8744519984115776\n"
     ]
    }
   ],
   "source": [
    "s1,i,r,p,s2=scipy.stats.linregress(y,_y)\n",
    "print(r**2)"
   ]
  },
  {
   "cell_type": "code",
   "execution_count": 48,
   "id": "d264a456-fa34-467b-8cc6-00e32e1cea45",
   "metadata": {},
   "outputs": [
    {
     "data": {
      "image/png": "[encoded data removed]",
      "text/plain": [
       "<Figure size 1000x500 with 1 Axes>"
      ]
     },
     "metadata": {},
     "output_type": "display_data"
    }
   ],
   "source": [
    "plt.figure(figsize=(10,5))\n",
    "x=dk['index']\n",
    "y=dk['lines']\n",
    "def fm(x,a,b):\n",
    "    return a*x**b\n",
    "ft1,ft2 = optimize.curve_fit(fm,x,y)\n",
    "_y=[y for y in fm(x,ft1[0],ft1[1])]\n",
    "s1,i,r,p,s2=scipy.stats.linregress(y,_y)\n",
    "plt.scatter(x,y)\n",
    "plt.plot(x,_y,color='k',lw=2)\n",
    "plt.text(200,70,'Urban road node degree center order scale distribution',fontsize=12)\n",
    "plt.text(1200,50,'$y={%.1f}x^{%.3f}$'%(ft1[0],ft1[1]),fontsize=12)\n",
    "plt.text(1200,40,'$R^2={%.4f}$'%(r**2),fontsize=12)\n",
    "plt.show()"
   ]
  },
  {
   "cell_type": "code",
   "execution_count": null,
   "id": "621b6f47-e8e3-4003-8eb8-79c405bab461",
   "metadata": {},
   "outputs": [],
   "source": []
  }
 ],
 "metadata": {
  "kernelspec": {
   "display_name": "Python 3 (ipykernel)",
   "language": "python",
   "name": "python3"
  },
  "language_info": {
   "codemirror_mode": {
    "name": "ipython",
    "version": 3
   },
   "file_extension": ".py",
   "mimetype": "text/x-python",
   "name": "python",
   "nbconvert_exporter": "python",
   "pygments_lexer": "ipython3",
   "version": "3.8.20"
  }
 },
 "nbformat": 4,
 "nbformat_minor": 5
}
